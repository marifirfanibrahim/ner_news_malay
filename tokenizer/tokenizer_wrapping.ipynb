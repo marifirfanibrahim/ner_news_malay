{
 "cells": [
  {
   "cell_type": "code",
   "execution_count": null,
   "id": "53cef81b",
   "metadata": {},
   "outputs": [],
   "source": [
    "# import libraries\n",
    "from tokenizers import Tokenizer\n",
    "from transformers import PreTrainedTokenizerFast"
   ]
  },
  {
   "cell_type": "code",
   "execution_count": null,
   "id": "0a18d37a",
   "metadata": {},
   "outputs": [],
   "source": [
    "# load tokenizer\n",
    "bpe_tokenizer = Tokenizer.from_file(\"/workspaces/ner_news_malay/tokenizer/tokenizer_model/malay_news_bpe_tokenizer.json\")"
   ]
  },
  {
   "cell_type": "code",
   "execution_count": 6,
   "id": "80c30ad6",
   "metadata": {},
   "outputs": [],
   "source": [
    "# wrap tokenizer\n",
    "wrap_bpe_tokenizer = PreTrainedTokenizerFast(\n",
    "    tokenizer_object=bpe_tokenizer,\n",
    "    bos_token=\"[CLS]\",\n",
    "    eos_token=\"[SEP]\",\n",
    "    unk_token=\"[UNK]\",\n",
    "    sep_token=\"[SEP]\",\n",
    "    pad_token=\"[PAD]\",\n",
    "    cls_token=\"[CLS]\",\n",
    "    mask_token=\"[MASK]\"\n",
    ")"
   ]
  },
  {
   "cell_type": "code",
   "execution_count": null,
   "id": "b532ddfd",
   "metadata": {},
   "outputs": [
    {
     "data": {
      "text/plain": [
       "('tokenizer_wrapped_model/tokenizer_config.json',\n",
       " 'tokenizer_wrapped_model/special_tokens_map.json',\n",
       " 'tokenizer_wrapped_model/tokenizer.json')"
      ]
     },
     "execution_count": 7,
     "metadata": {},
     "output_type": "execute_result"
    }
   ],
   "source": [
    "# save wrapped tokenizer\n",
    "import os\n",
    "\n",
    "tokenizer_wrapped_folder = 'tokenizer_wrapped_model'                                                        # setup save folder\n",
    "os.makedirs(tokenizer_wrapped_folder, exist_ok=True)\n",
    "\n",
    "wrap_bpe_tokenizer.save_pretrained(tokenizer_wrapped_folder)"
   ]
  },
  {
   "cell_type": "code",
   "execution_count": null,
   "id": "5d4e759a",
   "metadata": {},
   "outputs": [
    {
     "name": "stdout",
     "output_type": "stream",
     "text": [
      "Tokenization test:\n",
      "Original: Harga minyak sawit meningkat 15% di pasaran antarabangsa\n",
      "Tokens: ['[UNK]', 'ar', 'ga', 'minyak', 'sa', 'w', 'it', 'mening', 'kat', '1', '5', '[UNK]', 'di', 'pasaran', 'antarabangsa', '[PAD]', '[PAD]', '[PAD]', '[PAD]', '[PAD]', '[PAD]', '[PAD]', '[PAD]', '[PAD]', '[PAD]', '[PAD]', '[PAD]', '[PAD]', '[PAD]', '[PAD]', '[PAD]', '[PAD]']\n"
     ]
    }
   ],
   "source": [
    "# test wrapped tokenizer\n",
    "test_sentence = \"Harga minyak sawit meningkat 15% di pasaran antarabangsa\"\n",
    "encoding = wrap_bpe_tokenizer(\n",
    "    test_sentence,\n",
    "    padding=\"max_length\",\n",
    "    max_length=32,\n",
    "    truncation=True,\n",
    "    return_tensors=\"pt\"\n",
    ")\n",
    "\n",
    "print(\"Tokenization test:\")\n",
    "print(f\"Original: {test_sentence}\")\n",
    "print(f\"Tokens: {wrap_bpe_tokenizer.convert_ids_to_tokens(encoding['input_ids'][0])}\")"
   ]
  }
 ],
 "metadata": {
  "kernelspec": {
   "display_name": "Python 3",
   "language": "python",
   "name": "python3"
  },
  "language_info": {
   "codemirror_mode": {
    "name": "ipython",
    "version": 3
   },
   "file_extension": ".py",
   "mimetype": "text/x-python",
   "name": "python",
   "nbconvert_exporter": "python",
   "pygments_lexer": "ipython3",
   "version": "3.12.1"
  }
 },
 "nbformat": 4,
 "nbformat_minor": 5
}
