{
  "cells": [
    {
      "cell_type": "markdown",
      "metadata": {
        "id": "wgPNE-2eYP5s"
      },
      "source": [
        "## Import Libraries"
      ]
    },
    {
      "cell_type": "code",
      "execution_count": 19,
      "metadata": {
        "id": "_hfqRXIvYP5t"
      },
      "outputs": [],
      "source": [
        "# tokenizers\n",
        "from tokenizers import Tokenizer, normalizers\n",
        "from tokenizers.models import BPE, WordPiece, Unigram\n",
        "from tokenizers.trainers import BpeTrainer, WordPieceTrainer, UnigramTrainer\n",
        "from tokenizers.pre_tokenizers import Whitespace\n",
        "from tokenizers.normalizers import NFD, StripAccents\n",
        "\n",
        "# file management\n",
        "import os\n",
        "import glob\n",
        "import pandas as pd\n",
        "\n",
        "# evaluation\n",
        "import time\n",
        "import matplotlib.pyplot as plt"
      ]
    },
    {
      "cell_type": "markdown",
      "metadata": {
        "id": "tnjXabniYP5u"
      },
      "source": [
        "-------------\n",
        "## Load Data\n",
        "1. get news data\n",
        "2. extract text\n",
        "3. save extraction"
      ]
    },
    {
      "cell_type": "code",
      "execution_count": 20,
      "metadata": {
        "colab": {
          "base_uri": "https://localhost:8080/"
        },
        "id": "2dh4dIw2YP5u",
        "outputId": "27438966-0c92-445b-ff6a-61abfe173144"
      },
      "outputs": [
        {
          "name": "stdout",
          "output_type": "stream",
          "text": [
            "found 1 parquet files\n"
          ]
        }
      ],
      "source": [
        "# get news data\n",
        "news_folder = '/workspaces/ner_news_malay/scraper/news'\n",
        "parquet_files = glob.glob(os.path.join(news_folder, '*.parquet'))\n",
        "print(f\"found {len(parquet_files)} parquet files\")"
      ]
    },
    {
      "cell_type": "code",
      "execution_count": 21,
      "metadata": {
        "colab": {
          "base_uri": "https://localhost:8080/"
        },
        "id": "PeN_wVJmYP5v",
        "outputId": "b03c0070-45b6-4cc0-9e12-267287368352"
      },
      "outputs": [],
      "source": [
        "# extract text from files\n",
        "corpus_text = []\n",
        "for file_path in parquet_files:\n",
        "    try:\n",
        "        df = pd.read_parquet(file_path)\n",
        "        corpus_text.extend(df['Title'].dropna().str.lower().tolist())\n",
        "        corpus_text.extend(df['Summary'].dropna().str.lower().tolist())\n",
        "    except Exception as e:\n",
        "        print(f\"error processing {file_path}: {str(e)}\")"
      ]
    },
    {
      "cell_type": "code",
      "execution_count": 22,
      "metadata": {
        "colab": {
          "base_uri": "https://localhost:8080/"
        },
        "id": "4YdmioeRYP5w",
        "outputId": "b9658578-2ee3-4424-986e-7e794cf50368"
      },
      "outputs": [
        {
          "name": "stdout",
          "output_type": "stream",
          "text": [
            "corpus size: 262 sentences\n"
          ]
        }
      ],
      "source": [
        "# save corpus to text file\n",
        "corpus_file = 'malay_news_corpus.txt'\n",
        "\n",
        "with open(corpus_file, 'w', encoding='utf-8') as f:\n",
        "    for text in corpus_text:\n",
        "        f.write(text + '\\n')\n",
        "print(f\"corpus size: {len(corpus_text)} sentences\")"
      ]
    },
    {
      "cell_type": "markdown",
      "metadata": {
        "id": "OLVCuZO_YP5w"
      },
      "source": [
        "---------\n",
        "## Training\n",
        "1. load algorithms\n",
        "2. configure trainers\n",
        "3. train tokenizers"
      ]
    },
    {
      "cell_type": "code",
      "execution_count": 23,
      "metadata": {
        "id": "oZNN6QMoYP5w"
      },
      "outputs": [],
      "source": [
        "# bpe\n",
        "bpe_tokenizer = Tokenizer(BPE(unk_token=\"[UNK]\"))\n",
        "bpe_tokenizer.normalizer = normalizers.Sequence([NFD(), StripAccents()])    # normalization\n",
        "bpe_tokenizer.pre_tokenizer = Whitespace()                                  # remove whitespaces\n",
        "\n",
        "# wordpiece\n",
        "wp_tokenizer = Tokenizer(WordPiece(unk_token=\"[UNK]\"))\n",
        "wp_tokenizer.normalizer = normalizers.Sequence([NFD(), StripAccents()])\n",
        "wp_tokenizer.pre_tokenizer = Whitespace()\n",
        "\n",
        "# unigram\n",
        "uni_tokenizer = Tokenizer(Unigram())\n",
        "uni_tokenizer.normalizer = normalizers.Sequence([NFD(), StripAccents()])\n",
        "uni_tokenizer.pre_tokenizer = Whitespace()"
      ]
    },
    {
      "cell_type": "code",
      "execution_count": 24,
      "metadata": {
        "id": "fs7utCHQYP5x"
      },
      "outputs": [],
      "source": [
        "# trainers\n",
        "vocab_size = 30000\n",
        "min_frequency = 2\n",
        "special_tokens = [\"[UNK]\", \"[PAD]\", \"[CLS]\", \"[SEP]\", \"[MASK]\"]\n",
        "\n",
        "# bpe\n",
        "bpe_trainer = BpeTrainer(\n",
        "    vocab_size=vocab_size,\n",
        "    min_frequency=min_frequency,\n",
        "    special_tokens=special_tokens,\n",
        "    show_progress=True\n",
        ")\n",
        "\n",
        "# wordpiece\n",
        "wp_trainer = WordPieceTrainer(\n",
        "    vocab_size=vocab_size,\n",
        "    special_tokens=special_tokens,\n",
        "    show_progress=True,\n",
        "    continuing_subword_prefix=\"##\"\n",
        ")\n",
        "\n",
        "# unigram\n",
        "uni_trainer = UnigramTrainer(\n",
        "    vocab_size=vocab_size,\n",
        "    special_tokens=special_tokens,\n",
        "    show_progress=True,\n",
        "    unk_token=\"[UNK]\"\n",
        ")"
      ]
    },
    {
      "cell_type": "code",
      "execution_count": 25,
      "metadata": {
        "colab": {
          "base_uri": "https://localhost:8080/"
        },
        "id": "OKPh6Wd3YP5x",
        "outputId": "1ca68d92-6306-4c61-93e0-ce793aafac95"
      },
      "outputs": [
        {
          "name": "stdout",
          "output_type": "stream",
          "text": [
            "\n",
            "\n",
            "\n",
            "bpe training completed in 0.06 seconds\n",
            "\n",
            "\n"
          ]
        },
        {
          "name": "stdout",
          "output_type": "stream",
          "text": [
            "\n",
            "wordpiece training completed in 0.11 seconds\n",
            "\n",
            "\n",
            "unigram training completed in 0.05 seconds\n"
          ]
        }
      ],
      "source": [
        "# train tokenizers\n",
        "tokenizer_folder = 'tokenizer_model'                                                        # setup save folder\n",
        "os.makedirs(tokenizer_folder, exist_ok=True)\n",
        "\n",
        "tokenizers = {\n",
        "    \"bpe\": (bpe_tokenizer, bpe_trainer),\n",
        "    \"wordpiece\": (wp_tokenizer, wp_trainer),\n",
        "    \"unigram\": (uni_tokenizer, uni_trainer)\n",
        "}\n",
        "\n",
        "for name, (tokenizer, trainer) in tokenizers.items():\n",
        "    start_time = time.time()\n",
        "    tokenizer.train(files=[corpus_file], trainer=trainer)\n",
        "    training_time = time.time() - start_time\n",
        "\n",
        "    # save tokenizer\n",
        "    save_path = os.path.join(tokenizer_folder, f\"malay_news_{name}_tokenizer.json\")\n",
        "    tokenizer.save(save_path)\n",
        "    print(f\"{name} training completed in {training_time:.2f} seconds\")"
      ]
    },
    {
      "cell_type": "markdown",
      "metadata": {
        "id": "AUMmYWkkYP5x"
      },
      "source": [
        "-----------\n",
        "## Evaluation\n",
        "1. oov\n",
        "2. speed\n",
        "3. average tokens/sentence"
      ]
    },
    {
      "cell_type": "code",
      "execution_count": 26,
      "metadata": {
        "colab": {
          "base_uri": "https://localhost:8080/"
        },
        "id": "RR5Ms3UHYP5x",
        "outputId": "6329425e-87ee-4b24-ea49-4833136ab295"
      },
      "outputs": [
        {
          "name": "stdout",
          "output_type": "stream",
          "text": [
            "\n",
            "sentence 1: harga minyak sawit meningkat 15% di pasaran antarabangsa bulan lalu\n",
            "  bpe      : har ga minyak sa w it mening kat 1 5 [UNK] di pasaran antarabangsa bulan lalu\n",
            "  wordpiece: har ##ga minyak sa ##w ##it mening ##ka ##t 1 ##5 [UNK] di pasaran antarabangsa bulan lalu\n",
            "  unigram  : har ga mi nyak sa wi t mening kat 1 5 % di pas ar an antara bangsa bulan lalu\n",
            "\n",
            "sentence 2: kerajaan melancarkan inisiatif digital baharu dengan peruntukan rm500 juta\n",
            "  bpe      : kerajaan mel anc arkan ini si ati f di gi tal baharu dengan peruntukan rm 500 juta\n",
            "  wordpiece: kerajaan melancarkan inisiatif digital baharu dengan peruntukan rm ##5 ##00 juta\n",
            "  unigram  : ke raja an mel an car kan ini sia tif di gi ta l ba haru d engan peruntuk an rm 500 jut a\n",
            "\n",
            "sentence 3: apakah kesan teknologi blockchain terhadap industri kewangan malaysia?\n",
            "  bpe      : ap ak ah ke san te k n ol o gi b lo c k ch ain terhadap in du st ri kewangan malaysia ?\n",
            "  wordpiece: apa ##ka ##h kes ##an teknologi b ##l ##o ##c ##kc ##ha ##in terhadap ind ##ustr ##i kewangan malaysia ?\n",
            "  unigram  : apa kah kes an te k n olo gi b lo c k c hai n terhadap indu stri ke wang an m alay sia ?\n",
            "\n",
            "sentence 4: pendidikan stem menjadi keutamaan nasional mulai tahun 2025\n",
            "  bpe      : pen di di kan s tem menjadi ke utama an nasional mula i tahun 2025\n",
            "  wordpiece: pendidikan st ##em menjadi ke ##ut ##ama ##an nasional mulai tahun 2025\n",
            "  unigram  : pendi di kan s te m menjadi ke u tama an nasi onal mula i ta hun 202 5\n",
            "\n",
            "sentence 5: syarikat tempatan, abc sdn bhd, mencatatkan keuntungan rekod sebanyak rm2.4 bilion\n",
            "  bpe      : syarikat tempatan , ab c s d n bh d , men cat atkan keuntungan rekod sebanyak rm 2 . 4 bilion\n",
            "  wordpiece: syarikat tempatan , abc s ##d ##n bh ##d , mencatat ##kan keuntungan rekod sebanyak rm ##2 . 4 bilion\n",
            "  unigram  : sya rikat tempat an , a b c s d n b h d , menca ta t kan ke untu ngan r eko d seba nyak rm 2 . 4 bil ion\n",
            "\n",
            "sentence 6: dr. ahmad zainuddin menjelaskan: 'inovasi penting untuk kemajuan negara'\n",
            "  bpe      : dr . ah ma d zainuddin menjelaskan : ' in o vasi penting untuk kem aju an negara '\n",
            "  wordpiece: dr . ahmad zainuddin menjelaskan : ' in ##ov ##asi penting untuk kemajuan negara '\n",
            "  unigram  : d r . ah ma d za i nud di n menjela s kan : ' in ov asi penting untuk ke maju an nega ra '\n",
            "\n",
            "sentence 7: festival kebudayaan akan diadakan dari 15-20 ogos di pusat konvensi klcc\n",
            "  bpe      : fe s ti v al ke bu daya an akan di ada kan dari 1 5 - 20 ogos di pusat kon v en si klcc\n",
            "  wordpiece: fes ##tiv ##al keb ##uda ##ya ##an akan dia ##d ##akan dari 1 ##5 - 20 ogos di pusat konven ##si klcc\n",
            "  unigram  : fe s tiv al kebu d aya an akan di ada kan dari 1 5 - 20 og os di pu sat kon v ensi kl c c\n",
            "\n",
            "sentence 8: pasukan bola sepak kebangsaan berjaya ke pusingan akhir setelah mengalahkan indonesia 3-1\n",
            "  bpe      : pasukan bola sepak kebangsaan berjaya ke pus ingan ak hir se telah meng alah kan in don e sia 3 - 1\n",
            "  wordpiece: pasukan bola sepak kebangsaan berjaya ke pusingan ak ##hir setelah meng ##alah ##kan ind ##on ##esi ##a 3 - 1\n",
            "  unigram  : pasukan bola sepak ke bangsa an ber jaya ke p usi ngan ak hir se tel ah menga lah kan in don e sia 3 - 1\n",
            "\n",
            "sentence 9: kajian menunjukkan 70% rakyat malaysia menyokong penggunaan tenaga boleh diperbaharui\n",
            "  bpe      : ka ji an menunjukkan 7 0 [UNK] rakyat malaysia meny o kon g peng gun aan ten a ga boleh diper baharu i\n",
            "  wordpiece: kajian menunjukkan 70 [UNK] rakyat malaysia meny ##ok ##ong pengguna ##an ten ##ag ##a boleh diper ##bah ##aru ##i\n",
            "  unigram  : ka ji an men unjuk kan 70 % rak yat m alay sia meny oko ng p engguna an t en aga bol eh diper ba haru i\n",
            "\n",
            "sentence 10: bagaimanakah implikasi kenaikan kadar faedah terhadap ekonomi domestik?\n",
            "  bpe      : bagai man ak ah im p likasi ken ai kan kadar faedah terhadap ekonomi do me s tik ?\n",
            "  wordpiece: b ##agai ##man ##aka ##h im ##p ##lik ##asi kena ##ikan kadar faedah terhadap ekonomi d ##om ##est ##ik ?\n",
            "  unigram  : bag a im an ak ah imp lik asi ke naik an ka dar fa edah terhadap eko n omi do me s tik ?\n"
          ]
        }
      ],
      "source": [
        "test_sentences = [\n",
        "    \"harga minyak sawit meningkat 15% di pasaran antarabangsa bulan lalu\",\n",
        "    \"kerajaan melancarkan inisiatif digital baharu dengan peruntukan rm500 juta\",\n",
        "    \"apakah kesan teknologi blockchain terhadap industri kewangan malaysia?\",\n",
        "    \"pendidikan stem menjadi keutamaan nasional mulai tahun 2025\",\n",
        "    \"syarikat tempatan, abc sdn bhd, mencatatkan keuntungan rekod sebanyak rm2.4 bilion\",\n",
        "    \"dr. ahmad zainuddin menjelaskan: 'inovasi penting untuk kemajuan negara'\",\n",
        "    \"festival kebudayaan akan diadakan dari 15-20 ogos di pusat konvensi klcc\",\n",
        "    \"pasukan bola sepak kebangsaan berjaya ke pusingan akhir setelah mengalahkan indonesia 3-1\",\n",
        "    \"kajian menunjukkan 70% rakyat malaysia menyokong penggunaan tenaga boleh diperbaharui\",\n",
        "    \"bagaimanakah implikasi kenaikan kadar faedah terhadap ekonomi domestik?\"\n",
        "]\n",
        "\n",
        "results = {}\n",
        "for name, (tokenizer, _) in tokenizers.items():\n",
        "    # test sentences\n",
        "    tokenizations = []\n",
        "    for sentence in test_sentences:\n",
        "        encoding = tokenizer.encode(sentence)\n",
        "        tokenizations.append({\n",
        "            \"original\": sentence,\n",
        "            \"tokens\": encoding.tokens,\n",
        "            \"token_count\": len(encoding.tokens)\n",
        "        })\n",
        "\n",
        "    # speed test\n",
        "    start_time = time.time()\n",
        "    with open(corpus_file, 'r', encoding='utf-8') as f:\n",
        "        lines = f.readlines()[:1000]\n",
        "        for line in lines:\n",
        "            tokenizer.encode(line)\n",
        "    speed = time.time() - start_time\n",
        "\n",
        "    # average tokens\n",
        "    sample_size = min(1000, len(corpus_text))\n",
        "    total_tokens = 0\n",
        "    total_words = 0\n",
        "\n",
        "    for text in corpus_text[:sample_size]:\n",
        "        encoding = tokenizer.encode(text)\n",
        "        total_tokens += len(encoding.tokens)    # per sentence\n",
        "        total_words += len(text.split())        # per word\n",
        "\n",
        "    avg_tokens_per_sentence = total_tokens / sample_size\n",
        "    avg_tokens_per_word = total_tokens / total_words\n",
        "\n",
        "    results[name] = {\n",
        "        \"tokenizations\": tokenizations,\n",
        "        \"speed_sec\": speed,\n",
        "        \"avg_tokens_per_sentence\": avg_tokens_per_sentence,\n",
        "        \"avg_tokens_per_word\": avg_tokens_per_word\n",
        "    }\n",
        "\n",
        "# display\n",
        "for i, sentence in enumerate(test_sentences):\n",
        "    print(f\"\\nsentence {i+1}: {sentence}\")\n",
        "    for algo in results:\n",
        "        tokens = results[algo]['tokenizations'][i]['tokens']\n",
        "        print(f\"  {algo:<9}: {' '.join(tokens)}\")"
      ]
    },
    {
      "cell_type": "code",
      "execution_count": 27,
      "metadata": {
        "colab": {
          "base_uri": "https://localhost:8080/"
        },
        "id": "OZdJcG_nYP5y",
        "outputId": "143dc1b1-5d2e-44a1-9561-05ba0eb0d2c4"
      },
      "outputs": [
        {
          "name": "stdout",
          "output_type": "stream",
          "text": [
            "number of sentences: 262 sentences\n",
            "number of words    : 5282 words\n"
          ]
        }
      ],
      "source": [
        "# number of sentences and number of words\n",
        "print(f\"number of sentences: {len(corpus_text)} sentences\")\n",
        "print(f\"number of words    : {total_words} words\")"
      ]
    },
    {
      "cell_type": "code",
      "execution_count": 28,
      "metadata": {
        "colab": {
          "base_uri": "https://localhost:8080/"
        },
        "id": "NId7YtQfYP5y",
        "outputId": "8c119e62-53d7-409f-9669-bafc57db5909"
      },
      "outputs": [
        {
          "name": "stdout",
          "output_type": "stream",
          "text": [
            "algorithm  | speed (s) | avg tokens/sentence) | avg tokens/word\n",
            "bpe        | 0.0189    | 28.31                | 1.40\n",
            "wordpiece  | 0.0091    | 23.60                | 1.17\n",
            "unigram    | 0.0243    | 45.73                | 2.27\n"
          ]
        }
      ],
      "source": [
        "# comparing tokenizers\n",
        "print(f\"{'algorithm':<10} | {'speed (s)':<9} | {'avg tokens/sentence':<15}) | {'avg tokens/word':<10}\")\n",
        "for algo, res in results.items():\n",
        "    print(f\"{algo:<10} | {res['speed_sec']:.4f}    | {res['avg_tokens_per_sentence']:.2f}                | {res['avg_tokens_per_word']:.2f}\")"
      ]
    },
    {
      "cell_type": "code",
      "execution_count": 29,
      "metadata": {
        "colab": {
          "base_uri": "https://localhost:8080/",
          "height": 507
        },
        "id": "Jj5DVMHGYP5y",
        "outputId": "3a21d1cf-0ed6-41c2-bed3-21447f779a73"
      },
      "outputs": [
        {
          "data": {
            "image/png": "[encoded data removed]",
            "text/plain": [
              "<Figure size 1800x500 with 3 Axes>"
            ]
          },
          "metadata": {},
          "output_type": "display_data"
        }
      ],
      "source": [
        "# visualization\n",
        "plt.figure(figsize=(18, 5))\n",
        "\n",
        "# speed\n",
        "plt.subplot(1, 3, 1)\n",
        "speeds = [results[algo]['speed_sec'] for algo in results]\n",
        "plt.bar(results.keys(), speeds, color=['skyblue','lightgreen','salmon'])\n",
        "plt.title('tokenization speed')\n",
        "plt.ylabel('time (seconds)')\n",
        "for i, v in enumerate(speeds):\n",
        "    plt.text(i, v, f\"{v:.2f}\", ha='center', va='bottom')\n",
        "\n",
        "# token efficiency\n",
        "plt.subplot(1, 3, 2)\n",
        "avg_tokens = [results[algo]['avg_tokens_per_sentence'] for algo in results]\n",
        "plt.bar(results.keys(), avg_tokens, color=['skyblue','lightgreen','salmon'])\n",
        "plt.title('average tokens per sentence')\n",
        "plt.ylabel('token count')\n",
        "for i, v in enumerate(avg_tokens):\n",
        "    plt.text(i, v, f\"{v:.2f}\", ha='center', va='bottom')\n",
        "\n",
        "# token efficiency\n",
        "plt.subplot(1, 3, 3)\n",
        "avg_tokens = [results[algo]['avg_tokens_per_word'] for algo in results]\n",
        "plt.bar(results.keys(), avg_tokens, color=['skyblue','lightgreen','salmon'])\n",
        "plt.title('average tokens per word')\n",
        "plt.ylabel('token count')\n",
        "for i, v in enumerate(avg_tokens):\n",
        "    plt.text(i, v, f\"{v:.2f}\", ha='center', va='bottom')\n",
        "\n",
        "\n",
        "# display\n",
        "plt.tight_layout()\n",
        "plt.show()"
      ]
    },
    {
      "cell_type": "markdown",
      "metadata": {
        "id": "kUiviLnmYP5y"
      },
      "source": [
        "This analysis covers around 700 sentences with 15K words.\n",
        "Based on these graphs, the WordPiece and BPE algorithms seems to be the best options to use for tokenizers. More data is needed for better readings."
      ]
    }
  ],
  "metadata": {
    "colab": {
      "provenance": []
    },
    "kernelspec": {
      "display_name": "Python 3",
      "language": "python",
      "name": "python3"
    },
    "language_info": {
      "codemirror_mode": {
        "name": "ipython",
        "version": 3
      },
      "file_extension": ".py",
      "mimetype": "text/x-python",
      "name": "python",
      "nbconvert_exporter": "python",
      "pygments_lexer": "ipython3",
      "version": "3.12.1"
    }
  },
  "nbformat": 4,
  "nbformat_minor": 0
}
