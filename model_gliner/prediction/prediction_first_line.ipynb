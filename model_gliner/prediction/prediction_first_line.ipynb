{
 "cells": [
  {
   "cell_type": "code",
   "execution_count": 1,
   "id": "1798bd65",
   "metadata": {},
   "outputs": [
    {
     "name": "stderr",
     "output_type": "stream",
     "text": [
      "C:\\Users\\Arif Irfan Ibrahim\\AppData\\Local\\Packages\\PythonSoftwareFoundation.Python.3.13_qbz5n2kfra8p0\\LocalCache\\local-packages\\Python313\\site-packages\\tqdm\\auto.py:21: TqdmWarning: IProgress not found. Please update jupyter and ipywidgets. See https://ipywidgets.readthedocs.io/en/stable/user_install.html\n",
      "  from .autonotebook import tqdm as notebook_tqdm\n"
     ]
    }
   ],
   "source": [
    "from gliner import GLiNER\n",
    "import glob\n",
    "import os\n",
    "import pandas as pd"
   ]
  },
  {
   "cell_type": "code",
   "execution_count": 2,
   "id": "14e9901b",
   "metadata": {},
   "outputs": [
    {
     "name": "stderr",
     "output_type": "stream",
     "text": [
      "Fetching 4 files: 100%|██████████| 4/4 [00:00<00:00, 46995.00it/s]\n",
      "C:\\Users\\Arif Irfan Ibrahim\\AppData\\Local\\Packages\\PythonSoftwareFoundation.Python.3.13_qbz5n2kfra8p0\\LocalCache\\local-packages\\Python313\\site-packages\\transformers\\convert_slow_tokenizer.py:564: UserWarning: The sentencepiece tokenizer that you are converting to a fast tokenizer uses the byte fallback option which is not implemented in the fast tokenizers. In practice this means that the fast version of the tokenizer can produce unknown tokens whereas the sentencepiece version would have converted these unknown tokens into a sequence of byte tokens matching the original piece of text.\n",
      "  warnings.warn(\n"
     ]
    }
   ],
   "source": [
    "model = GLiNER.from_pretrained(\"urchade/gliner_multi\")"
   ]
  },
  {
   "cell_type": "code",
   "execution_count": 3,
   "id": "8bc94add",
   "metadata": {},
   "outputs": [],
   "source": [
    "# get news data (parquet file)\n",
    "news_folder = r'..\\data'\n",
    "parquet_files = glob.glob(os.path.join(news_folder, '*.parquet'))"
   ]
  },
  {
   "cell_type": "code",
   "execution_count": 4,
   "id": "108af78c",
   "metadata": {},
   "outputs": [],
   "source": [
    "# extract text from files\n",
    "corpus_text = []\n",
    "df = pd.read_parquet(r'..\\data\\malay_news.parquet')\n",
    "corpus_text.extend(df['Title'].dropna().str.lower().tolist())\n",
    "corpus_text.extend(df['Summary'].dropna().str.lower().tolist())"
   ]
  },
  {
   "cell_type": "code",
   "execution_count": 5,
   "id": "433b8dcb",
   "metadata": {},
   "outputs": [
    {
     "name": "stdout",
     "output_type": "stream",
     "text": [
      "Corpus size: 3418 sentences\n"
     ]
    }
   ],
   "source": [
    "# save corpus to text file\n",
    "corpus_file = r'..\\data\\malay_news_corpus.txt'\n",
    "\n",
    "with open(corpus_file, 'w', encoding='utf-8') as f:\n",
    "    for text in corpus_text:\n",
    "        f.write(text + '\\n')\n",
    "print(f\"Corpus size: {len(corpus_text)} sentences\")"
   ]
  },
  {
   "cell_type": "code",
   "execution_count": 6,
   "id": "8505f922",
   "metadata": {},
   "outputs": [],
   "source": [
    "# set labels\n",
    "labels = [\"GPE\",\"PERSON\",\"ORG\",\"FAC\",\"MONEY\",\"NORP\",\"LOC\",\"PRODUCT\",\"EVENT\",\n",
    "          \"PERCENT\",\"WORK_OF_ART\",\"TIME\",\"ORDINAL\",\"CARDINAL\",\"QUANTITY\",\"LAW\"]"
   ]
  },
  {
   "cell_type": "code",
   "execution_count": 7,
   "id": "1a301dd2",
   "metadata": {},
   "outputs": [
    {
     "name": "stderr",
     "output_type": "stream",
     "text": [
      "Asking to truncate to max_length but no maximum length is provided and the model has no predefined maximum length. Default to no truncation.\n"
     ]
    },
    {
     "name": "stderr",
     "output_type": "stream",
     "text": [
      "C:\\Users\\Arif Irfan Ibrahim\\AppData\\Local\\Packages\\PythonSoftwareFoundation.Python.3.13_qbz5n2kfra8p0\\LocalCache\\local-packages\\Python313\\site-packages\\gliner\\data_processing\\processor.py:296: UserWarning: Sentence of length 514 has been truncated to 384\n",
      "  warnings.warn(f\"Sentence of length {len(tokens)} has been truncated to {max_len}\")\n",
      "C:\\Users\\Arif Irfan Ibrahim\\AppData\\Local\\Packages\\PythonSoftwareFoundation.Python.3.13_qbz5n2kfra8p0\\LocalCache\\local-packages\\Python313\\site-packages\\gliner\\data_processing\\processor.py:296: UserWarning: Sentence of length 407 has been truncated to 384\n",
      "  warnings.warn(f\"Sentence of length {len(tokens)} has been truncated to {max_len}\")\n",
      "C:\\Users\\Arif Irfan Ibrahim\\AppData\\Local\\Packages\\PythonSoftwareFoundation.Python.3.13_qbz5n2kfra8p0\\LocalCache\\local-packages\\Python313\\site-packages\\gliner\\data_processing\\processor.py:296: UserWarning: Sentence of length 635 has been truncated to 384\n",
      "  warnings.warn(f\"Sentence of length {len(tokens)} has been truncated to {max_len}\")\n",
      "C:\\Users\\Arif Irfan Ibrahim\\AppData\\Local\\Packages\\PythonSoftwareFoundation.Python.3.13_qbz5n2kfra8p0\\LocalCache\\local-packages\\Python313\\site-packages\\gliner\\data_processing\\processor.py:296: UserWarning: Sentence of length 438 has been truncated to 384\n",
      "  warnings.warn(f\"Sentence of length {len(tokens)} has been truncated to {max_len}\")\n",
      "C:\\Users\\Arif Irfan Ibrahim\\AppData\\Local\\Packages\\PythonSoftwareFoundation.Python.3.13_qbz5n2kfra8p0\\LocalCache\\local-packages\\Python313\\site-packages\\gliner\\data_processing\\processor.py:296: UserWarning: Sentence of length 528 has been truncated to 384\n",
      "  warnings.warn(f\"Sentence of length {len(tokens)} has been truncated to {max_len}\")\n",
      "C:\\Users\\Arif Irfan Ibrahim\\AppData\\Local\\Packages\\PythonSoftwareFoundation.Python.3.13_qbz5n2kfra8p0\\LocalCache\\local-packages\\Python313\\site-packages\\gliner\\data_processing\\processor.py:296: UserWarning: Sentence of length 422 has been truncated to 384\n",
      "  warnings.warn(f\"Sentence of length {len(tokens)} has been truncated to {max_len}\")\n",
      "C:\\Users\\Arif Irfan Ibrahim\\AppData\\Local\\Packages\\PythonSoftwareFoundation.Python.3.13_qbz5n2kfra8p0\\LocalCache\\local-packages\\Python313\\site-packages\\gliner\\data_processing\\processor.py:296: UserWarning: Sentence of length 491 has been truncated to 384\n",
      "  warnings.warn(f\"Sentence of length {len(tokens)} has been truncated to {max_len}\")\n",
      "C:\\Users\\Arif Irfan Ibrahim\\AppData\\Local\\Packages\\PythonSoftwareFoundation.Python.3.13_qbz5n2kfra8p0\\LocalCache\\local-packages\\Python313\\site-packages\\gliner\\data_processing\\processor.py:296: UserWarning: Sentence of length 521 has been truncated to 384\n",
      "  warnings.warn(f\"Sentence of length {len(tokens)} has been truncated to {max_len}\")\n",
      "C:\\Users\\Arif Irfan Ibrahim\\AppData\\Local\\Packages\\PythonSoftwareFoundation.Python.3.13_qbz5n2kfra8p0\\LocalCache\\local-packages\\Python313\\site-packages\\gliner\\data_processing\\processor.py:296: UserWarning: Sentence of length 915 has been truncated to 384\n",
      "  warnings.warn(f\"Sentence of length {len(tokens)} has been truncated to {max_len}\")\n",
      "C:\\Users\\Arif Irfan Ibrahim\\AppData\\Local\\Packages\\PythonSoftwareFoundation.Python.3.13_qbz5n2kfra8p0\\LocalCache\\local-packages\\Python313\\site-packages\\gliner\\data_processing\\processor.py:296: UserWarning: Sentence of length 463 has been truncated to 384\n",
      "  warnings.warn(f\"Sentence of length {len(tokens)} has been truncated to {max_len}\")\n",
      "C:\\Users\\Arif Irfan Ibrahim\\AppData\\Local\\Packages\\PythonSoftwareFoundation.Python.3.13_qbz5n2kfra8p0\\LocalCache\\local-packages\\Python313\\site-packages\\gliner\\data_processing\\processor.py:296: UserWarning: Sentence of length 493 has been truncated to 384\n",
      "  warnings.warn(f\"Sentence of length {len(tokens)} has been truncated to {max_len}\")\n",
      "C:\\Users\\Arif Irfan Ibrahim\\AppData\\Local\\Packages\\PythonSoftwareFoundation.Python.3.13_qbz5n2kfra8p0\\LocalCache\\local-packages\\Python313\\site-packages\\gliner\\data_processing\\processor.py:296: UserWarning: Sentence of length 487 has been truncated to 384\n",
      "  warnings.warn(f\"Sentence of length {len(tokens)} has been truncated to {max_len}\")\n",
      "C:\\Users\\Arif Irfan Ibrahim\\AppData\\Local\\Packages\\PythonSoftwareFoundation.Python.3.13_qbz5n2kfra8p0\\LocalCache\\local-packages\\Python313\\site-packages\\gliner\\data_processing\\processor.py:296: UserWarning: Sentence of length 419 has been truncated to 384\n",
      "  warnings.warn(f\"Sentence of length {len(tokens)} has been truncated to {max_len}\")\n",
      "C:\\Users\\Arif Irfan Ibrahim\\AppData\\Local\\Packages\\PythonSoftwareFoundation.Python.3.13_qbz5n2kfra8p0\\LocalCache\\local-packages\\Python313\\site-packages\\gliner\\data_processing\\processor.py:296: UserWarning: Sentence of length 448 has been truncated to 384\n",
      "  warnings.warn(f\"Sentence of length {len(tokens)} has been truncated to {max_len}\")\n",
      "C:\\Users\\Arif Irfan Ibrahim\\AppData\\Local\\Packages\\PythonSoftwareFoundation.Python.3.13_qbz5n2kfra8p0\\LocalCache\\local-packages\\Python313\\site-packages\\gliner\\data_processing\\processor.py:296: UserWarning: Sentence of length 408 has been truncated to 384\n",
      "  warnings.warn(f\"Sentence of length {len(tokens)} has been truncated to {max_len}\")\n",
      "C:\\Users\\Arif Irfan Ibrahim\\AppData\\Local\\Packages\\PythonSoftwareFoundation.Python.3.13_qbz5n2kfra8p0\\LocalCache\\local-packages\\Python313\\site-packages\\gliner\\data_processing\\processor.py:296: UserWarning: Sentence of length 437 has been truncated to 384\n",
      "  warnings.warn(f\"Sentence of length {len(tokens)} has been truncated to {max_len}\")\n",
      "C:\\Users\\Arif Irfan Ibrahim\\AppData\\Local\\Packages\\PythonSoftwareFoundation.Python.3.13_qbz5n2kfra8p0\\LocalCache\\local-packages\\Python313\\site-packages\\gliner\\data_processing\\processor.py:296: UserWarning: Sentence of length 472 has been truncated to 384\n",
      "  warnings.warn(f\"Sentence of length {len(tokens)} has been truncated to {max_len}\")\n",
      "C:\\Users\\Arif Irfan Ibrahim\\AppData\\Local\\Packages\\PythonSoftwareFoundation.Python.3.13_qbz5n2kfra8p0\\LocalCache\\local-packages\\Python313\\site-packages\\gliner\\data_processing\\processor.py:296: UserWarning: Sentence of length 392 has been truncated to 384\n",
      "  warnings.warn(f\"Sentence of length {len(tokens)} has been truncated to {max_len}\")\n",
      "C:\\Users\\Arif Irfan Ibrahim\\AppData\\Local\\Packages\\PythonSoftwareFoundation.Python.3.13_qbz5n2kfra8p0\\LocalCache\\local-packages\\Python313\\site-packages\\gliner\\data_processing\\processor.py:296: UserWarning: Sentence of length 1634 has been truncated to 384\n",
      "  warnings.warn(f\"Sentence of length {len(tokens)} has been truncated to {max_len}\")\n",
      "C:\\Users\\Arif Irfan Ibrahim\\AppData\\Local\\Packages\\PythonSoftwareFoundation.Python.3.13_qbz5n2kfra8p0\\LocalCache\\local-packages\\Python313\\site-packages\\gliner\\data_processing\\processor.py:296: UserWarning: Sentence of length 953 has been truncated to 384\n",
      "  warnings.warn(f\"Sentence of length {len(tokens)} has been truncated to {max_len}\")\n",
      "C:\\Users\\Arif Irfan Ibrahim\\AppData\\Local\\Packages\\PythonSoftwareFoundation.Python.3.13_qbz5n2kfra8p0\\LocalCache\\local-packages\\Python313\\site-packages\\gliner\\data_processing\\processor.py:296: UserWarning: Sentence of length 469 has been truncated to 384\n",
      "  warnings.warn(f\"Sentence of length {len(tokens)} has been truncated to {max_len}\")\n",
      "C:\\Users\\Arif Irfan Ibrahim\\AppData\\Local\\Packages\\PythonSoftwareFoundation.Python.3.13_qbz5n2kfra8p0\\LocalCache\\local-packages\\Python313\\site-packages\\gliner\\data_processing\\processor.py:296: UserWarning: Sentence of length 464 has been truncated to 384\n",
      "  warnings.warn(f\"Sentence of length {len(tokens)} has been truncated to {max_len}\")\n",
      "C:\\Users\\Arif Irfan Ibrahim\\AppData\\Local\\Packages\\PythonSoftwareFoundation.Python.3.13_qbz5n2kfra8p0\\LocalCache\\local-packages\\Python313\\site-packages\\gliner\\data_processing\\processor.py:296: UserWarning: Sentence of length 920 has been truncated to 384\n",
      "  warnings.warn(f\"Sentence of length {len(tokens)} has been truncated to {max_len}\")\n",
      "C:\\Users\\Arif Irfan Ibrahim\\AppData\\Local\\Packages\\PythonSoftwareFoundation.Python.3.13_qbz5n2kfra8p0\\LocalCache\\local-packages\\Python313\\site-packages\\gliner\\data_processing\\processor.py:296: UserWarning: Sentence of length 443 has been truncated to 384\n",
      "  warnings.warn(f\"Sentence of length {len(tokens)} has been truncated to {max_len}\")\n",
      "C:\\Users\\Arif Irfan Ibrahim\\AppData\\Local\\Packages\\PythonSoftwareFoundation.Python.3.13_qbz5n2kfra8p0\\LocalCache\\local-packages\\Python313\\site-packages\\gliner\\data_processing\\processor.py:296: UserWarning: Sentence of length 458 has been truncated to 384\n",
      "  warnings.warn(f\"Sentence of length {len(tokens)} has been truncated to {max_len}\")\n",
      "C:\\Users\\Arif Irfan Ibrahim\\AppData\\Local\\Packages\\PythonSoftwareFoundation.Python.3.13_qbz5n2kfra8p0\\LocalCache\\local-packages\\Python313\\site-packages\\gliner\\data_processing\\processor.py:296: UserWarning: Sentence of length 424 has been truncated to 384\n",
      "  warnings.warn(f\"Sentence of length {len(tokens)} has been truncated to {max_len}\")\n",
      "C:\\Users\\Arif Irfan Ibrahim\\AppData\\Local\\Packages\\PythonSoftwareFoundation.Python.3.13_qbz5n2kfra8p0\\LocalCache\\local-packages\\Python313\\site-packages\\gliner\\data_processing\\processor.py:296: UserWarning: Sentence of length 398 has been truncated to 384\n",
      "  warnings.warn(f\"Sentence of length {len(tokens)} has been truncated to {max_len}\")\n",
      "C:\\Users\\Arif Irfan Ibrahim\\AppData\\Local\\Packages\\PythonSoftwareFoundation.Python.3.13_qbz5n2kfra8p0\\LocalCache\\local-packages\\Python313\\site-packages\\gliner\\data_processing\\processor.py:296: UserWarning: Sentence of length 390 has been truncated to 384\n",
      "  warnings.warn(f\"Sentence of length {len(tokens)} has been truncated to {max_len}\")\n",
      "C:\\Users\\Arif Irfan Ibrahim\\AppData\\Local\\Packages\\PythonSoftwareFoundation.Python.3.13_qbz5n2kfra8p0\\LocalCache\\local-packages\\Python313\\site-packages\\gliner\\data_processing\\processor.py:296: UserWarning: Sentence of length 409 has been truncated to 384\n",
      "  warnings.warn(f\"Sentence of length {len(tokens)} has been truncated to {max_len}\")\n",
      "C:\\Users\\Arif Irfan Ibrahim\\AppData\\Local\\Packages\\PythonSoftwareFoundation.Python.3.13_qbz5n2kfra8p0\\LocalCache\\local-packages\\Python313\\site-packages\\gliner\\data_processing\\processor.py:296: UserWarning: Sentence of length 446 has been truncated to 384\n",
      "  warnings.warn(f\"Sentence of length {len(tokens)} has been truncated to {max_len}\")\n",
      "C:\\Users\\Arif Irfan Ibrahim\\AppData\\Local\\Packages\\PythonSoftwareFoundation.Python.3.13_qbz5n2kfra8p0\\LocalCache\\local-packages\\Python313\\site-packages\\gliner\\data_processing\\processor.py:296: UserWarning: Sentence of length 425 has been truncated to 384\n",
      "  warnings.warn(f\"Sentence of length {len(tokens)} has been truncated to {max_len}\")\n",
      "C:\\Users\\Arif Irfan Ibrahim\\AppData\\Local\\Packages\\PythonSoftwareFoundation.Python.3.13_qbz5n2kfra8p0\\LocalCache\\local-packages\\Python313\\site-packages\\gliner\\data_processing\\processor.py:296: UserWarning: Sentence of length 499 has been truncated to 384\n",
      "  warnings.warn(f\"Sentence of length {len(tokens)} has been truncated to {max_len}\")\n",
      "C:\\Users\\Arif Irfan Ibrahim\\AppData\\Local\\Packages\\PythonSoftwareFoundation.Python.3.13_qbz5n2kfra8p0\\LocalCache\\local-packages\\Python313\\site-packages\\gliner\\data_processing\\processor.py:296: UserWarning: Sentence of length 627 has been truncated to 384\n",
      "  warnings.warn(f\"Sentence of length {len(tokens)} has been truncated to {max_len}\")\n",
      "C:\\Users\\Arif Irfan Ibrahim\\AppData\\Local\\Packages\\PythonSoftwareFoundation.Python.3.13_qbz5n2kfra8p0\\LocalCache\\local-packages\\Python313\\site-packages\\gliner\\data_processing\\processor.py:296: UserWarning: Sentence of length 483 has been truncated to 384\n",
      "  warnings.warn(f\"Sentence of length {len(tokens)} has been truncated to {max_len}\")\n",
      "C:\\Users\\Arif Irfan Ibrahim\\AppData\\Local\\Packages\\PythonSoftwareFoundation.Python.3.13_qbz5n2kfra8p0\\LocalCache\\local-packages\\Python313\\site-packages\\gliner\\data_processing\\processor.py:296: UserWarning: Sentence of length 449 has been truncated to 384\n",
      "  warnings.warn(f\"Sentence of length {len(tokens)} has been truncated to {max_len}\")\n",
      "C:\\Users\\Arif Irfan Ibrahim\\AppData\\Local\\Packages\\PythonSoftwareFoundation.Python.3.13_qbz5n2kfra8p0\\LocalCache\\local-packages\\Python313\\site-packages\\gliner\\data_processing\\processor.py:296: UserWarning: Sentence of length 566 has been truncated to 384\n",
      "  warnings.warn(f\"Sentence of length {len(tokens)} has been truncated to {max_len}\")\n",
      "C:\\Users\\Arif Irfan Ibrahim\\AppData\\Local\\Packages\\PythonSoftwareFoundation.Python.3.13_qbz5n2kfra8p0\\LocalCache\\local-packages\\Python313\\site-packages\\gliner\\data_processing\\processor.py:296: UserWarning: Sentence of length 403 has been truncated to 384\n",
      "  warnings.warn(f\"Sentence of length {len(tokens)} has been truncated to {max_len}\")\n",
      "C:\\Users\\Arif Irfan Ibrahim\\AppData\\Local\\Packages\\PythonSoftwareFoundation.Python.3.13_qbz5n2kfra8p0\\LocalCache\\local-packages\\Python313\\site-packages\\gliner\\data_processing\\processor.py:296: UserWarning: Sentence of length 498 has been truncated to 384\n",
      "  warnings.warn(f\"Sentence of length {len(tokens)} has been truncated to {max_len}\")\n",
      "C:\\Users\\Arif Irfan Ibrahim\\AppData\\Local\\Packages\\PythonSoftwareFoundation.Python.3.13_qbz5n2kfra8p0\\LocalCache\\local-packages\\Python313\\site-packages\\gliner\\data_processing\\processor.py:296: UserWarning: Sentence of length 435 has been truncated to 384\n",
      "  warnings.warn(f\"Sentence of length {len(tokens)} has been truncated to {max_len}\")\n",
      "C:\\Users\\Arif Irfan Ibrahim\\AppData\\Local\\Packages\\PythonSoftwareFoundation.Python.3.13_qbz5n2kfra8p0\\LocalCache\\local-packages\\Python313\\site-packages\\gliner\\data_processing\\processor.py:296: UserWarning: Sentence of length 727 has been truncated to 384\n",
      "  warnings.warn(f\"Sentence of length {len(tokens)} has been truncated to {max_len}\")\n",
      "C:\\Users\\Arif Irfan Ibrahim\\AppData\\Local\\Packages\\PythonSoftwareFoundation.Python.3.13_qbz5n2kfra8p0\\LocalCache\\local-packages\\Python313\\site-packages\\gliner\\data_processing\\processor.py:296: UserWarning: Sentence of length 460 has been truncated to 384\n",
      "  warnings.warn(f\"Sentence of length {len(tokens)} has been truncated to {max_len}\")\n",
      "C:\\Users\\Arif Irfan Ibrahim\\AppData\\Local\\Packages\\PythonSoftwareFoundation.Python.3.13_qbz5n2kfra8p0\\LocalCache\\local-packages\\Python313\\site-packages\\gliner\\data_processing\\processor.py:296: UserWarning: Sentence of length 456 has been truncated to 384\n",
      "  warnings.warn(f\"Sentence of length {len(tokens)} has been truncated to {max_len}\")\n",
      "C:\\Users\\Arif Irfan Ibrahim\\AppData\\Local\\Packages\\PythonSoftwareFoundation.Python.3.13_qbz5n2kfra8p0\\LocalCache\\local-packages\\Python313\\site-packages\\gliner\\data_processing\\processor.py:296: UserWarning: Sentence of length 440 has been truncated to 384\n",
      "  warnings.warn(f\"Sentence of length {len(tokens)} has been truncated to {max_len}\")\n",
      "C:\\Users\\Arif Irfan Ibrahim\\AppData\\Local\\Packages\\PythonSoftwareFoundation.Python.3.13_qbz5n2kfra8p0\\LocalCache\\local-packages\\Python313\\site-packages\\gliner\\data_processing\\processor.py:296: UserWarning: Sentence of length 388 has been truncated to 384\n",
      "  warnings.warn(f\"Sentence of length {len(tokens)} has been truncated to {max_len}\")\n",
      "C:\\Users\\Arif Irfan Ibrahim\\AppData\\Local\\Packages\\PythonSoftwareFoundation.Python.3.13_qbz5n2kfra8p0\\LocalCache\\local-packages\\Python313\\site-packages\\gliner\\data_processing\\processor.py:296: UserWarning: Sentence of length 511 has been truncated to 384\n",
      "  warnings.warn(f\"Sentence of length {len(tokens)} has been truncated to {max_len}\")\n",
      "C:\\Users\\Arif Irfan Ibrahim\\AppData\\Local\\Packages\\PythonSoftwareFoundation.Python.3.13_qbz5n2kfra8p0\\LocalCache\\local-packages\\Python313\\site-packages\\gliner\\data_processing\\processor.py:296: UserWarning: Sentence of length 414 has been truncated to 384\n",
      "  warnings.warn(f\"Sentence of length {len(tokens)} has been truncated to {max_len}\")\n",
      "C:\\Users\\Arif Irfan Ibrahim\\AppData\\Local\\Packages\\PythonSoftwareFoundation.Python.3.13_qbz5n2kfra8p0\\LocalCache\\local-packages\\Python313\\site-packages\\gliner\\data_processing\\processor.py:296: UserWarning: Sentence of length 416 has been truncated to 384\n",
      "  warnings.warn(f\"Sentence of length {len(tokens)} has been truncated to {max_len}\")\n",
      "C:\\Users\\Arif Irfan Ibrahim\\AppData\\Local\\Packages\\PythonSoftwareFoundation.Python.3.13_qbz5n2kfra8p0\\LocalCache\\local-packages\\Python313\\site-packages\\gliner\\data_processing\\processor.py:296: UserWarning: Sentence of length 404 has been truncated to 384\n",
      "  warnings.warn(f\"Sentence of length {len(tokens)} has been truncated to {max_len}\")\n",
      "C:\\Users\\Arif Irfan Ibrahim\\AppData\\Local\\Packages\\PythonSoftwareFoundation.Python.3.13_qbz5n2kfra8p0\\LocalCache\\local-packages\\Python313\\site-packages\\gliner\\data_processing\\processor.py:296: UserWarning: Sentence of length 507 has been truncated to 384\n",
      "  warnings.warn(f\"Sentence of length {len(tokens)} has been truncated to {max_len}\")\n",
      "C:\\Users\\Arif Irfan Ibrahim\\AppData\\Local\\Packages\\PythonSoftwareFoundation.Python.3.13_qbz5n2kfra8p0\\LocalCache\\local-packages\\Python313\\site-packages\\gliner\\data_processing\\processor.py:296: UserWarning: Sentence of length 549 has been truncated to 384\n",
      "  warnings.warn(f\"Sentence of length {len(tokens)} has been truncated to {max_len}\")\n",
      "C:\\Users\\Arif Irfan Ibrahim\\AppData\\Local\\Packages\\PythonSoftwareFoundation.Python.3.13_qbz5n2kfra8p0\\LocalCache\\local-packages\\Python313\\site-packages\\gliner\\data_processing\\processor.py:296: UserWarning: Sentence of length 423 has been truncated to 384\n",
      "  warnings.warn(f\"Sentence of length {len(tokens)} has been truncated to {max_len}\")\n",
      "C:\\Users\\Arif Irfan Ibrahim\\AppData\\Local\\Packages\\PythonSoftwareFoundation.Python.3.13_qbz5n2kfra8p0\\LocalCache\\local-packages\\Python313\\site-packages\\gliner\\data_processing\\processor.py:296: UserWarning: Sentence of length 401 has been truncated to 384\n",
      "  warnings.warn(f\"Sentence of length {len(tokens)} has been truncated to {max_len}\")\n",
      "C:\\Users\\Arif Irfan Ibrahim\\AppData\\Local\\Packages\\PythonSoftwareFoundation.Python.3.13_qbz5n2kfra8p0\\LocalCache\\local-packages\\Python313\\site-packages\\gliner\\data_processing\\processor.py:296: UserWarning: Sentence of length 591 has been truncated to 384\n",
      "  warnings.warn(f\"Sentence of length {len(tokens)} has been truncated to {max_len}\")\n",
      "C:\\Users\\Arif Irfan Ibrahim\\AppData\\Local\\Packages\\PythonSoftwareFoundation.Python.3.13_qbz5n2kfra8p0\\LocalCache\\local-packages\\Python313\\site-packages\\gliner\\data_processing\\processor.py:296: UserWarning: Sentence of length 415 has been truncated to 384\n",
      "  warnings.warn(f\"Sentence of length {len(tokens)} has been truncated to {max_len}\")\n",
      "C:\\Users\\Arif Irfan Ibrahim\\AppData\\Local\\Packages\\PythonSoftwareFoundation.Python.3.13_qbz5n2kfra8p0\\LocalCache\\local-packages\\Python313\\site-packages\\gliner\\data_processing\\processor.py:296: UserWarning: Sentence of length 589 has been truncated to 384\n",
      "  warnings.warn(f\"Sentence of length {len(tokens)} has been truncated to {max_len}\")\n",
      "C:\\Users\\Arif Irfan Ibrahim\\AppData\\Local\\Packages\\PythonSoftwareFoundation.Python.3.13_qbz5n2kfra8p0\\LocalCache\\local-packages\\Python313\\site-packages\\gliner\\data_processing\\processor.py:296: UserWarning: Sentence of length 963 has been truncated to 384\n",
      "  warnings.warn(f\"Sentence of length {len(tokens)} has been truncated to {max_len}\")\n",
      "C:\\Users\\Arif Irfan Ibrahim\\AppData\\Local\\Packages\\PythonSoftwareFoundation.Python.3.13_qbz5n2kfra8p0\\LocalCache\\local-packages\\Python313\\site-packages\\gliner\\data_processing\\processor.py:296: UserWarning: Sentence of length 411 has been truncated to 384\n",
      "  warnings.warn(f\"Sentence of length {len(tokens)} has been truncated to {max_len}\")\n",
      "C:\\Users\\Arif Irfan Ibrahim\\AppData\\Local\\Packages\\PythonSoftwareFoundation.Python.3.13_qbz5n2kfra8p0\\LocalCache\\local-packages\\Python313\\site-packages\\gliner\\data_processing\\processor.py:296: UserWarning: Sentence of length 569 has been truncated to 384\n",
      "  warnings.warn(f\"Sentence of length {len(tokens)} has been truncated to {max_len}\")\n",
      "C:\\Users\\Arif Irfan Ibrahim\\AppData\\Local\\Packages\\PythonSoftwareFoundation.Python.3.13_qbz5n2kfra8p0\\LocalCache\\local-packages\\Python313\\site-packages\\gliner\\data_processing\\processor.py:296: UserWarning: Sentence of length 466 has been truncated to 384\n",
      "  warnings.warn(f\"Sentence of length {len(tokens)} has been truncated to {max_len}\")\n",
      "C:\\Users\\Arif Irfan Ibrahim\\AppData\\Local\\Packages\\PythonSoftwareFoundation.Python.3.13_qbz5n2kfra8p0\\LocalCache\\local-packages\\Python313\\site-packages\\gliner\\data_processing\\processor.py:296: UserWarning: Sentence of length 629 has been truncated to 384\n",
      "  warnings.warn(f\"Sentence of length {len(tokens)} has been truncated to {max_len}\")\n",
      "C:\\Users\\Arif Irfan Ibrahim\\AppData\\Local\\Packages\\PythonSoftwareFoundation.Python.3.13_qbz5n2kfra8p0\\LocalCache\\local-packages\\Python313\\site-packages\\gliner\\data_processing\\processor.py:296: UserWarning: Sentence of length 632 has been truncated to 384\n",
      "  warnings.warn(f\"Sentence of length {len(tokens)} has been truncated to {max_len}\")\n",
      "C:\\Users\\Arif Irfan Ibrahim\\AppData\\Local\\Packages\\PythonSoftwareFoundation.Python.3.13_qbz5n2kfra8p0\\LocalCache\\local-packages\\Python313\\site-packages\\gliner\\data_processing\\processor.py:296: UserWarning: Sentence of length 551 has been truncated to 384\n",
      "  warnings.warn(f\"Sentence of length {len(tokens)} has been truncated to {max_len}\")\n",
      "C:\\Users\\Arif Irfan Ibrahim\\AppData\\Local\\Packages\\PythonSoftwareFoundation.Python.3.13_qbz5n2kfra8p0\\LocalCache\\local-packages\\Python313\\site-packages\\gliner\\data_processing\\processor.py:296: UserWarning: Sentence of length 454 has been truncated to 384\n",
      "  warnings.warn(f\"Sentence of length {len(tokens)} has been truncated to {max_len}\")\n",
      "C:\\Users\\Arif Irfan Ibrahim\\AppData\\Local\\Packages\\PythonSoftwareFoundation.Python.3.13_qbz5n2kfra8p0\\LocalCache\\local-packages\\Python313\\site-packages\\gliner\\data_processing\\processor.py:296: UserWarning: Sentence of length 410 has been truncated to 384\n",
      "  warnings.warn(f\"Sentence of length {len(tokens)} has been truncated to {max_len}\")\n",
      "C:\\Users\\Arif Irfan Ibrahim\\AppData\\Local\\Packages\\PythonSoftwareFoundation.Python.3.13_qbz5n2kfra8p0\\LocalCache\\local-packages\\Python313\\site-packages\\gliner\\data_processing\\processor.py:296: UserWarning: Sentence of length 461 has been truncated to 384\n",
      "  warnings.warn(f\"Sentence of length {len(tokens)} has been truncated to {max_len}\")\n",
      "C:\\Users\\Arif Irfan Ibrahim\\AppData\\Local\\Packages\\PythonSoftwareFoundation.Python.3.13_qbz5n2kfra8p0\\LocalCache\\local-packages\\Python313\\site-packages\\gliner\\data_processing\\processor.py:296: UserWarning: Sentence of length 406 has been truncated to 384\n",
      "  warnings.warn(f\"Sentence of length {len(tokens)} has been truncated to {max_len}\")\n",
      "C:\\Users\\Arif Irfan Ibrahim\\AppData\\Local\\Packages\\PythonSoftwareFoundation.Python.3.13_qbz5n2kfra8p0\\LocalCache\\local-packages\\Python313\\site-packages\\gliner\\data_processing\\processor.py:296: UserWarning: Sentence of length 544 has been truncated to 384\n",
      "  warnings.warn(f\"Sentence of length {len(tokens)} has been truncated to {max_len}\")\n",
      "C:\\Users\\Arif Irfan Ibrahim\\AppData\\Local\\Packages\\PythonSoftwareFoundation.Python.3.13_qbz5n2kfra8p0\\LocalCache\\local-packages\\Python313\\site-packages\\gliner\\data_processing\\processor.py:296: UserWarning: Sentence of length 547 has been truncated to 384\n",
      "  warnings.warn(f\"Sentence of length {len(tokens)} has been truncated to {max_len}\")\n",
      "C:\\Users\\Arif Irfan Ibrahim\\AppData\\Local\\Packages\\PythonSoftwareFoundation.Python.3.13_qbz5n2kfra8p0\\LocalCache\\local-packages\\Python313\\site-packages\\gliner\\data_processing\\processor.py:296: UserWarning: Sentence of length 1550 has been truncated to 384\n",
      "  warnings.warn(f\"Sentence of length {len(tokens)} has been truncated to {max_len}\")\n",
      "C:\\Users\\Arif Irfan Ibrahim\\AppData\\Local\\Packages\\PythonSoftwareFoundation.Python.3.13_qbz5n2kfra8p0\\LocalCache\\local-packages\\Python313\\site-packages\\gliner\\data_processing\\processor.py:296: UserWarning: Sentence of length 516 has been truncated to 384\n",
      "  warnings.warn(f\"Sentence of length {len(tokens)} has been truncated to {max_len}\")\n",
      "C:\\Users\\Arif Irfan Ibrahim\\AppData\\Local\\Packages\\PythonSoftwareFoundation.Python.3.13_qbz5n2kfra8p0\\LocalCache\\local-packages\\Python313\\site-packages\\gliner\\data_processing\\processor.py:296: UserWarning: Sentence of length 636 has been truncated to 384\n",
      "  warnings.warn(f\"Sentence of length {len(tokens)} has been truncated to {max_len}\")\n",
      "C:\\Users\\Arif Irfan Ibrahim\\AppData\\Local\\Packages\\PythonSoftwareFoundation.Python.3.13_qbz5n2kfra8p0\\LocalCache\\local-packages\\Python313\\site-packages\\gliner\\data_processing\\processor.py:296: UserWarning: Sentence of length 484 has been truncated to 384\n",
      "  warnings.warn(f\"Sentence of length {len(tokens)} has been truncated to {max_len}\")\n",
      "C:\\Users\\Arif Irfan Ibrahim\\AppData\\Local\\Packages\\PythonSoftwareFoundation.Python.3.13_qbz5n2kfra8p0\\LocalCache\\local-packages\\Python313\\site-packages\\gliner\\data_processing\\processor.py:296: UserWarning: Sentence of length 1080 has been truncated to 384\n",
      "  warnings.warn(f\"Sentence of length {len(tokens)} has been truncated to {max_len}\")\n",
      "C:\\Users\\Arif Irfan Ibrahim\\AppData\\Local\\Packages\\PythonSoftwareFoundation.Python.3.13_qbz5n2kfra8p0\\LocalCache\\local-packages\\Python313\\site-packages\\gliner\\data_processing\\processor.py:296: UserWarning: Sentence of length 624 has been truncated to 384\n",
      "  warnings.warn(f\"Sentence of length {len(tokens)} has been truncated to {max_len}\")\n",
      "C:\\Users\\Arif Irfan Ibrahim\\AppData\\Local\\Packages\\PythonSoftwareFoundation.Python.3.13_qbz5n2kfra8p0\\LocalCache\\local-packages\\Python313\\site-packages\\gliner\\data_processing\\processor.py:296: UserWarning: Sentence of length 478 has been truncated to 384\n",
      "  warnings.warn(f\"Sentence of length {len(tokens)} has been truncated to {max_len}\")\n",
      "C:\\Users\\Arif Irfan Ibrahim\\AppData\\Local\\Packages\\PythonSoftwareFoundation.Python.3.13_qbz5n2kfra8p0\\LocalCache\\local-packages\\Python313\\site-packages\\gliner\\data_processing\\processor.py:296: UserWarning: Sentence of length 556 has been truncated to 384\n",
      "  warnings.warn(f\"Sentence of length {len(tokens)} has been truncated to {max_len}\")\n",
      "C:\\Users\\Arif Irfan Ibrahim\\AppData\\Local\\Packages\\PythonSoftwareFoundation.Python.3.13_qbz5n2kfra8p0\\LocalCache\\local-packages\\Python313\\site-packages\\gliner\\data_processing\\processor.py:296: UserWarning: Sentence of length 718 has been truncated to 384\n",
      "  warnings.warn(f\"Sentence of length {len(tokens)} has been truncated to {max_len}\")\n",
      "C:\\Users\\Arif Irfan Ibrahim\\AppData\\Local\\Packages\\PythonSoftwareFoundation.Python.3.13_qbz5n2kfra8p0\\LocalCache\\local-packages\\Python313\\site-packages\\gliner\\data_processing\\processor.py:296: UserWarning: Sentence of length 503 has been truncated to 384\n",
      "  warnings.warn(f\"Sentence of length {len(tokens)} has been truncated to {max_len}\")\n",
      "C:\\Users\\Arif Irfan Ibrahim\\AppData\\Local\\Packages\\PythonSoftwareFoundation.Python.3.13_qbz5n2kfra8p0\\LocalCache\\local-packages\\Python313\\site-packages\\gliner\\data_processing\\processor.py:296: UserWarning: Sentence of length 527 has been truncated to 384\n",
      "  warnings.warn(f\"Sentence of length {len(tokens)} has been truncated to {max_len}\")\n",
      "C:\\Users\\Arif Irfan Ibrahim\\AppData\\Local\\Packages\\PythonSoftwareFoundation.Python.3.13_qbz5n2kfra8p0\\LocalCache\\local-packages\\Python313\\site-packages\\gliner\\data_processing\\processor.py:296: UserWarning: Sentence of length 400 has been truncated to 384\n",
      "  warnings.warn(f\"Sentence of length {len(tokens)} has been truncated to {max_len}\")\n",
      "C:\\Users\\Arif Irfan Ibrahim\\AppData\\Local\\Packages\\PythonSoftwareFoundation.Python.3.13_qbz5n2kfra8p0\\LocalCache\\local-packages\\Python313\\site-packages\\gliner\\data_processing\\processor.py:296: UserWarning: Sentence of length 432 has been truncated to 384\n",
      "  warnings.warn(f\"Sentence of length {len(tokens)} has been truncated to {max_len}\")\n",
      "C:\\Users\\Arif Irfan Ibrahim\\AppData\\Local\\Packages\\PythonSoftwareFoundation.Python.3.13_qbz5n2kfra8p0\\LocalCache\\local-packages\\Python313\\site-packages\\gliner\\data_processing\\processor.py:296: UserWarning: Sentence of length 431 has been truncated to 384\n",
      "  warnings.warn(f\"Sentence of length {len(tokens)} has been truncated to {max_len}\")\n"
     ]
    }
   ],
   "source": [
    "# process individual sentences\n",
    "all_entities = []\n",
    "current_position = 0\n",
    "\n",
    "for sentence in corpus_text:\n",
    "    if not sentence.strip():\n",
    "        current_position += len(sentence) + 1\n",
    "        continue\n",
    "        \n",
    "    # get predictions\n",
    "    entities = model.predict_entities(sentence, labels)\n",
    "    \n",
    "    # adjust position\n",
    "    for entity in entities:\n",
    "        entity[\"start\"] += current_position\n",
    "        entity[\"end\"] += current_position\n",
    "        all_entities.append(entity)\n",
    "    \n",
    "    # update position\n",
    "    current_position += len(sentence) + 1"
   ]
  },
  {
   "cell_type": "code",
   "execution_count": 8,
   "id": "3ddfdc09",
   "metadata": {},
   "outputs": [],
   "source": [
    "# duplicates\n",
    "seen = set()\n",
    "unique_entities = []\n",
    "for entity in all_entities:\n",
    "    identifier = (entity[\"text\"], entity[\"label\"], entity[\"start\"], entity[\"end\"])\n",
    "    if identifier not in seen:\n",
    "        seen.add(identifier)\n",
    "        unique_entities.append(entity)"
   ]
  },
  {
   "cell_type": "code",
   "execution_count": 9,
   "id": "0a113fb3",
   "metadata": {},
   "outputs": [
    {
     "data": {
      "text/html": [
       "<div>\n",
       "<style scoped>\n",
       "    .dataframe tbody tr th:only-of-type {\n",
       "        vertical-align: middle;\n",
       "    }\n",
       "\n",
       "    .dataframe tbody tr th {\n",
       "        vertical-align: top;\n",
       "    }\n",
       "\n",
       "    .dataframe thead th {\n",
       "        text-align: right;\n",
       "    }\n",
       "</style>\n",
       "<table border=\"1\" class=\"dataframe\">\n",
       "  <thead>\n",
       "    <tr style=\"text-align: right;\">\n",
       "      <th></th>\n",
       "      <th>start</th>\n",
       "      <th>end</th>\n",
       "      <th>text</th>\n",
       "      <th>label</th>\n",
       "      <th>score</th>\n",
       "    </tr>\n",
       "  </thead>\n",
       "  <tbody>\n",
       "    <tr>\n",
       "      <th>0</th>\n",
       "      <td>0</td>\n",
       "      <td>5</td>\n",
       "      <td>polis</td>\n",
       "      <td>ORG</td>\n",
       "      <td>0.904411</td>\n",
       "    </tr>\n",
       "    <tr>\n",
       "      <th>1</th>\n",
       "      <td>23</td>\n",
       "      <td>31</td>\n",
       "      <td>siasatan</td>\n",
       "      <td>EVENT</td>\n",
       "      <td>0.733970</td>\n",
       "    </tr>\n",
       "    <tr>\n",
       "      <th>2</th>\n",
       "      <td>32</td>\n",
       "      <td>39</td>\n",
       "      <td>program</td>\n",
       "      <td>ORG</td>\n",
       "      <td>0.677047</td>\n",
       "    </tr>\n",
       "    <tr>\n",
       "      <th>3</th>\n",
       "      <td>40</td>\n",
       "      <td>45</td>\n",
       "      <td>ehati</td>\n",
       "      <td>ORG</td>\n",
       "      <td>0.682098</td>\n",
       "    </tr>\n",
       "    <tr>\n",
       "      <th>4</th>\n",
       "      <td>46</td>\n",
       "      <td>52</td>\n",
       "      <td>wanita</td>\n",
       "      <td>PERSON</td>\n",
       "      <td>0.935187</td>\n",
       "    </tr>\n",
       "  </tbody>\n",
       "</table>\n",
       "</div>"
      ],
      "text/plain": [
       "   start  end      text   label     score\n",
       "0      0    5     polis     ORG  0.904411\n",
       "1     23   31  siasatan   EVENT  0.733970\n",
       "2     32   39   program     ORG  0.677047\n",
       "3     40   45     ehati     ORG  0.682098\n",
       "4     46   52    wanita  PERSON  0.935187"
      ]
     },
     "execution_count": 9,
     "metadata": {},
     "output_type": "execute_result"
    }
   ],
   "source": [
    "# convert to df\n",
    "df = pd.DataFrame(unique_entities)\n",
    "df.head()"
   ]
  },
  {
   "cell_type": "code",
   "execution_count": 10,
   "id": "65949520",
   "metadata": {},
   "outputs": [
    {
     "name": "stdout",
     "output_type": "stream",
     "text": [
      "<class 'pandas.core.frame.DataFrame'>\n",
      "RangeIndex: 24295 entries, 0 to 24294\n",
      "Data columns (total 5 columns):\n",
      " #   Column  Non-Null Count  Dtype  \n",
      "---  ------  --------------  -----  \n",
      " 0   start   24295 non-null  int64  \n",
      " 1   end     24295 non-null  int64  \n",
      " 2   text    24295 non-null  object \n",
      " 3   label   24295 non-null  object \n",
      " 4   score   24295 non-null  float64\n",
      "dtypes: float64(1), int64(2), object(2)\n",
      "memory usage: 949.2+ KB\n"
     ]
    }
   ],
   "source": [
    "df.info()"
   ]
  },
  {
   "cell_type": "code",
   "execution_count": 11,
   "id": "bca93976",
   "metadata": {},
   "outputs": [],
   "source": [
    "# save as csv\n",
    "df.to_csv(r'..\\data\\results_first_line.csv', index=False)"
   ]
  }
 ],
 "metadata": {
  "kernelspec": {
   "display_name": "Python 3",
   "language": "python",
   "name": "python3"
  },
  "language_info": {
   "codemirror_mode": {
    "name": "ipython",
    "version": 3
   },
   "file_extension": ".py",
   "mimetype": "text/x-python",
   "name": "python",
   "nbconvert_exporter": "python",
   "pygments_lexer": "ipython3",
   "version": "3.13.7"
  }
 },
 "nbformat": 4,
 "nbformat_minor": 5
}
