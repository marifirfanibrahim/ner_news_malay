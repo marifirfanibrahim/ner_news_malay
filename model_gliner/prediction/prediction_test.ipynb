{
 "cells": [
  {
   "cell_type": "code",
   "execution_count": 48,
   "id": "a2c9cd64",
   "metadata": {},
   "outputs": [],
   "source": [
    "from gliner import GLiNER   # model\n",
    "import re                   # data cleaning\n",
    "import pandas as pd         # data handling"
   ]
  },
  {
   "cell_type": "code",
   "execution_count": 49,
   "id": "4a1e42e7",
   "metadata": {},
   "outputs": [
    {
     "name": "stderr",
     "output_type": "stream",
     "text": [
      "Fetching 4 files: 100%|██████████| 4/4 [00:00<00:00, 51463.85it/s]\n",
      "/usr/local/python/3.12.1/lib/python3.12/site-packages/transformers/convert_slow_tokenizer.py:564: UserWarning: The sentencepiece tokenizer that you are converting to a fast tokenizer uses the byte fallback option which is not implemented in the fast tokenizers. In practice this means that the fast version of the tokenizer can produce unknown tokens whereas the sentencepiece version would have converted these unknown tokens into a sequence of byte tokens matching the original piece of text.\n",
      "  warnings.warn(\n"
     ]
    }
   ],
   "source": [
    "model = GLiNER.from_pretrained(\"urchade/gliner_multi\")"
   ]
  },
  {
   "cell_type": "code",
   "execution_count": 50,
   "id": "91e9d1a7",
   "metadata": {},
   "outputs": [],
   "source": [
    "# test model (text from one of the news)\n",
    "text = \"\"\"\n",
    "\"CAMERON HIGHLANDS: Peniaga di Cameron Highlands bimbang jika sekatan merentas daerah atau negeri dilaksanakan semula berikutan kes Covid-19 yang semakin meningkat kerana ia akan menjejaskan perniagaan mereka.\n",
    "\n",
    "Peniaga khuatir perniagaan yang baharu hendak pulih akan kembali terjejas teruk seperti semasa Perintah Kawalan Pergerakan (PKP) dilaksanakan sebelum ini.\n",
    "\n",
    "Pemilik perniagaan Siqkliz Enterprise yang menjual strawberi, pakaian terpakai dan cenderamata, Mohd. Kazz Zakaria, 39, berkata, walaupun sudah beberapa bulan kembali beroperasi seperti biasa, perniagaannya masih belum mampu menampung kerugian semasa tempoh PKP.\n",
    "\n",
    "Menurutnya, sewaktu tempoh PKP, Cameron Highlands lengang, menyebabkan perniagaan tidak dapat dijalankan.\n",
    "\n",
    "“Sewaktu tempoh PKP, memang terduduk jika fikirkan perniagaan. Saya terpaksa mencari alternatif lain bagi memastikan buah strawberi boleh dijual. Kejadian tanah runtuh pada Disember tahun lalu menambahkan lagi kegusaran pengunjung untuk melancong ke sini.\n",
    "\n",
    "“Selepas kejadian tanah runtuh itu, jumlah pengunjung semakin kurang malah hujung minggu pun macam tiada orang,” katanya ketika ditemui Utusan Malaysia.\n",
    "\n",
    "Mohd. Kazz berharap kerajaan tidak melaksanakan sekatan disebabkan kes Covid-19 yang meningkat yang akan menjejaskan perniagaannya.\n",
    "\n",
    "“Saya harap kerajaan tidak membuat sekatan yang boleh menjejaskan perniagaan kerana sewaktu tempoh PKP, kami terpaksa menjualnya ke Lembah Klang tetapi strawberi hanya mampu bertahan selama tiga hari, jika tidak kualitinya akan terjejas,” katanya.\n",
    "\n",
    "R. Sentharamai, 49, peniaga di Tanah Rata berkata, dia lega apabila dapat berniaga semula namun tetap bimbang jika pergerakan rentas daerah dan negeri tidak dibenarkan.\n",
    "\n",
    "“Perniagaan kami bergantung sepenuhnya kepada agro dan pelancongan. Sewaktu tempoh PKP, perniagaan tutup, kini hanya buka Jumaat, Sabtu dan Ahad tetapi sekarang pun pelanggan tak ramai,” katanya.\n",
    "\n",
    "Tantrisyalini, 25, yang bekerja di Kedai Cenderamata Adik Aisyah berkata, gajinya tetap dibayar oleh majikannya yang menjalankan perniagaan secara dalam talian.\n",
    "\n",
    "“Risau juga jika PKP kembali kerana kami sudah mula beroperasi seperti biasa, banyak kos yang perlu ditanggung,” katanya.\"\n",
    "\"\"\"\n",
    "\n",
    "labels = [\"GPE\",\"PERSON\",\"ORG\",\"FAC\",\"MONEY\",\"NORP\",\"LOC\",\"PRODUCT\",\"EVENT\",\n",
    "          \"PERCENT\",\"WORK_OF_ART\",\"TIME\",\"ORDINAL\",\"CARDINAL\",\"QUANTITY\",\"LAW\"]"
   ]
  },
  {
   "cell_type": "code",
   "execution_count": 51,
   "id": "ec2eb99b",
   "metadata": {},
   "outputs": [],
   "source": [
    "# split text into sentences\n",
    "sentences = re.split(r'(?<!\\w\\.\\w.)(?<![A-Z][a-z]\\.)(?<=\\.|\\?)\\s', text)"
   ]
  },
  {
   "cell_type": "code",
   "execution_count": 52,
   "id": "b5c6850b",
   "metadata": {},
   "outputs": [
    {
     "name": "stderr",
     "output_type": "stream",
     "text": [
      "Asking to truncate to max_length but no maximum length is provided and the model has no predefined maximum length. Default to no truncation.\n"
     ]
    }
   ],
   "source": [
    "# process individual sentences\n",
    "all_entities = []\n",
    "current_position = 0\n",
    "\n",
    "for sentence in sentences:\n",
    "    if not sentence.strip():\n",
    "        current_position += len(sentence) + 1\n",
    "        continue\n",
    "        \n",
    "    # get predictions\n",
    "    entities = model.predict_entities(sentence, labels)\n",
    "    \n",
    "    # adjust position\n",
    "    for entity in entities:\n",
    "        entity[\"start\"] += current_position\n",
    "        entity[\"end\"] += current_position\n",
    "        all_entities.append(entity)\n",
    "    \n",
    "    # update position\n",
    "    current_position += len(sentence) + 1"
   ]
  },
  {
   "cell_type": "code",
   "execution_count": 53,
   "id": "a86bc32f",
   "metadata": {},
   "outputs": [],
   "source": [
    "# Remove duplicates while preserving order\n",
    "seen = set()\n",
    "unique_entities = []\n",
    "for entity in all_entities:\n",
    "    identifier = (entity[\"text\"], entity[\"label\"], entity[\"start\"], entity[\"end\"])\n",
    "    if identifier not in seen:\n",
    "        seen.add(identifier)\n",
    "        unique_entities.append(entity)"
   ]
  },
  {
   "cell_type": "code",
   "execution_count": 54,
   "id": "0061d461",
   "metadata": {},
   "outputs": [
    {
     "name": "stdout",
     "output_type": "stream",
     "text": [
      "CAMERON HIGHLANDS => LOC\n",
      "Peniaga => PERSON\n",
      "Cameron Highlands => LOC\n",
      "negeri => LOC\n",
      "Covid-19 => LAW\n",
      "perniagaan => PRODUCT\n",
      "Peniaga => PERSON\n",
      "perniagaan => ORG\n",
      "Perintah Kawalan Pergerakan => LAW\n",
      "Siqkliz Enterprise => ORG\n",
      "strawberi => PRODUCT\n",
      "pakaian terpakai => PRODUCT\n",
      "cenderamata => PRODUCT\n",
      "Mohd. => PERSON\n",
      "Kazz Zakaria => PERSON\n",
      "beberapa bulan => TIME\n",
      "perniagaannya => ORG\n",
      "PKP => ORG\n",
      "PKP => EVENT\n",
      "Cameron Highlands => LOC\n",
      "perniagaan => ORG\n",
      "PKP => ORG\n",
      "perniagaan => ORG\n",
      "Saya => PERSON\n",
      "buah strawberi => PRODUCT\n",
      "tanah runtuh => EVENT\n",
      "Disember => TIME\n",
      "pengunjung => PERSON\n",
      "sini => LOC\n",
      "tanah runtuh => EVENT\n",
      "pengunjung => PERSON\n",
      "hujung minggu => TIME\n",
      "Utusan Malaysia => ORG\n",
      "Mohd. => PERSON\n",
      "Kazz => PERSON\n",
      "kerajaan => ORG\n",
      "sekatan => LAW\n",
      "Covid-19 => EVENT\n",
      "perniagaannya => PRODUCT\n",
      "kerajaan => ORG\n",
      "perniagaan => PRODUCT\n",
      "PKP => EVENT\n",
      "Lembah Klang => LOC\n",
      "strawberi => PRODUCT\n",
      "tiga hari => TIME\n",
      "R. => ORG\n",
      "Sentharamai => PERSON\n",
      "49 => QUANTITY\n",
      "Tanah Rata => LOC\n",
      "negeri => LOC\n",
      "Perniagaan => ORG\n",
      "agro => FAC\n",
      "pelancongan => ORG\n",
      "PKP => ORG\n",
      "perniagaan => ORG\n",
      "Jumaat => TIME\n",
      "Sabtu => TIME\n",
      "Ahad => TIME\n",
      "pelanggan => PERSON\n",
      "katanya => PERSON\n",
      "Tantrisyalini => PERSON\n",
      "25 => CARDINAL\n",
      "Kedai Cenderamata Adik Aisyah => ORG\n",
      "gajinya => MONEY\n",
      "majikannya => PERSON\n",
      "dalam talian => LOC\n",
      "PKP => ORG\n",
      "kos => MONEY\n"
     ]
    }
   ],
   "source": [
    "# results\n",
    "for entity in unique_entities:\n",
    "    print(f\"{entity['text']} => {entity['label']}\")"
   ]
  },
  {
   "cell_type": "code",
   "execution_count": 55,
   "id": "7eb8543f",
   "metadata": {},
   "outputs": [
    {
     "data": {
      "text/html": [
       "<div>\n",
       "<style scoped>\n",
       "    .dataframe tbody tr th:only-of-type {\n",
       "        vertical-align: middle;\n",
       "    }\n",
       "\n",
       "    .dataframe tbody tr th {\n",
       "        vertical-align: top;\n",
       "    }\n",
       "\n",
       "    .dataframe thead th {\n",
       "        text-align: right;\n",
       "    }\n",
       "</style>\n",
       "<table border=\"1\" class=\"dataframe\">\n",
       "  <thead>\n",
       "    <tr style=\"text-align: right;\">\n",
       "      <th></th>\n",
       "      <th>start</th>\n",
       "      <th>end</th>\n",
       "      <th>text</th>\n",
       "      <th>label</th>\n",
       "      <th>score</th>\n",
       "    </tr>\n",
       "  </thead>\n",
       "  <tbody>\n",
       "    <tr>\n",
       "      <th>0</th>\n",
       "      <td>2</td>\n",
       "      <td>19</td>\n",
       "      <td>CAMERON HIGHLANDS</td>\n",
       "      <td>LOC</td>\n",
       "      <td>0.956421</td>\n",
       "    </tr>\n",
       "    <tr>\n",
       "      <th>1</th>\n",
       "      <td>21</td>\n",
       "      <td>28</td>\n",
       "      <td>Peniaga</td>\n",
       "      <td>PERSON</td>\n",
       "      <td>0.837058</td>\n",
       "    </tr>\n",
       "    <tr>\n",
       "      <th>2</th>\n",
       "      <td>32</td>\n",
       "      <td>49</td>\n",
       "      <td>Cameron Highlands</td>\n",
       "      <td>LOC</td>\n",
       "      <td>0.979273</td>\n",
       "    </tr>\n",
       "    <tr>\n",
       "      <th>3</th>\n",
       "      <td>92</td>\n",
       "      <td>98</td>\n",
       "      <td>negeri</td>\n",
       "      <td>LOC</td>\n",
       "      <td>0.762886</td>\n",
       "    </tr>\n",
       "    <tr>\n",
       "      <th>4</th>\n",
       "      <td>133</td>\n",
       "      <td>141</td>\n",
       "      <td>Covid-19</td>\n",
       "      <td>LAW</td>\n",
       "      <td>0.692249</td>\n",
       "    </tr>\n",
       "  </tbody>\n",
       "</table>\n",
       "</div>"
      ],
      "text/plain": [
       "   start  end               text   label     score\n",
       "0      2   19  CAMERON HIGHLANDS     LOC  0.956421\n",
       "1     21   28            Peniaga  PERSON  0.837058\n",
       "2     32   49  Cameron Highlands     LOC  0.979273\n",
       "3     92   98             negeri     LOC  0.762886\n",
       "4    133  141           Covid-19     LAW  0.692249"
      ]
     },
     "execution_count": 55,
     "metadata": {},
     "output_type": "execute_result"
    }
   ],
   "source": [
    "# convert to df\n",
    "df = pd.DataFrame(unique_entities)\n",
    "df.head()"
   ]
  },
  {
   "cell_type": "code",
   "execution_count": 56,
   "id": "eb1a3150",
   "metadata": {},
   "outputs": [],
   "source": [
    "# save as csv\n",
    "df.to_csv(\"results_test.csv\", index=False)"
   ]
  }
 ],
 "metadata": {
  "kernelspec": {
   "display_name": "Python 3",
   "language": "python",
   "name": "python3"
  },
  "language_info": {
   "codemirror_mode": {
    "name": "ipython",
    "version": 3
   },
   "file_extension": ".py",
   "mimetype": "text/x-python",
   "name": "python",
   "nbconvert_exporter": "python",
   "pygments_lexer": "ipython3",
   "version": "3.12.1"
  }
 },
 "nbformat": 4,
 "nbformat_minor": 5
}
