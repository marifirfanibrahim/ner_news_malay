{
 "cells": [
  {
   "cell_type": "markdown",
   "id": "4605d53f",
   "metadata": {},
   "source": [
    "# Poor Confidence Analysis\n",
    "This analysis aims to improve the NER model by studying the predictions done by the model. This is done firstly by identifying the weakness or limitations discovered from the prediction results. So, by looking at the outputs, the confidence score can be the area of focus for this analysis.\n",
    "\n",
    "The idea of this analysis is to find out if the low confidence scores are justifiable. For example, is the confidence score related to the volume of the dataset, frequency of the labels, or word rarity?\n",
    "\n",
    "This can be determined by answering these questions:\n",
    "1. Is there a correlation between label frequency and confidence scores?    (`label`)\n",
    "2. Are low-confidence predictions associated with rare vocabulary?          (`text`)\n",
    "3. Do certain entity types show systematic confidence patterns?             (`label`)\n",
    "4. Is confidence score correlated with word length or complexity?\n",
    "5. Does context window size affect confidence?\n",
    "\n",
    "Based on these questions, \n",
    "\n",
    "* If low scores correlate with rare labels: Augment training data for underrepresented classes\n",
    "* If low scores correlate with rare words: Add domain-specific vocabulary for training \n",
    "* If low scores are consistent with certain label group: Review annotation\n",
    "* If low scores are consistent with longer words/phrase: Review span detection\n",
    "* If low scores cluster in specific positions: Review context window\n",
    "\n",
    "If all are unclear: Review model architecture or hyperparameter tuning"
   ]
  },
  {
   "cell_type": "markdown",
   "id": "797ab93f",
   "metadata": {},
   "source": [
    "------\n",
    "## Data Preparation"
   ]
  },
  {
   "cell_type": "markdown",
   "id": "8b68ae5b",
   "metadata": {},
   "source": [
    "### Import Libraries"
   ]
  },
  {
   "cell_type": "code",
   "execution_count": 288,
   "id": "0450434e",
   "metadata": {},
   "outputs": [],
   "source": [
    "import pandas as pd\n",
    "import matplotlib.pyplot as plt\n",
    "import seaborn as sns\n",
    "from scipy import stats             # correlation"
   ]
  },
  {
   "cell_type": "markdown",
   "id": "b61a2b2f",
   "metadata": {},
   "source": [
    "### Load Dataset"
   ]
  },
  {
   "cell_type": "code",
   "execution_count": 289,
   "id": "7b4ba800",
   "metadata": {},
   "outputs": [
    {
     "data": {
      "text/html": [
       "<div>\n",
       "<style scoped>\n",
       "    .dataframe tbody tr th:only-of-type {\n",
       "        vertical-align: middle;\n",
       "    }\n",
       "\n",
       "    .dataframe tbody tr th {\n",
       "        vertical-align: top;\n",
       "    }\n",
       "\n",
       "    .dataframe thead th {\n",
       "        text-align: right;\n",
       "    }\n",
       "</style>\n",
       "<table border=\"1\" class=\"dataframe\">\n",
       "  <thead>\n",
       "    <tr style=\"text-align: right;\">\n",
       "      <th></th>\n",
       "      <th>start</th>\n",
       "      <th>end</th>\n",
       "      <th>text</th>\n",
       "      <th>label</th>\n",
       "      <th>score</th>\n",
       "    </tr>\n",
       "  </thead>\n",
       "  <tbody>\n",
       "    <tr>\n",
       "      <th>0</th>\n",
       "      <td>6</td>\n",
       "      <td>9</td>\n",
       "      <td>jkm</td>\n",
       "      <td>ORG</td>\n",
       "      <td>0.951072</td>\n",
       "    </tr>\n",
       "    <tr>\n",
       "      <th>1</th>\n",
       "      <td>60</td>\n",
       "      <td>75</td>\n",
       "      <td>utusan malaysia</td>\n",
       "      <td>ORG</td>\n",
       "      <td>0.684363</td>\n",
       "    </tr>\n",
       "    <tr>\n",
       "      <th>2</th>\n",
       "      <td>76</td>\n",
       "      <td>82</td>\n",
       "      <td>soniia</td>\n",
       "      <td>PERSON</td>\n",
       "      <td>0.960096</td>\n",
       "    </tr>\n",
       "    <tr>\n",
       "      <th>3</th>\n",
       "      <td>94</td>\n",
       "      <td>105</td>\n",
       "      <td>bukit kiara</td>\n",
       "      <td>LOC</td>\n",
       "      <td>0.654027</td>\n",
       "    </tr>\n",
       "    <tr>\n",
       "      <th>4</th>\n",
       "      <td>108</td>\n",
       "      <td>123</td>\n",
       "      <td>utusan malaysia</td>\n",
       "      <td>LOC</td>\n",
       "      <td>0.667498</td>\n",
       "    </tr>\n",
       "  </tbody>\n",
       "</table>\n",
       "</div>"
      ],
      "text/plain": [
       "   start  end             text   label     score\n",
       "0      6    9              jkm     ORG  0.951072\n",
       "1     60   75  utusan malaysia     ORG  0.684363\n",
       "2     76   82           soniia  PERSON  0.960096\n",
       "3     94  105      bukit kiara     LOC  0.654027\n",
       "4    108  123  utusan malaysia     LOC  0.667498"
      ]
     },
     "execution_count": 289,
     "metadata": {},
     "output_type": "execute_result"
    }
   ],
   "source": [
    "# load csv\n",
    "df = pd.read_csv('results_main.csv')\n",
    "df.head()"
   ]
  },
  {
   "cell_type": "code",
   "execution_count": 290,
   "id": "c5e693f8",
   "metadata": {},
   "outputs": [
    {
     "data": {
      "text/plain": [
       "<bound method DataFrame.info of         start     end                 text    label     score\n",
       "0           6       9                  jkm      ORG  0.951072\n",
       "1          60      75      utusan malaysia      ORG  0.684363\n",
       "2          76      82               soniia   PERSON  0.960096\n",
       "3          94     105          bukit kiara      LOC  0.654027\n",
       "4         108     123      utusan malaysia      LOC  0.667498\n",
       "...       ...     ...                  ...      ...       ...\n",
       "10925  584712  584718               negara      LOC  0.810654\n",
       "10926  584720  584731          johor bahru      LOC  0.759652\n",
       "10927  584818  584827            singapura      LOC  0.734750\n",
       "10928  584863  584882  minyak petrol ron95  PRODUCT  0.777760\n",
       "10929  584920  584925                johor      LOC  0.838383\n",
       "\n",
       "[10930 rows x 5 columns]>"
      ]
     },
     "execution_count": 290,
     "metadata": {},
     "output_type": "execute_result"
    }
   ],
   "source": [
    "df.info"
   ]
  },
  {
   "cell_type": "code",
   "execution_count": 291,
   "id": "e4883ad6",
   "metadata": {},
   "outputs": [
    {
     "data": {
      "text/html": [
       "<div>\n",
       "<style scoped>\n",
       "    .dataframe tbody tr th:only-of-type {\n",
       "        vertical-align: middle;\n",
       "    }\n",
       "\n",
       "    .dataframe tbody tr th {\n",
       "        vertical-align: top;\n",
       "    }\n",
       "\n",
       "    .dataframe thead th {\n",
       "        text-align: right;\n",
       "    }\n",
       "</style>\n",
       "<table border=\"1\" class=\"dataframe\">\n",
       "  <thead>\n",
       "    <tr style=\"text-align: right;\">\n",
       "      <th></th>\n",
       "      <th>start</th>\n",
       "      <th>end</th>\n",
       "      <th>text</th>\n",
       "      <th>label</th>\n",
       "      <th>score</th>\n",
       "    </tr>\n",
       "  </thead>\n",
       "  <tbody>\n",
       "    <tr>\n",
       "      <th>0</th>\n",
       "      <td>6</td>\n",
       "      <td>9</td>\n",
       "      <td>jkm</td>\n",
       "      <td>ORG</td>\n",
       "      <td>0.951072</td>\n",
       "    </tr>\n",
       "    <tr>\n",
       "      <th>1</th>\n",
       "      <td>60</td>\n",
       "      <td>75</td>\n",
       "      <td>utusan malaysia</td>\n",
       "      <td>ORG</td>\n",
       "      <td>0.684363</td>\n",
       "    </tr>\n",
       "    <tr>\n",
       "      <th>2</th>\n",
       "      <td>76</td>\n",
       "      <td>82</td>\n",
       "      <td>soniia</td>\n",
       "      <td>PERSON</td>\n",
       "      <td>0.960096</td>\n",
       "    </tr>\n",
       "    <tr>\n",
       "      <th>3</th>\n",
       "      <td>94</td>\n",
       "      <td>105</td>\n",
       "      <td>bukit kiara</td>\n",
       "      <td>LOC</td>\n",
       "      <td>0.654027</td>\n",
       "    </tr>\n",
       "    <tr>\n",
       "      <th>4</th>\n",
       "      <td>108</td>\n",
       "      <td>123</td>\n",
       "      <td>utusan malaysia</td>\n",
       "      <td>LOC</td>\n",
       "      <td>0.667498</td>\n",
       "    </tr>\n",
       "  </tbody>\n",
       "</table>\n",
       "</div>"
      ],
      "text/plain": [
       "   start  end             text   label     score\n",
       "0      6    9              jkm     ORG  0.951072\n",
       "1     60   75  utusan malaysia     ORG  0.684363\n",
       "2     76   82           soniia  PERSON  0.960096\n",
       "3     94  105      bukit kiara     LOC  0.654027\n",
       "4    108  123  utusan malaysia     LOC  0.667498"
      ]
     },
     "execution_count": 291,
     "metadata": {},
     "output_type": "execute_result"
    }
   ],
   "source": [
    "# normalize text\n",
    "df['text'] = df['text'].str.lower()\n",
    "df.head()"
   ]
  },
  {
   "cell_type": "code",
   "execution_count": 292,
   "id": "9c340c3e",
   "metadata": {},
   "outputs": [],
   "source": [
    "# duplicates\n",
    "# df.drop_duplicates().head()   # KIV - might remove significant data, though very unlikely"
   ]
  },
  {
   "cell_type": "markdown",
   "id": "056a3bab",
   "metadata": {},
   "source": [
    "--------\n",
    "## Exploratory Data Analysis\n",
    "This part aims to explore the dataset in hopes to uncover hidden perspective."
   ]
  },
  {
   "cell_type": "markdown",
   "id": "c443f2c9",
   "metadata": {},
   "source": [
    "#### Get Label Distribution"
   ]
  },
  {
   "cell_type": "code",
   "execution_count": 293,
   "id": "505ba411",
   "metadata": {},
   "outputs": [
    {
     "data": {
      "text/html": [
       "<div>\n",
       "<style scoped>\n",
       "    .dataframe tbody tr th:only-of-type {\n",
       "        vertical-align: middle;\n",
       "    }\n",
       "\n",
       "    .dataframe tbody tr th {\n",
       "        vertical-align: top;\n",
       "    }\n",
       "\n",
       "    .dataframe thead th {\n",
       "        text-align: right;\n",
       "    }\n",
       "</style>\n",
       "<table border=\"1\" class=\"dataframe\">\n",
       "  <thead>\n",
       "    <tr style=\"text-align: right;\">\n",
       "      <th></th>\n",
       "      <th>text</th>\n",
       "      <th>label</th>\n",
       "    </tr>\n",
       "  </thead>\n",
       "  <tbody>\n",
       "    <tr>\n",
       "      <th>0</th>\n",
       "      <td>jkm</td>\n",
       "      <td>ORG</td>\n",
       "    </tr>\n",
       "    <tr>\n",
       "      <th>1</th>\n",
       "      <td>utusan malaysia</td>\n",
       "      <td>ORG</td>\n",
       "    </tr>\n",
       "    <tr>\n",
       "      <th>2</th>\n",
       "      <td>soniia</td>\n",
       "      <td>PERSON</td>\n",
       "    </tr>\n",
       "    <tr>\n",
       "      <th>3</th>\n",
       "      <td>bukit kiara</td>\n",
       "      <td>LOC</td>\n",
       "    </tr>\n",
       "    <tr>\n",
       "      <th>4</th>\n",
       "      <td>utusan malaysia</td>\n",
       "      <td>LOC</td>\n",
       "    </tr>\n",
       "  </tbody>\n",
       "</table>\n",
       "</div>"
      ],
      "text/plain": [
       "              text   label\n",
       "0              jkm     ORG\n",
       "1  utusan malaysia     ORG\n",
       "2           soniia  PERSON\n",
       "3      bukit kiara     LOC\n",
       "4  utusan malaysia     LOC"
      ]
     },
     "execution_count": 293,
     "metadata": {},
     "output_type": "execute_result"
    }
   ],
   "source": [
    "# drop start, end, and score columns\n",
    "dest = df.drop(['start', 'end', 'score'], axis = 1)\n",
    "dest.head()"
   ]
  },
  {
   "cell_type": "code",
   "execution_count": 294,
   "id": "e7b7288e",
   "metadata": {},
   "outputs": [
    {
     "data": {
      "text/plain": [
       "label\n",
       "ORG            2610\n",
       "PERSON         2446\n",
       "LOC            2350\n",
       "EVENT           744\n",
       "GPE             560\n",
       "PRODUCT         553\n",
       "TIME            515\n",
       "MONEY           335\n",
       "QUANTITY        247\n",
       "LAW             235\n",
       "PERCENT         116\n",
       "WORK_OF_ART     113\n",
       "CARDINAL         60\n",
       "NORP             28\n",
       "FAC              16\n",
       "ORDINAL           2\n",
       "Name: count, dtype: int64"
      ]
     },
     "execution_count": 294,
     "metadata": {},
     "output_type": "execute_result"
    }
   ],
   "source": [
    "# label distribution\n",
    "dest['label'].value_counts()"
   ]
  },
  {
   "cell_type": "code",
   "execution_count": 295,
   "id": "d2eb42d3",
   "metadata": {},
   "outputs": [
    {
     "data": {
      "image/png": "[encoded data removed]",
      "text/plain": [
       "<Figure size 1800x500 with 1 Axes>"
      ]
     },
     "metadata": {},
     "output_type": "display_data"
    }
   ],
   "source": [
    "# visualize\n",
    "label_freq = dest['label'].value_counts().index\n",
    "\n",
    "plt.figure(figsize=(18,5))\n",
    "sns.countplot(x=dest['label'],data=dest, order=label_freq)\n",
    "plt.xticks(rotation=45)\n",
    "plt.show()"
   ]
  },
  {
   "cell_type": "markdown",
   "id": "48bfd543",
   "metadata": {},
   "source": [
    "From this graph, it is safe to assume that the high-frequency labels are the 3 highest, while the others are teh low-frequency labels. This is because the gap between the third and the fourth highest is relatively big (1500 vs 500), when compared to other inter-label gaps."
   ]
  },
  {
   "cell_type": "markdown",
   "id": "e2fa0479",
   "metadata": {},
   "source": [
    "#### Get High and Low Frequency Labels"
   ]
  },
  {
   "cell_type": "code",
   "execution_count": 296,
   "id": "68e894a0",
   "metadata": {},
   "outputs": [
    {
     "data": {
      "text/html": [
       "<div>\n",
       "<style scoped>\n",
       "    .dataframe tbody tr th:only-of-type {\n",
       "        vertical-align: middle;\n",
       "    }\n",
       "\n",
       "    .dataframe tbody tr th {\n",
       "        vertical-align: top;\n",
       "    }\n",
       "\n",
       "    .dataframe thead th {\n",
       "        text-align: right;\n",
       "    }\n",
       "</style>\n",
       "<table border=\"1\" class=\"dataframe\">\n",
       "  <thead>\n",
       "    <tr style=\"text-align: right;\">\n",
       "      <th></th>\n",
       "      <th>start</th>\n",
       "      <th>end</th>\n",
       "      <th>text</th>\n",
       "      <th>label</th>\n",
       "      <th>score</th>\n",
       "    </tr>\n",
       "  </thead>\n",
       "  <tbody>\n",
       "    <tr>\n",
       "      <th>0</th>\n",
       "      <td>6</td>\n",
       "      <td>9</td>\n",
       "      <td>jkm</td>\n",
       "      <td>ORG</td>\n",
       "      <td>0.951072</td>\n",
       "    </tr>\n",
       "    <tr>\n",
       "      <th>1</th>\n",
       "      <td>60</td>\n",
       "      <td>75</td>\n",
       "      <td>utusan malaysia</td>\n",
       "      <td>ORG</td>\n",
       "      <td>0.684363</td>\n",
       "    </tr>\n",
       "    <tr>\n",
       "      <th>2</th>\n",
       "      <td>76</td>\n",
       "      <td>82</td>\n",
       "      <td>soniia</td>\n",
       "      <td>PERSON</td>\n",
       "      <td>0.960096</td>\n",
       "    </tr>\n",
       "    <tr>\n",
       "      <th>3</th>\n",
       "      <td>94</td>\n",
       "      <td>105</td>\n",
       "      <td>bukit kiara</td>\n",
       "      <td>LOC</td>\n",
       "      <td>0.654027</td>\n",
       "    </tr>\n",
       "    <tr>\n",
       "      <th>4</th>\n",
       "      <td>108</td>\n",
       "      <td>123</td>\n",
       "      <td>utusan malaysia</td>\n",
       "      <td>LOC</td>\n",
       "      <td>0.667498</td>\n",
       "    </tr>\n",
       "  </tbody>\n",
       "</table>\n",
       "</div>"
      ],
      "text/plain": [
       "   start  end             text   label     score\n",
       "0      6    9              jkm     ORG  0.951072\n",
       "1     60   75  utusan malaysia     ORG  0.684363\n",
       "2     76   82           soniia  PERSON  0.960096\n",
       "3     94  105      bukit kiara     LOC  0.654027\n",
       "4    108  123  utusan malaysia     LOC  0.667498"
      ]
     },
     "execution_count": 296,
     "metadata": {},
     "output_type": "execute_result"
    }
   ],
   "source": [
    "# overview\n",
    "df.head()"
   ]
  },
  {
   "cell_type": "code",
   "execution_count": 297,
   "id": "f249e7a3",
   "metadata": {},
   "outputs": [
    {
     "data": {
      "text/html": [
       "<div>\n",
       "<style scoped>\n",
       "    .dataframe tbody tr th:only-of-type {\n",
       "        vertical-align: middle;\n",
       "    }\n",
       "\n",
       "    .dataframe tbody tr th {\n",
       "        vertical-align: top;\n",
       "    }\n",
       "\n",
       "    .dataframe thead th {\n",
       "        text-align: right;\n",
       "    }\n",
       "</style>\n",
       "<table border=\"1\" class=\"dataframe\">\n",
       "  <thead>\n",
       "    <tr style=\"text-align: right;\">\n",
       "      <th></th>\n",
       "      <th>label</th>\n",
       "      <th>score</th>\n",
       "    </tr>\n",
       "  </thead>\n",
       "  <tbody>\n",
       "    <tr>\n",
       "      <th>0</th>\n",
       "      <td>ORG</td>\n",
       "      <td>0.951072</td>\n",
       "    </tr>\n",
       "    <tr>\n",
       "      <th>1</th>\n",
       "      <td>ORG</td>\n",
       "      <td>0.684363</td>\n",
       "    </tr>\n",
       "    <tr>\n",
       "      <th>2</th>\n",
       "      <td>PERSON</td>\n",
       "      <td>0.960096</td>\n",
       "    </tr>\n",
       "    <tr>\n",
       "      <th>3</th>\n",
       "      <td>LOC</td>\n",
       "      <td>0.654027</td>\n",
       "    </tr>\n",
       "    <tr>\n",
       "      <th>4</th>\n",
       "      <td>LOC</td>\n",
       "      <td>0.667498</td>\n",
       "    </tr>\n",
       "  </tbody>\n",
       "</table>\n",
       "</div>"
      ],
      "text/plain": [
       "    label     score\n",
       "0     ORG  0.951072\n",
       "1     ORG  0.684363\n",
       "2  PERSON  0.960096\n",
       "3     LOC  0.654027\n",
       "4     LOC  0.667498"
      ]
     },
     "execution_count": 297,
     "metadata": {},
     "output_type": "execute_result"
    }
   ],
   "source": [
    "# drop columns\n",
    "freq = df.drop(['start','end','text'], axis=1)\n",
    "freq.head()"
   ]
  },
  {
   "cell_type": "code",
   "execution_count": 298,
   "id": "0a228731",
   "metadata": {},
   "outputs": [
    {
     "data": {
      "text/plain": [
       "array(['ORG', 'PERSON', 'LOC', 'PRODUCT', 'GPE', 'LAW', 'QUANTITY',\n",
       "       'EVENT', 'CARDINAL', 'TIME', 'MONEY', 'PERCENT', 'WORK_OF_ART',\n",
       "       'NORP', 'FAC', 'ORDINAL'], dtype=object)"
      ]
     },
     "execution_count": 298,
     "metadata": {},
     "output_type": "execute_result"
    }
   ],
   "source": [
    "# list labels\n",
    "freq['label'].unique()"
   ]
  },
  {
   "cell_type": "code",
   "execution_count": 299,
   "id": "8fb593c4",
   "metadata": {},
   "outputs": [],
   "source": [
    "# split into higher and lower frequency groups\n",
    "high_label = ['PERSON','ORG','LOC']\n",
    "low_label = ['PRODUCT', 'QUANTITY', 'EVENT', 'GPE',\n",
    "       'CARDINAL', 'TIME', 'LAW', 'MONEY', 'PERCENT', 'WORK_OF_ART',\n",
    "       'NORP', 'FAC', 'ORDINAL']\n",
    "\n",
    "freq_high = freq[freq['label'].isin(high_label)]\n",
    "freq_low = freq[freq['label'].isin(low_label)]"
   ]
  },
  {
   "cell_type": "code",
   "execution_count": 300,
   "id": "f6716778",
   "metadata": {},
   "outputs": [],
   "source": [
    "# get mean score\n",
    "label_score_mean_high = freq_high.groupby('label')['score'].mean().reset_index()\n",
    "label_score_mean_low = freq_low.groupby('label')['score'].mean().reset_index()"
   ]
  },
  {
   "cell_type": "code",
   "execution_count": 301,
   "id": "010be65a",
   "metadata": {},
   "outputs": [],
   "source": [
    "# sort mean score\n",
    "label_score_mean_high = label_score_mean_high.sort_values('score', ascending=False)\n",
    "label_score_mean_low = label_score_mean_low.sort_values('score', ascending=False)"
   ]
  },
  {
   "cell_type": "code",
   "execution_count": 302,
   "id": "ba11fb29",
   "metadata": {},
   "outputs": [
    {
     "data": {
      "image/png": "[encoded data removed]",
      "text/plain": [
       "<Figure size 2000x800 with 2 Axes>"
      ]
     },
     "metadata": {},
     "output_type": "display_data"
    }
   ],
   "source": [
    "# visualize\n",
    "fig, (ax1, ax2) = plt.subplots(1, 2, figsize=(20, 8))\n",
    "\n",
    "# high frequency labels\n",
    "bars1 = ax1.bar(label_score_mean_high['label'], \n",
    "               label_score_mean_high['score'],\n",
    "               color='green')\n",
    "\n",
    "# labeling\n",
    "for bar in bars1:\n",
    "    height = bar.get_height()\n",
    "    ax1.text(bar.get_x() + bar.get_width()/2, height + 0.01,\n",
    "            f'{height:.3f}', ha='center', va='bottom', fontsize=10)\n",
    "\n",
    "# setting\n",
    "ax1.set_title('High Frequency Entities')\n",
    "ax1.set_xlabel('Entity Label')\n",
    "ax1.set_ylabel('Average Confidence Score')\n",
    "ax1.set_ylim(0.5, 0.9)\n",
    "ax1.tick_params(axis='x', rotation=45)\n",
    "\n",
    "# low frequency labels\n",
    "bars2 = ax2.bar(label_score_mean_low['label'], \n",
    "               label_score_mean_low['score'],\n",
    "               color='teal')\n",
    "\n",
    "# labeling\n",
    "for bar in bars2:\n",
    "    height = bar.get_height()\n",
    "    ax2.text(bar.get_x() + bar.get_width()/2, height + 0.01,\n",
    "            f'{height:.3f}', ha='center', va='bottom', fontsize=10)\n",
    "\n",
    "# setting\n",
    "ax2.set_title('Low Frequency Entities')\n",
    "ax2.set_xlabel('Entity Label')\n",
    "ax2.set_ylabel('Average Confidence Score')\n",
    "ax2.set_ylim(0.5, 0.9)\n",
    "ax2.tick_params(axis='x', rotation=45)\n",
    "\n",
    "# display\n",
    "plt.tight_layout(rect=[0, 0, 1, 0.96])  # Make room for suptitle\n",
    "plt.show()"
   ]
  },
  {
   "cell_type": "markdown",
   "id": "9e9ef062",
   "metadata": {},
   "source": [
    "Based on these graphs, the lowest confidence score for the high-frequency labels is around 76%, while the highest confidence score for the low-frequency labels is around 82%. This means that even if the label is relatively rare, the confidence score can still be high. Even so, it cannot be a certain that there is no correlation between the label rarity and the confidence score. Therefore, a correlation analysis can be done to further confirm this."
   ]
  },
  {
   "cell_type": "markdown",
   "id": "9b9a6a97",
   "metadata": {},
   "source": [
    "--------\n",
    "## Data Analysis"
   ]
  },
  {
   "cell_type": "markdown",
   "id": "1910a95d",
   "metadata": {},
   "source": [
    "### Q1: Is there a correlation between label frequency and confidence scores?\n",
    "Compare mean confidence scores and label frequency. This is to see if high frequency means high confidence score, or vice versa."
   ]
  },
  {
   "cell_type": "markdown",
   "id": "e48ba0e6",
   "metadata": {},
   "source": [
    "#### Data Preparation"
   ]
  },
  {
   "cell_type": "code",
   "execution_count": 303,
   "id": "ed7b2d8a",
   "metadata": {},
   "outputs": [
    {
     "name": "stdout",
     "output_type": "stream",
     "text": [
      "          label  frequency  avg_confidence\n",
      "0           ORG       2610        0.753183\n",
      "1        PERSON       2446        0.809588\n",
      "2           LOC       2350        0.774213\n",
      "3         EVENT        744        0.713280\n",
      "4           GPE        560        0.752867\n",
      "5       PRODUCT        553        0.718039\n",
      "6          TIME        515        0.724154\n",
      "7         MONEY        335        0.825081\n",
      "8      QUANTITY        247        0.660391\n",
      "9           LAW        235        0.713552\n",
      "10      PERCENT        116        0.783389\n",
      "11  WORK_OF_ART        113        0.700692\n",
      "12     CARDINAL         60        0.628223\n",
      "13         NORP         28        0.631400\n",
      "14          FAC         16        0.703442\n",
      "15      ORDINAL          2        0.557388\n"
     ]
    }
   ],
   "source": [
    "# get label frequency\n",
    "q1_label = df['label'].value_counts().reset_index()\n",
    "q1_label.columns = ['label', 'frequency']\n",
    "\n",
    "# get mean confidence score\n",
    "q1_conf = df.groupby('label')['score'].mean().reset_index()\n",
    "q1_conf.columns = ['label', 'avg_confidence']\n",
    "\n",
    "# merge these two\n",
    "label_analysis = pd.merge(q1_label, q1_conf, on='label')\n",
    "print(label_analysis)"
   ]
  },
  {
   "cell_type": "markdown",
   "id": "c0eccfa9",
   "metadata": {},
   "source": [
    "#### Correlation Analysis\n",
    "In this analysis, the tests that will be conducted are:\n",
    "1. Pearson correlation\n",
    "2. Spearman correlation\n",
    "3. Normality  test\n",
    "\n",
    "**Null hypothesis:**\\\n",
    "There is no linear correlation between label frequency and confidence scores.\n",
    "\n",
    "**Alternative hypothesis:**\\\n",
    "There is a linear correlation between label frequency and confidence scores."
   ]
  },
  {
   "cell_type": "code",
   "execution_count": 304,
   "id": "7b779f20",
   "metadata": {},
   "outputs": [],
   "source": [
    "# pearson\n",
    "pearson_corr, p_value = stats.pearsonr(\n",
    "    label_analysis['frequency'],\n",
    "    label_analysis['avg_confidence']\n",
    ")\n",
    "\n",
    "# spearman\n",
    "spearman_rho, p_spearman = stats.spearmanr(\n",
    "    label_analysis['frequency'],\n",
    "    label_analysis['avg_confidence']\n",
    ")\n",
    "\n",
    "# normality test\n",
    "shapiro_test = stats.shapiro(label_analysis['avg_confidence'])"
   ]
  },
  {
   "cell_type": "code",
   "execution_count": 314,
   "id": "8e8b5de8",
   "metadata": {},
   "outputs": [
    {
     "name": "stdout",
     "output_type": "stream",
     "text": [
      "Spearman ρ: 0.694\n",
      "Spearman p-value: 0.0029\n",
      "\n",
      "Pearson r: 0.528\n",
      "Pearson p-value: 0.0356\n",
      "\n",
      "Normality test: W=0.964, p=0.7291\n"
     ]
    }
   ],
   "source": [
    "# Interpretation\n",
    "abs_pearson = abs(pearson_corr)\n",
    "if abs_pearson >= 0.9:\n",
    "    strength_lin = \"very strong linear\"\n",
    "elif abs_pearson >= 0.7:\n",
    "    strength_lin = \"strong linear\"\n",
    "elif abs_pearson >= 0.5:\n",
    "    strength_lin = \"moderate linear\"\n",
    "elif abs_pearson >= 0.3:\n",
    "    strength_lin = \"weak linear\"\n",
    "else:\n",
    "    strength_lin = \"very weak/no linear\"\n",
    "\n",
    "abs_spearman = abs(spearman_rho)\n",
    "if abs_spearman >= 0.9:\n",
    "    strength_mono = \"very strong monotonic\"\n",
    "elif abs_spearman >= 0.7:\n",
    "    strength_mono = \"strong monotonic\"\n",
    "elif abs_spearman >= 0.5:\n",
    "    strength_mono = \"moderate monotonic\"\n",
    "elif abs_spearman >= 0.3:\n",
    "    strength_mono = \"weak monotonic\"\n",
    "else:\n",
    "    strength_mono = \"very weak/no monotonic\"\n",
    "\n",
    "direction = \"positive\" if pearson_corr > 0 else \"negative\"\n",
    "\n",
    "print(f\"Spearman ρ: {spearman_rho:.3f}\")\n",
    "print(f\"Spearman p-value: {p_spearman:.4f}\\n\")\n",
    "print(f\"Pearson r: {pearson_corr:.3f}\")\n",
    "print(f\"Pearson p-value: {p_value:.4f}\\n\")\n",
    "print(f\"Normality test: W={shapiro_test[0]:.3f}, p={shapiro_test[1]:.4f}\")"
   ]
  },
  {
   "cell_type": "markdown",
   "id": "4d3e91d5",
   "metadata": {},
   "source": [
    "Based on these results,\\\n",
    "* There is a highly significant (p < 0.01) strong positive monotonic relationship (rho > 0.6)"
   ]
  },
  {
   "cell_type": "code",
   "execution_count": null,
   "id": "5e546a70",
   "metadata": {},
   "outputs": [
    {
     "name": "stdout",
     "output_type": "stream",
     "text": [
      "Pearson(linear) relationship: moderate linear (positive)\n",
      "Pearson correlation is statistically significant (p = 0.0356)\n",
      "Spearman(motonic) relationship: moderate monotonic (positive)\n",
      "Spearman correlation is statistically significant (p = 0.0029)\n",
      "Confidence scores follow normal distribution (Shapiro p = 0.7291)\n"
     ]
    }
   ],
   "source": [
    "# Significance interpretation\n",
    "significance_pearson = \"statistically significant\" if p_value < 0.05 else \"not statistically significant\"\n",
    "significance_spearman = \"statistically significant\" if p_spearman < 0.05 else \"not statistically significant\"\n",
    "normality = \"normal distribution\" if shapiro_test[1] > 0.05 else \"non-normal distribution\"\n",
    "\n",
    "# pearson\n",
    "print(f\"Pearson(linear) relationship is {strength_lin} ({direction})\")\n",
    "print(f\"Pearson correlation is {significance_pearson} (p = {p_value:.4f})\")\n",
    "\n",
    "# spearman\n",
    "print(f\"Spearman(motonic) relationship is {strength_mono} ({direction})\")\n",
    "print(f\"Spearman correlation is {significance_spearman} (p = {p_spearman:.4f})\")\n",
    "\n",
    "# normality\n",
    "print(f\"Confidence scores follow {normality} (Shapiro p = {shapiro_test[1]:.4f})\")"
   ]
  },
  {
   "cell_type": "code",
   "execution_count": 307,
   "id": "76189ae0",
   "metadata": {},
   "outputs": [
    {
     "name": "stdout",
     "output_type": "stream",
     "text": [
      "\n",
      "Practical Significance:\n",
      "- Strong evidence that label frequency affects confidence scores\n",
      "- Frequency explains ~27.9% of confidence variance\n",
      "- Action: Prioritize data augmentation for rare labels\n",
      "- Note: Diminishing returns effect - each frequency increase has less impact at higher ranges\n"
     ]
    }
   ],
   "source": [
    "# Practical implications\n",
    "if p_value < 0.05 and p_spearman < 0.05:\n",
    "    if pearson_corr > 0.5 or spearman_rho > 0.5:\n",
    "        print(\"\\nPractical Significance:\")\n",
    "        print(\"- Strong evidence that label frequency affects confidence scores\")\n",
    "        print(f\"- Frequency explains ~{pearson_corr**2:.1%} of confidence variance\")\n",
    "        print(\"- Action: Prioritize data augmentation for rare labels\")\n",
    "        \n",
    "        if spearman_rho > pearson_corr + 0.15:\n",
    "            print(\"- Note: Diminishing returns effect - each frequency increase has less impact at higher ranges\")\n",
    "    else:\n",
    "        print(\"\\nPractical Significance:\")\n",
    "        print(\"- Statistically significant but weak relationship\")\n",
    "        print(\"- Consider other factors like context complexity or word length\")\n",
    "else:\n",
    "    print(\"\\nPractical Significance:\")\n",
    "    print(\"- No reliable frequency-confidence relationship detected\")\n",
    "    print(\"- Investigate other performance factors\")"
   ]
  },
  {
   "cell_type": "markdown",
   "id": "99a6b78f",
   "metadata": {},
   "source": [
    "\n",
    "\n"
   ]
  },
  {
   "cell_type": "markdown",
   "id": "b1719977",
   "metadata": {},
   "source": [
    "#### ImPlot"
   ]
  },
  {
   "cell_type": "code",
   "execution_count": 308,
   "id": "7fb198fe",
   "metadata": {},
   "outputs": [
    {
     "data": {
      "text/plain": [
       "<seaborn.axisgrid.FacetGrid at 0x7d19802313a0>"
      ]
     },
     "execution_count": 308,
     "metadata": {},
     "output_type": "execute_result"
    },
    {
     "data": {
      "image/png": "[encoded data removed]",
      "text/plain": [
       "<Figure size 500x500 with 1 Axes>"
      ]
     },
     "metadata": {},
     "output_type": "display_data"
    }
   ],
   "source": [
    "sns.lmplot(data=label_analysis, x='frequency', y='avg_confidence')"
   ]
  },
  {
   "cell_type": "markdown",
   "id": "be09087d",
   "metadata": {},
   "source": [
    "This graph shows a positive trend, where higher frequency corresponds with higher confidence score. There are also some outliers amongst the lower frequency labels."
   ]
  },
  {
   "cell_type": "code",
   "execution_count": 310,
   "id": "4896a4d3",
   "metadata": {},
   "outputs": [
    {
     "data": {
      "text/html": [
       "<div>\n",
       "<style scoped>\n",
       "    .dataframe tbody tr th:only-of-type {\n",
       "        vertical-align: middle;\n",
       "    }\n",
       "\n",
       "    .dataframe tbody tr th {\n",
       "        vertical-align: top;\n",
       "    }\n",
       "\n",
       "    .dataframe thead th {\n",
       "        text-align: right;\n",
       "    }\n",
       "</style>\n",
       "<table border=\"1\" class=\"dataframe\">\n",
       "  <thead>\n",
       "    <tr style=\"text-align: right;\">\n",
       "      <th></th>\n",
       "      <th>start</th>\n",
       "      <th>end</th>\n",
       "      <th>text</th>\n",
       "      <th>label</th>\n",
       "      <th>score</th>\n",
       "    </tr>\n",
       "  </thead>\n",
       "  <tbody>\n",
       "    <tr>\n",
       "      <th>10</th>\n",
       "      <td>270</td>\n",
       "      <td>275</td>\n",
       "      <td>dodol</td>\n",
       "      <td>PRODUCT</td>\n",
       "      <td>0.927344</td>\n",
       "    </tr>\n",
       "    <tr>\n",
       "      <th>13</th>\n",
       "      <td>327</td>\n",
       "      <td>338</td>\n",
       "      <td>penghasilan</td>\n",
       "      <td>PRODUCT</td>\n",
       "      <td>0.572161</td>\n",
       "    </tr>\n",
       "    <tr>\n",
       "      <th>14</th>\n",
       "      <td>339</td>\n",
       "      <td>346</td>\n",
       "      <td>makanan</td>\n",
       "      <td>PRODUCT</td>\n",
       "      <td>0.838477</td>\n",
       "    </tr>\n",
       "    <tr>\n",
       "      <th>15</th>\n",
       "      <td>347</td>\n",
       "      <td>355</td>\n",
       "      <td>malaysia</td>\n",
       "      <td>GPE</td>\n",
       "      <td>0.913236</td>\n",
       "    </tr>\n",
       "    <tr>\n",
       "      <th>16</th>\n",
       "      <td>379</td>\n",
       "      <td>387</td>\n",
       "      <td>malaysia</td>\n",
       "      <td>GPE</td>\n",
       "      <td>0.738333</td>\n",
       "    </tr>\n",
       "  </tbody>\n",
       "</table>\n",
       "</div>"
      ],
      "text/plain": [
       "    start  end         text    label     score\n",
       "10    270  275        dodol  PRODUCT  0.927344\n",
       "13    327  338  penghasilan  PRODUCT  0.572161\n",
       "14    339  346      makanan  PRODUCT  0.838477\n",
       "15    347  355     malaysia      GPE  0.913236\n",
       "16    379  387     malaysia      GPE  0.738333"
      ]
     },
     "execution_count": 310,
     "metadata": {},
     "output_type": "execute_result"
    }
   ],
   "source": [
    "# filter low-frequency labels in main dataset\n",
    "q1_low_full = df[df['label'].isin(low_label)]\n",
    "q1_low_full.head()"
   ]
  },
  {
   "cell_type": "markdown",
   "id": "948c4351",
   "metadata": {},
   "source": [
    "### Q2: Are low-confidence predictions associated with rare vocabulary?\n",
    "Compare word frequency between low-scoring entities and high-scoring ones.\n",
    "1. get word frequency\n",
    "2. determine word rarity\n",
    "3. get confidence score\n",
    "4. determine low confidence score\n",
    "3. visualize"
   ]
  },
  {
   "cell_type": "code",
   "execution_count": null,
   "id": "b2bac1ce",
   "metadata": {},
   "outputs": [],
   "source": []
  },
  {
   "cell_type": "markdown",
   "id": "f617cb2b",
   "metadata": {},
   "source": [
    "### Q3: Do certain entity types show systematic confidence patterns?\n",
    "Analyze score distributions per label type (e.g., TIME vs. LOC) using box plots or violin plots."
   ]
  },
  {
   "cell_type": "code",
   "execution_count": null,
   "id": "81cb7f8f",
   "metadata": {},
   "outputs": [],
   "source": []
  },
  {
   "cell_type": "markdown",
   "id": "374aa5df",
   "metadata": {},
   "source": [
    "### Q4: Is confidence score correlated with word length or complexity?\n",
    "Compute correlation between entity string length/number of tokens and confidence scores."
   ]
  },
  {
   "cell_type": "code",
   "execution_count": null,
   "id": "639d178a",
   "metadata": {},
   "outputs": [],
   "source": []
  },
  {
   "cell_type": "markdown",
   "id": "0386109d",
   "metadata": {},
   "source": [
    "### Q5: Does context window size affect confidence?\n",
    "Examine scores relative to entity position in sentence (beginning, middle, end)."
   ]
  },
  {
   "cell_type": "code",
   "execution_count": null,
   "id": "f133ab61",
   "metadata": {},
   "outputs": [],
   "source": []
  }
 ],
 "metadata": {
  "kernelspec": {
   "display_name": "Python 3",
   "language": "python",
   "name": "python3"
  },
  "language_info": {
   "codemirror_mode": {
    "name": "ipython",
    "version": 3
   },
   "file_extension": ".py",
   "mimetype": "text/x-python",
   "name": "python",
   "nbconvert_exporter": "python",
   "pygments_lexer": "ipython3",
   "version": "3.12.1"
  }
 },
 "nbformat": 4,
 "nbformat_minor": 5
}
