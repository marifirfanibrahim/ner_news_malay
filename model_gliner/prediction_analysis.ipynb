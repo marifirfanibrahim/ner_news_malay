{
 "cells": [
  {
   "cell_type": "markdown",
   "id": "4605d53f",
   "metadata": {},
   "source": [
    "# Poor Confidence Analysis\n",
    "This analysis aims to improve the NER model by studying the predictions done by the model. This is done firstly by identifying the weakness or limitations discovered from the prediction results. So, by looking at the outputs, the confidence score can be the area of focus for this analysis.\n",
    "\n",
    "The idea of this analysis is to find out if the low confidence scores are justifiable. For example, is the confidence score related to the volume of the dataset, frequency of the labels, or word rarity?\n",
    "\n",
    "This can be determined by answering these questions:\n",
    "1. Is there a correlation between label frequency and confidence scores?    (`label`)\n",
    "2. Are low-confidence predictions associated with rare vocabulary?          (`text`)\n",
    "3. Do certain entity types show systematic confidence patterns?             (`label`)\n",
    "4. Is confidence score correlated with word length or complexity?\n",
    "5. Does context window size affect confidence?\n",
    "\n",
    "Based on these questions, \n",
    "\n",
    "* If low scores correlate with rare labels: Augment training data for underrepresented classes\n",
    "* If low scores correlate with rare words: Add domain-specific vocabulary for training \n",
    "* If low scores are consistent with certain label group: Review annotation\n",
    "* If low scores are consistent with longer words/phrase: Review span detection\n",
    "* If low scores cluster in specific positions: Review context window\n",
    "\n",
    "If all are unclear: Review model architecture or hyperparameter tuning"
   ]
  },
  {
   "cell_type": "markdown",
   "id": "797ab93f",
   "metadata": {},
   "source": [
    "------\n",
    "## Data Preparation"
   ]
  },
  {
   "cell_type": "markdown",
   "id": "8b68ae5b",
   "metadata": {},
   "source": [
    "### Import Libraries"
   ]
  },
  {
   "cell_type": "code",
   "execution_count": 432,
   "id": "0450434e",
   "metadata": {},
   "outputs": [],
   "source": [
    "import pandas as pd\n",
    "import matplotlib.pyplot as plt\n",
    "import seaborn as sns\n",
    "from scipy import stats             # correlation"
   ]
  },
  {
   "cell_type": "markdown",
   "id": "b61a2b2f",
   "metadata": {},
   "source": [
    "### Load Dataset"
   ]
  },
  {
   "cell_type": "code",
   "execution_count": 433,
   "id": "7b4ba800",
   "metadata": {},
   "outputs": [
    {
     "data": {
      "text/html": [
       "<div>\n",
       "<style scoped>\n",
       "    .dataframe tbody tr th:only-of-type {\n",
       "        vertical-align: middle;\n",
       "    }\n",
       "\n",
       "    .dataframe tbody tr th {\n",
       "        vertical-align: top;\n",
       "    }\n",
       "\n",
       "    .dataframe thead th {\n",
       "        text-align: right;\n",
       "    }\n",
       "</style>\n",
       "<table border=\"1\" class=\"dataframe\">\n",
       "  <thead>\n",
       "    <tr style=\"text-align: right;\">\n",
       "      <th></th>\n",
       "      <th>start</th>\n",
       "      <th>end</th>\n",
       "      <th>text</th>\n",
       "      <th>label</th>\n",
       "      <th>score</th>\n",
       "    </tr>\n",
       "  </thead>\n",
       "  <tbody>\n",
       "    <tr>\n",
       "      <th>0</th>\n",
       "      <td>6</td>\n",
       "      <td>9</td>\n",
       "      <td>jkm</td>\n",
       "      <td>ORG</td>\n",
       "      <td>0.951072</td>\n",
       "    </tr>\n",
       "    <tr>\n",
       "      <th>1</th>\n",
       "      <td>60</td>\n",
       "      <td>75</td>\n",
       "      <td>utusan malaysia</td>\n",
       "      <td>ORG</td>\n",
       "      <td>0.684363</td>\n",
       "    </tr>\n",
       "    <tr>\n",
       "      <th>2</th>\n",
       "      <td>76</td>\n",
       "      <td>82</td>\n",
       "      <td>soniia</td>\n",
       "      <td>PERSON</td>\n",
       "      <td>0.960096</td>\n",
       "    </tr>\n",
       "    <tr>\n",
       "      <th>3</th>\n",
       "      <td>94</td>\n",
       "      <td>105</td>\n",
       "      <td>bukit kiara</td>\n",
       "      <td>LOC</td>\n",
       "      <td>0.654027</td>\n",
       "    </tr>\n",
       "    <tr>\n",
       "      <th>4</th>\n",
       "      <td>108</td>\n",
       "      <td>123</td>\n",
       "      <td>utusan malaysia</td>\n",
       "      <td>LOC</td>\n",
       "      <td>0.667498</td>\n",
       "    </tr>\n",
       "  </tbody>\n",
       "</table>\n",
       "</div>"
      ],
      "text/plain": [
       "   start  end             text   label     score\n",
       "0      6    9              jkm     ORG  0.951072\n",
       "1     60   75  utusan malaysia     ORG  0.684363\n",
       "2     76   82           soniia  PERSON  0.960096\n",
       "3     94  105      bukit kiara     LOC  0.654027\n",
       "4    108  123  utusan malaysia     LOC  0.667498"
      ]
     },
     "execution_count": 433,
     "metadata": {},
     "output_type": "execute_result"
    }
   ],
   "source": [
    "# load csv\n",
    "df = pd.read_csv('results_main.csv')\n",
    "df.head()"
   ]
  },
  {
   "cell_type": "code",
   "execution_count": 434,
   "id": "c5e693f8",
   "metadata": {},
   "outputs": [
    {
     "data": {
      "text/plain": [
       "<bound method DataFrame.info of         start     end                 text    label     score\n",
       "0           6       9                  jkm      ORG  0.951072\n",
       "1          60      75      utusan malaysia      ORG  0.684363\n",
       "2          76      82               soniia   PERSON  0.960096\n",
       "3          94     105          bukit kiara      LOC  0.654027\n",
       "4         108     123      utusan malaysia      LOC  0.667498\n",
       "...       ...     ...                  ...      ...       ...\n",
       "10925  584712  584718               negara      LOC  0.810654\n",
       "10926  584720  584731          johor bahru      LOC  0.759652\n",
       "10927  584818  584827            singapura      LOC  0.734750\n",
       "10928  584863  584882  minyak petrol ron95  PRODUCT  0.777760\n",
       "10929  584920  584925                johor      LOC  0.838383\n",
       "\n",
       "[10930 rows x 5 columns]>"
      ]
     },
     "execution_count": 434,
     "metadata": {},
     "output_type": "execute_result"
    }
   ],
   "source": [
    "df.info"
   ]
  },
  {
   "cell_type": "code",
   "execution_count": 435,
   "id": "e4883ad6",
   "metadata": {},
   "outputs": [
    {
     "data": {
      "text/html": [
       "<div>\n",
       "<style scoped>\n",
       "    .dataframe tbody tr th:only-of-type {\n",
       "        vertical-align: middle;\n",
       "    }\n",
       "\n",
       "    .dataframe tbody tr th {\n",
       "        vertical-align: top;\n",
       "    }\n",
       "\n",
       "    .dataframe thead th {\n",
       "        text-align: right;\n",
       "    }\n",
       "</style>\n",
       "<table border=\"1\" class=\"dataframe\">\n",
       "  <thead>\n",
       "    <tr style=\"text-align: right;\">\n",
       "      <th></th>\n",
       "      <th>start</th>\n",
       "      <th>end</th>\n",
       "      <th>text</th>\n",
       "      <th>label</th>\n",
       "      <th>score</th>\n",
       "    </tr>\n",
       "  </thead>\n",
       "  <tbody>\n",
       "    <tr>\n",
       "      <th>0</th>\n",
       "      <td>6</td>\n",
       "      <td>9</td>\n",
       "      <td>jkm</td>\n",
       "      <td>ORG</td>\n",
       "      <td>0.951072</td>\n",
       "    </tr>\n",
       "    <tr>\n",
       "      <th>1</th>\n",
       "      <td>60</td>\n",
       "      <td>75</td>\n",
       "      <td>utusan malaysia</td>\n",
       "      <td>ORG</td>\n",
       "      <td>0.684363</td>\n",
       "    </tr>\n",
       "    <tr>\n",
       "      <th>2</th>\n",
       "      <td>76</td>\n",
       "      <td>82</td>\n",
       "      <td>soniia</td>\n",
       "      <td>PERSON</td>\n",
       "      <td>0.960096</td>\n",
       "    </tr>\n",
       "    <tr>\n",
       "      <th>3</th>\n",
       "      <td>94</td>\n",
       "      <td>105</td>\n",
       "      <td>bukit kiara</td>\n",
       "      <td>LOC</td>\n",
       "      <td>0.654027</td>\n",
       "    </tr>\n",
       "    <tr>\n",
       "      <th>4</th>\n",
       "      <td>108</td>\n",
       "      <td>123</td>\n",
       "      <td>utusan malaysia</td>\n",
       "      <td>LOC</td>\n",
       "      <td>0.667498</td>\n",
       "    </tr>\n",
       "  </tbody>\n",
       "</table>\n",
       "</div>"
      ],
      "text/plain": [
       "   start  end             text   label     score\n",
       "0      6    9              jkm     ORG  0.951072\n",
       "1     60   75  utusan malaysia     ORG  0.684363\n",
       "2     76   82           soniia  PERSON  0.960096\n",
       "3     94  105      bukit kiara     LOC  0.654027\n",
       "4    108  123  utusan malaysia     LOC  0.667498"
      ]
     },
     "execution_count": 435,
     "metadata": {},
     "output_type": "execute_result"
    }
   ],
   "source": [
    "# normalize text\n",
    "df['text'] = df['text'].str.lower()\n",
    "df.head()"
   ]
  },
  {
   "cell_type": "code",
   "execution_count": 436,
   "id": "9c340c3e",
   "metadata": {},
   "outputs": [],
   "source": [
    "# duplicates\n",
    "# df.drop_duplicates().head()   # KIV - might remove significant data, though very unlikely"
   ]
  },
  {
   "cell_type": "markdown",
   "id": "056a3bab",
   "metadata": {},
   "source": [
    "--------\n",
    "## Exploratory Data Analysis\n",
    "This part aims to explore the dataset in hopes to uncover hidden perspective."
   ]
  },
  {
   "cell_type": "markdown",
   "id": "c443f2c9",
   "metadata": {},
   "source": [
    "#### Get Label Distribution"
   ]
  },
  {
   "cell_type": "code",
   "execution_count": 437,
   "id": "505ba411",
   "metadata": {},
   "outputs": [
    {
     "data": {
      "text/html": [
       "<div>\n",
       "<style scoped>\n",
       "    .dataframe tbody tr th:only-of-type {\n",
       "        vertical-align: middle;\n",
       "    }\n",
       "\n",
       "    .dataframe tbody tr th {\n",
       "        vertical-align: top;\n",
       "    }\n",
       "\n",
       "    .dataframe thead th {\n",
       "        text-align: right;\n",
       "    }\n",
       "</style>\n",
       "<table border=\"1\" class=\"dataframe\">\n",
       "  <thead>\n",
       "    <tr style=\"text-align: right;\">\n",
       "      <th></th>\n",
       "      <th>text</th>\n",
       "      <th>label</th>\n",
       "    </tr>\n",
       "  </thead>\n",
       "  <tbody>\n",
       "    <tr>\n",
       "      <th>0</th>\n",
       "      <td>jkm</td>\n",
       "      <td>ORG</td>\n",
       "    </tr>\n",
       "    <tr>\n",
       "      <th>1</th>\n",
       "      <td>utusan malaysia</td>\n",
       "      <td>ORG</td>\n",
       "    </tr>\n",
       "    <tr>\n",
       "      <th>2</th>\n",
       "      <td>soniia</td>\n",
       "      <td>PERSON</td>\n",
       "    </tr>\n",
       "    <tr>\n",
       "      <th>3</th>\n",
       "      <td>bukit kiara</td>\n",
       "      <td>LOC</td>\n",
       "    </tr>\n",
       "    <tr>\n",
       "      <th>4</th>\n",
       "      <td>utusan malaysia</td>\n",
       "      <td>LOC</td>\n",
       "    </tr>\n",
       "  </tbody>\n",
       "</table>\n",
       "</div>"
      ],
      "text/plain": [
       "              text   label\n",
       "0              jkm     ORG\n",
       "1  utusan malaysia     ORG\n",
       "2           soniia  PERSON\n",
       "3      bukit kiara     LOC\n",
       "4  utusan malaysia     LOC"
      ]
     },
     "execution_count": 437,
     "metadata": {},
     "output_type": "execute_result"
    }
   ],
   "source": [
    "# drop start, end, and score columns\n",
    "dest = df.drop(['start', 'end', 'score'], axis = 1)\n",
    "dest.head()"
   ]
  },
  {
   "cell_type": "code",
   "execution_count": 438,
   "id": "e7b7288e",
   "metadata": {},
   "outputs": [
    {
     "data": {
      "text/plain": [
       "label\n",
       "ORG            2610\n",
       "PERSON         2446\n",
       "LOC            2350\n",
       "EVENT           744\n",
       "GPE             560\n",
       "PRODUCT         553\n",
       "TIME            515\n",
       "MONEY           335\n",
       "QUANTITY        247\n",
       "LAW             235\n",
       "PERCENT         116\n",
       "WORK_OF_ART     113\n",
       "CARDINAL         60\n",
       "NORP             28\n",
       "FAC              16\n",
       "ORDINAL           2\n",
       "Name: count, dtype: int64"
      ]
     },
     "execution_count": 438,
     "metadata": {},
     "output_type": "execute_result"
    }
   ],
   "source": [
    "# label distribution\n",
    "dest['label'].value_counts()"
   ]
  },
  {
   "cell_type": "code",
   "execution_count": 439,
   "id": "d2eb42d3",
   "metadata": {},
   "outputs": [
    {
     "data": {
      "image/png": "[encoded data removed]",
      "text/plain": [
       "<Figure size 1800x500 with 1 Axes>"
      ]
     },
     "metadata": {},
     "output_type": "display_data"
    }
   ],
   "source": [
    "# visualize\n",
    "label_freq = dest['label'].value_counts().index\n",
    "\n",
    "plt.figure(figsize=(18,5))\n",
    "sns.countplot(x=dest['label'],data=dest, order=label_freq)\n",
    "plt.xticks(rotation=45)\n",
    "plt.show()"
   ]
  },
  {
   "cell_type": "markdown",
   "id": "48bfd543",
   "metadata": {},
   "source": [
    "From this graph, it is safe to assume that the high-frequency labels are the 3 highest, while the others are teh low-frequency labels. This is because the gap between the third and the fourth highest is relatively big (1500 vs 500), when compared to other inter-label gaps."
   ]
  },
  {
   "cell_type": "markdown",
   "id": "e2fa0479",
   "metadata": {},
   "source": [
    "#### Get High and Low Frequency Labels"
   ]
  },
  {
   "cell_type": "code",
   "execution_count": 440,
   "id": "68e894a0",
   "metadata": {},
   "outputs": [
    {
     "data": {
      "text/html": [
       "<div>\n",
       "<style scoped>\n",
       "    .dataframe tbody tr th:only-of-type {\n",
       "        vertical-align: middle;\n",
       "    }\n",
       "\n",
       "    .dataframe tbody tr th {\n",
       "        vertical-align: top;\n",
       "    }\n",
       "\n",
       "    .dataframe thead th {\n",
       "        text-align: right;\n",
       "    }\n",
       "</style>\n",
       "<table border=\"1\" class=\"dataframe\">\n",
       "  <thead>\n",
       "    <tr style=\"text-align: right;\">\n",
       "      <th></th>\n",
       "      <th>start</th>\n",
       "      <th>end</th>\n",
       "      <th>text</th>\n",
       "      <th>label</th>\n",
       "      <th>score</th>\n",
       "    </tr>\n",
       "  </thead>\n",
       "  <tbody>\n",
       "    <tr>\n",
       "      <th>0</th>\n",
       "      <td>6</td>\n",
       "      <td>9</td>\n",
       "      <td>jkm</td>\n",
       "      <td>ORG</td>\n",
       "      <td>0.951072</td>\n",
       "    </tr>\n",
       "    <tr>\n",
       "      <th>1</th>\n",
       "      <td>60</td>\n",
       "      <td>75</td>\n",
       "      <td>utusan malaysia</td>\n",
       "      <td>ORG</td>\n",
       "      <td>0.684363</td>\n",
       "    </tr>\n",
       "    <tr>\n",
       "      <th>2</th>\n",
       "      <td>76</td>\n",
       "      <td>82</td>\n",
       "      <td>soniia</td>\n",
       "      <td>PERSON</td>\n",
       "      <td>0.960096</td>\n",
       "    </tr>\n",
       "    <tr>\n",
       "      <th>3</th>\n",
       "      <td>94</td>\n",
       "      <td>105</td>\n",
       "      <td>bukit kiara</td>\n",
       "      <td>LOC</td>\n",
       "      <td>0.654027</td>\n",
       "    </tr>\n",
       "    <tr>\n",
       "      <th>4</th>\n",
       "      <td>108</td>\n",
       "      <td>123</td>\n",
       "      <td>utusan malaysia</td>\n",
       "      <td>LOC</td>\n",
       "      <td>0.667498</td>\n",
       "    </tr>\n",
       "  </tbody>\n",
       "</table>\n",
       "</div>"
      ],
      "text/plain": [
       "   start  end             text   label     score\n",
       "0      6    9              jkm     ORG  0.951072\n",
       "1     60   75  utusan malaysia     ORG  0.684363\n",
       "2     76   82           soniia  PERSON  0.960096\n",
       "3     94  105      bukit kiara     LOC  0.654027\n",
       "4    108  123  utusan malaysia     LOC  0.667498"
      ]
     },
     "execution_count": 440,
     "metadata": {},
     "output_type": "execute_result"
    }
   ],
   "source": [
    "# overview\n",
    "df.head()"
   ]
  },
  {
   "cell_type": "code",
   "execution_count": 441,
   "id": "f249e7a3",
   "metadata": {},
   "outputs": [
    {
     "data": {
      "text/html": [
       "<div>\n",
       "<style scoped>\n",
       "    .dataframe tbody tr th:only-of-type {\n",
       "        vertical-align: middle;\n",
       "    }\n",
       "\n",
       "    .dataframe tbody tr th {\n",
       "        vertical-align: top;\n",
       "    }\n",
       "\n",
       "    .dataframe thead th {\n",
       "        text-align: right;\n",
       "    }\n",
       "</style>\n",
       "<table border=\"1\" class=\"dataframe\">\n",
       "  <thead>\n",
       "    <tr style=\"text-align: right;\">\n",
       "      <th></th>\n",
       "      <th>label</th>\n",
       "      <th>score</th>\n",
       "    </tr>\n",
       "  </thead>\n",
       "  <tbody>\n",
       "    <tr>\n",
       "      <th>0</th>\n",
       "      <td>ORG</td>\n",
       "      <td>0.951072</td>\n",
       "    </tr>\n",
       "    <tr>\n",
       "      <th>1</th>\n",
       "      <td>ORG</td>\n",
       "      <td>0.684363</td>\n",
       "    </tr>\n",
       "    <tr>\n",
       "      <th>2</th>\n",
       "      <td>PERSON</td>\n",
       "      <td>0.960096</td>\n",
       "    </tr>\n",
       "    <tr>\n",
       "      <th>3</th>\n",
       "      <td>LOC</td>\n",
       "      <td>0.654027</td>\n",
       "    </tr>\n",
       "    <tr>\n",
       "      <th>4</th>\n",
       "      <td>LOC</td>\n",
       "      <td>0.667498</td>\n",
       "    </tr>\n",
       "  </tbody>\n",
       "</table>\n",
       "</div>"
      ],
      "text/plain": [
       "    label     score\n",
       "0     ORG  0.951072\n",
       "1     ORG  0.684363\n",
       "2  PERSON  0.960096\n",
       "3     LOC  0.654027\n",
       "4     LOC  0.667498"
      ]
     },
     "execution_count": 441,
     "metadata": {},
     "output_type": "execute_result"
    }
   ],
   "source": [
    "# drop columns\n",
    "freq = df.drop(['start','end','text'], axis=1)\n",
    "freq.head()"
   ]
  },
  {
   "cell_type": "code",
   "execution_count": 442,
   "id": "0a228731",
   "metadata": {},
   "outputs": [
    {
     "data": {
      "text/plain": [
       "array(['ORG', 'PERSON', 'LOC', 'PRODUCT', 'GPE', 'LAW', 'QUANTITY',\n",
       "       'EVENT', 'CARDINAL', 'TIME', 'MONEY', 'PERCENT', 'WORK_OF_ART',\n",
       "       'NORP', 'FAC', 'ORDINAL'], dtype=object)"
      ]
     },
     "execution_count": 442,
     "metadata": {},
     "output_type": "execute_result"
    }
   ],
   "source": [
    "# list labels\n",
    "freq['label'].unique()"
   ]
  },
  {
   "cell_type": "code",
   "execution_count": 443,
   "id": "8fb593c4",
   "metadata": {},
   "outputs": [],
   "source": [
    "# split into higher and lower frequency groups\n",
    "high_label = ['PERSON','ORG','LOC']\n",
    "low_label = ['PRODUCT', 'QUANTITY', 'EVENT', 'GPE',\n",
    "       'CARDINAL', 'TIME', 'LAW', 'MONEY', 'PERCENT', 'WORK_OF_ART',\n",
    "       'NORP', 'FAC', 'ORDINAL']\n",
    "\n",
    "freq_high = freq[freq['label'].isin(high_label)]\n",
    "freq_low = freq[freq['label'].isin(low_label)]"
   ]
  },
  {
   "cell_type": "code",
   "execution_count": 444,
   "id": "f6716778",
   "metadata": {},
   "outputs": [],
   "source": [
    "# get mean score\n",
    "label_score_mean_high = freq_high.groupby('label')['score'].mean().reset_index()\n",
    "label_score_mean_low = freq_low.groupby('label')['score'].mean().reset_index()"
   ]
  },
  {
   "cell_type": "code",
   "execution_count": 445,
   "id": "010be65a",
   "metadata": {},
   "outputs": [],
   "source": [
    "# sort mean score\n",
    "label_score_mean_high = label_score_mean_high.sort_values('score', ascending=False)\n",
    "label_score_mean_low = label_score_mean_low.sort_values('score', ascending=False)"
   ]
  },
  {
   "cell_type": "code",
   "execution_count": 446,
   "id": "ba11fb29",
   "metadata": {},
   "outputs": [
    {
     "data": {
      "image/png": "[encoded data removed]",
      "text/plain": [
       "<Figure size 2000x800 with 2 Axes>"
      ]
     },
     "metadata": {},
     "output_type": "display_data"
    }
   ],
   "source": [
    "# visualize\n",
    "fig, (ax1, ax2) = plt.subplots(1, 2, figsize=(20, 8))\n",
    "\n",
    "# high frequency labels\n",
    "bars1 = ax1.bar(label_score_mean_high['label'], \n",
    "               label_score_mean_high['score'],\n",
    "               color='green')\n",
    "\n",
    "# labeling\n",
    "for bar in bars1:\n",
    "    height = bar.get_height()\n",
    "    ax1.text(bar.get_x() + bar.get_width()/2, height + 0.01,\n",
    "            f'{height:.3f}', ha='center', va='bottom', fontsize=10)\n",
    "\n",
    "# setting\n",
    "ax1.set_title('High Frequency Entities')\n",
    "ax1.set_xlabel('Entity Label')\n",
    "ax1.set_ylabel('Average Confidence Score')\n",
    "ax1.set_ylim(0.5, 0.9)\n",
    "ax1.tick_params(axis='x', rotation=45)\n",
    "\n",
    "# low frequency labels\n",
    "bars2 = ax2.bar(label_score_mean_low['label'], \n",
    "               label_score_mean_low['score'],\n",
    "               color='teal')\n",
    "\n",
    "# labeling\n",
    "for bar in bars2:\n",
    "    height = bar.get_height()\n",
    "    ax2.text(bar.get_x() + bar.get_width()/2, height + 0.01,\n",
    "            f'{height:.3f}', ha='center', va='bottom', fontsize=10)\n",
    "\n",
    "# setting\n",
    "ax2.set_title('Low Frequency Entities')\n",
    "ax2.set_xlabel('Entity Label')\n",
    "ax2.set_ylabel('Average Confidence Score')\n",
    "ax2.set_ylim(0.5, 0.9)\n",
    "ax2.tick_params(axis='x', rotation=45)\n",
    "\n",
    "# display\n",
    "plt.tight_layout(rect=[0, 0, 1, 0.96])  # Make room for suptitle\n",
    "plt.show()"
   ]
  },
  {
   "cell_type": "markdown",
   "id": "9e9ef062",
   "metadata": {},
   "source": [
    "Based on these graphs, the lowest confidence score for the high-frequency labels is around 76%, while the highest confidence score for the low-frequency labels is around 82%. This means that even if the label is relatively rare, the confidence score can still be high. Even so, it cannot be a certain that there is no correlation between the label rarity and the confidence score. Therefore, a correlation analysis can be done to further confirm this."
   ]
  },
  {
   "cell_type": "markdown",
   "id": "9b9a6a97",
   "metadata": {},
   "source": [
    "--------\n",
    "## Data Analysis"
   ]
  },
  {
   "cell_type": "markdown",
   "id": "1910a95d",
   "metadata": {},
   "source": [
    "### Q1: Is there a correlation between label frequency and confidence scores?\n",
    "Compare mean confidence scores and label frequency. This is to see if high frequency means high confidence score, or vice versa."
   ]
  },
  {
   "cell_type": "markdown",
   "id": "e48ba0e6",
   "metadata": {},
   "source": [
    "#### Data Preparation"
   ]
  },
  {
   "cell_type": "code",
   "execution_count": 447,
   "id": "c9f47625",
   "metadata": {},
   "outputs": [
    {
     "data": {
      "text/html": [
       "<div>\n",
       "<style scoped>\n",
       "    .dataframe tbody tr th:only-of-type {\n",
       "        vertical-align: middle;\n",
       "    }\n",
       "\n",
       "    .dataframe tbody tr th {\n",
       "        vertical-align: top;\n",
       "    }\n",
       "\n",
       "    .dataframe thead th {\n",
       "        text-align: right;\n",
       "    }\n",
       "</style>\n",
       "<table border=\"1\" class=\"dataframe\">\n",
       "  <thead>\n",
       "    <tr style=\"text-align: right;\">\n",
       "      <th></th>\n",
       "      <th>start</th>\n",
       "      <th>end</th>\n",
       "      <th>text</th>\n",
       "      <th>label</th>\n",
       "      <th>score</th>\n",
       "    </tr>\n",
       "  </thead>\n",
       "  <tbody>\n",
       "    <tr>\n",
       "      <th>0</th>\n",
       "      <td>6</td>\n",
       "      <td>9</td>\n",
       "      <td>jkm</td>\n",
       "      <td>ORG</td>\n",
       "      <td>0.951072</td>\n",
       "    </tr>\n",
       "    <tr>\n",
       "      <th>1</th>\n",
       "      <td>60</td>\n",
       "      <td>75</td>\n",
       "      <td>utusan malaysia</td>\n",
       "      <td>ORG</td>\n",
       "      <td>0.684363</td>\n",
       "    </tr>\n",
       "    <tr>\n",
       "      <th>2</th>\n",
       "      <td>76</td>\n",
       "      <td>82</td>\n",
       "      <td>soniia</td>\n",
       "      <td>PERSON</td>\n",
       "      <td>0.960096</td>\n",
       "    </tr>\n",
       "    <tr>\n",
       "      <th>3</th>\n",
       "      <td>94</td>\n",
       "      <td>105</td>\n",
       "      <td>bukit kiara</td>\n",
       "      <td>LOC</td>\n",
       "      <td>0.654027</td>\n",
       "    </tr>\n",
       "    <tr>\n",
       "      <th>4</th>\n",
       "      <td>108</td>\n",
       "      <td>123</td>\n",
       "      <td>utusan malaysia</td>\n",
       "      <td>LOC</td>\n",
       "      <td>0.667498</td>\n",
       "    </tr>\n",
       "  </tbody>\n",
       "</table>\n",
       "</div>"
      ],
      "text/plain": [
       "   start  end             text   label     score\n",
       "0      6    9              jkm     ORG  0.951072\n",
       "1     60   75  utusan malaysia     ORG  0.684363\n",
       "2     76   82           soniia  PERSON  0.960096\n",
       "3     94  105      bukit kiara     LOC  0.654027\n",
       "4    108  123  utusan malaysia     LOC  0.667498"
      ]
     },
     "execution_count": 447,
     "metadata": {},
     "output_type": "execute_result"
    }
   ],
   "source": [
    "# overview\n",
    "df.head()"
   ]
  },
  {
   "cell_type": "code",
   "execution_count": 448,
   "id": "ed7b2d8a",
   "metadata": {},
   "outputs": [
    {
     "name": "stdout",
     "output_type": "stream",
     "text": [
      "          label  frequency  avg_confidence\n",
      "0           ORG       2610        0.753183\n",
      "1        PERSON       2446        0.809588\n",
      "2           LOC       2350        0.774213\n",
      "3         EVENT        744        0.713280\n",
      "4           GPE        560        0.752867\n",
      "5       PRODUCT        553        0.718039\n",
      "6          TIME        515        0.724154\n",
      "7         MONEY        335        0.825081\n",
      "8      QUANTITY        247        0.660391\n",
      "9           LAW        235        0.713552\n",
      "10      PERCENT        116        0.783389\n",
      "11  WORK_OF_ART        113        0.700692\n",
      "12     CARDINAL         60        0.628223\n",
      "13         NORP         28        0.631400\n",
      "14          FAC         16        0.703442\n",
      "15      ORDINAL          2        0.557388\n"
     ]
    }
   ],
   "source": [
    "# get label frequency\n",
    "q1_label = df['label'].value_counts().reset_index()\n",
    "q1_label.columns = ['label', 'frequency']\n",
    "\n",
    "# get mean confidence score\n",
    "q1_conf = df.groupby('label')['score'].mean().reset_index()\n",
    "q1_conf.columns = ['label', 'avg_confidence']\n",
    "\n",
    "# merge these two\n",
    "label_analysis = pd.merge(q1_label, q1_conf, on='label')\n",
    "print(label_analysis)"
   ]
  },
  {
   "cell_type": "markdown",
   "id": "c0eccfa9",
   "metadata": {},
   "source": [
    "#### Correlation Analysis\n",
    "In this analysis, the tests that will be conducted are:\n",
    "1. Pearson correlation - to determine the linear relationship\n",
    "2. Spearman correlation - to determine the monotonic relationship\n",
    "3. Normality  test - to determine if its normally distributed\n",
    "\n",
    "**Null hypothesis:**\\\n",
    "There is a correlation between label frequency and confidence scores.\n",
    "\n",
    "**Alternative hypothesis:**\\\n",
    "There is a correlation between label frequency and confidence scores."
   ]
  },
  {
   "cell_type": "code",
   "execution_count": 449,
   "id": "7b779f20",
   "metadata": {},
   "outputs": [],
   "source": [
    "# pearson\n",
    "pearson_corr, p_value = stats.pearsonr(\n",
    "    label_analysis['frequency'],\n",
    "    label_analysis['avg_confidence']\n",
    ")\n",
    "\n",
    "# spearman\n",
    "spearman_rho, p_spearman = stats.spearmanr(\n",
    "    label_analysis['frequency'],\n",
    "    label_analysis['avg_confidence']\n",
    ")\n",
    "\n",
    "# normality test\n",
    "shapiro_test = stats.shapiro(label_analysis['avg_confidence'])"
   ]
  },
  {
   "cell_type": "code",
   "execution_count": 450,
   "id": "5313b709",
   "metadata": {},
   "outputs": [
    {
     "name": "stdout",
     "output_type": "stream",
     "text": [
      "Spearman rho: 0.694\n",
      "Spearman p: 0.0029\n",
      "\n",
      "Pearson r: 0.528\n",
      "Pearson p: 0.0356\n",
      "\n",
      "Shapiro-Wilk W:0.964\n",
      "Shapiro-Wilk p: 0.7291\n",
      "\n"
     ]
    }
   ],
   "source": [
    "print(f\"Spearman rho: {spearman_rho:.3f}\")\n",
    "print(f\"Spearman p: {p_spearman:.4f}\\n\")\n",
    "print(f\"Pearson r: {pearson_corr:.3f}\")\n",
    "print(f\"Pearson p: {p_value:.4f}\\n\")\n",
    "print(f\"Shapiro-Wilk W:{shapiro_test[0]:.3f}\")\n",
    "print(f\"Shapiro-Wilk p: {shapiro_test[1]:.4f}\\n\")"
   ]
  },
  {
   "cell_type": "markdown",
   "id": "4d3e91d5",
   "metadata": {},
   "source": [
    "Based on these results:\n",
    "* There is a significant (p < 0.05) strong positive monotonic relationship (rho > 0.6). This means that as label frequency increases, confidence scores consistently increase, but not necessarily in a straight-line pattern - Spearman correlation test\n",
    "* There is a significant (p < 0.05) moderate positive linear relationship (r > 0.4, r < 0.6). This means that higher frequency moderately predicts higher confidence in a linear pattern. - Pearson correlation test\n",
    "* Since the rho > r, the monotonic relationship is stronger than the linear relationship. This means that even though higher frequency boosts the confidence score, the boost will decrease with higher frequency.\n",
    "* Since both of these tests are significant, the results are not random.\n",
    "* The data is normally distributed (p > 0.05). - Shapiro-Wilk test\n",
    "\n",
    "Therefore, we reject the null hypothesis.\n",
    "\n",
    "For fine-tuning, training data that focuses on the low-frequency labels can be used for augmentation."
   ]
  },
  {
   "cell_type": "code",
   "execution_count": 451,
   "id": "4896a4d3",
   "metadata": {},
   "outputs": [
    {
     "data": {
      "text/html": [
       "<div>\n",
       "<style scoped>\n",
       "    .dataframe tbody tr th:only-of-type {\n",
       "        vertical-align: middle;\n",
       "    }\n",
       "\n",
       "    .dataframe tbody tr th {\n",
       "        vertical-align: top;\n",
       "    }\n",
       "\n",
       "    .dataframe thead th {\n",
       "        text-align: right;\n",
       "    }\n",
       "</style>\n",
       "<table border=\"1\" class=\"dataframe\">\n",
       "  <thead>\n",
       "    <tr style=\"text-align: right;\">\n",
       "      <th></th>\n",
       "      <th>start</th>\n",
       "      <th>end</th>\n",
       "      <th>text</th>\n",
       "      <th>label</th>\n",
       "      <th>score</th>\n",
       "    </tr>\n",
       "  </thead>\n",
       "  <tbody>\n",
       "    <tr>\n",
       "      <th>10</th>\n",
       "      <td>270</td>\n",
       "      <td>275</td>\n",
       "      <td>dodol</td>\n",
       "      <td>PRODUCT</td>\n",
       "      <td>0.927344</td>\n",
       "    </tr>\n",
       "    <tr>\n",
       "      <th>13</th>\n",
       "      <td>327</td>\n",
       "      <td>338</td>\n",
       "      <td>penghasilan</td>\n",
       "      <td>PRODUCT</td>\n",
       "      <td>0.572161</td>\n",
       "    </tr>\n",
       "    <tr>\n",
       "      <th>14</th>\n",
       "      <td>339</td>\n",
       "      <td>346</td>\n",
       "      <td>makanan</td>\n",
       "      <td>PRODUCT</td>\n",
       "      <td>0.838477</td>\n",
       "    </tr>\n",
       "    <tr>\n",
       "      <th>15</th>\n",
       "      <td>347</td>\n",
       "      <td>355</td>\n",
       "      <td>malaysia</td>\n",
       "      <td>GPE</td>\n",
       "      <td>0.913236</td>\n",
       "    </tr>\n",
       "    <tr>\n",
       "      <th>16</th>\n",
       "      <td>379</td>\n",
       "      <td>387</td>\n",
       "      <td>malaysia</td>\n",
       "      <td>GPE</td>\n",
       "      <td>0.738333</td>\n",
       "    </tr>\n",
       "  </tbody>\n",
       "</table>\n",
       "</div>"
      ],
      "text/plain": [
       "    start  end         text    label     score\n",
       "10    270  275        dodol  PRODUCT  0.927344\n",
       "13    327  338  penghasilan  PRODUCT  0.572161\n",
       "14    339  346      makanan  PRODUCT  0.838477\n",
       "15    347  355     malaysia      GPE  0.913236\n",
       "16    379  387     malaysia      GPE  0.738333"
      ]
     },
     "execution_count": 451,
     "metadata": {},
     "output_type": "execute_result"
    }
   ],
   "source": [
    "# filter low-frequency labels in main dataset\n",
    "q1_low_full = df[df['label'].isin(low_label)]\n",
    "q1_low_full.head()"
   ]
  },
  {
   "cell_type": "markdown",
   "id": "948c4351",
   "metadata": {},
   "source": [
    "### Q2: Are low-confidence predictions correlated with rare texts?\n",
    "Compare word frequency between low-scoring entities and high-scoring ones.\n",
    "1. get word frequency\n",
    "2. determine word rarity\n",
    "3. get confidence score\n",
    "4. determine low confidence score\n",
    "3. visualize"
   ]
  },
  {
   "cell_type": "markdown",
   "id": "fa2c7cc5",
   "metadata": {},
   "source": [
    "#### Data Preparation"
   ]
  },
  {
   "cell_type": "code",
   "execution_count": 452,
   "id": "3ae8990a",
   "metadata": {},
   "outputs": [
    {
     "data": {
      "text/html": [
       "<div>\n",
       "<style scoped>\n",
       "    .dataframe tbody tr th:only-of-type {\n",
       "        vertical-align: middle;\n",
       "    }\n",
       "\n",
       "    .dataframe tbody tr th {\n",
       "        vertical-align: top;\n",
       "    }\n",
       "\n",
       "    .dataframe thead th {\n",
       "        text-align: right;\n",
       "    }\n",
       "</style>\n",
       "<table border=\"1\" class=\"dataframe\">\n",
       "  <thead>\n",
       "    <tr style=\"text-align: right;\">\n",
       "      <th></th>\n",
       "      <th>start</th>\n",
       "      <th>end</th>\n",
       "      <th>text</th>\n",
       "      <th>label</th>\n",
       "      <th>score</th>\n",
       "    </tr>\n",
       "  </thead>\n",
       "  <tbody>\n",
       "    <tr>\n",
       "      <th>0</th>\n",
       "      <td>6</td>\n",
       "      <td>9</td>\n",
       "      <td>jkm</td>\n",
       "      <td>ORG</td>\n",
       "      <td>0.951072</td>\n",
       "    </tr>\n",
       "    <tr>\n",
       "      <th>1</th>\n",
       "      <td>60</td>\n",
       "      <td>75</td>\n",
       "      <td>utusan malaysia</td>\n",
       "      <td>ORG</td>\n",
       "      <td>0.684363</td>\n",
       "    </tr>\n",
       "    <tr>\n",
       "      <th>2</th>\n",
       "      <td>76</td>\n",
       "      <td>82</td>\n",
       "      <td>soniia</td>\n",
       "      <td>PERSON</td>\n",
       "      <td>0.960096</td>\n",
       "    </tr>\n",
       "    <tr>\n",
       "      <th>3</th>\n",
       "      <td>94</td>\n",
       "      <td>105</td>\n",
       "      <td>bukit kiara</td>\n",
       "      <td>LOC</td>\n",
       "      <td>0.654027</td>\n",
       "    </tr>\n",
       "    <tr>\n",
       "      <th>4</th>\n",
       "      <td>108</td>\n",
       "      <td>123</td>\n",
       "      <td>utusan malaysia</td>\n",
       "      <td>LOC</td>\n",
       "      <td>0.667498</td>\n",
       "    </tr>\n",
       "  </tbody>\n",
       "</table>\n",
       "</div>"
      ],
      "text/plain": [
       "   start  end             text   label     score\n",
       "0      6    9              jkm     ORG  0.951072\n",
       "1     60   75  utusan malaysia     ORG  0.684363\n",
       "2     76   82           soniia  PERSON  0.960096\n",
       "3     94  105      bukit kiara     LOC  0.654027\n",
       "4    108  123  utusan malaysia     LOC  0.667498"
      ]
     },
     "execution_count": 452,
     "metadata": {},
     "output_type": "execute_result"
    }
   ],
   "source": [
    "# overview\n",
    "df.head()"
   ]
  },
  {
   "cell_type": "code",
   "execution_count": 453,
   "id": "e73967e9",
   "metadata": {},
   "outputs": [
    {
     "name": "stdout",
     "output_type": "stream",
     "text": [
      "                                     text  frequency  avg_confidence\n",
      "0                         utusan malaysia        221        0.711736\n",
      "1                            kuala lumpur        194        0.875981\n",
      "2                                malaysia        166        0.758173\n",
      "3                                   polis         92        0.776340\n",
      "4                           petaling jaya         75        0.740504\n",
      "...                                   ...        ...             ...\n",
      "5014               jabatan mufti selangor          1        0.713606\n",
      "5015  jabatan pendakwaan syariah selangor          1        0.790919\n",
      "5016   jabatan kehakiman syariah selangor          1        0.784152\n",
      "5017               lembaga zakat selangor          1        0.789090\n",
      "5018                     suhairi sulaiman          1        0.916645\n",
      "\n",
      "[5019 rows x 3 columns]\n"
     ]
    }
   ],
   "source": [
    "# get text frequency\n",
    "q2_text = df['text'].value_counts().reset_index()\n",
    "q2_text.columns = ['text', 'frequency']\n",
    "\n",
    "# get mean confidence score\n",
    "q2_conf = df.groupby('text')['score'].mean().reset_index()\n",
    "q2_conf.columns = ['text', 'avg_confidence']\n",
    "\n",
    "# merge these two\n",
    "text_analysis = pd.merge(q2_text, q2_conf, on='text')\n",
    "print(text_analysis)"
   ]
  },
  {
   "cell_type": "markdown",
   "id": "79f6b28d",
   "metadata": {},
   "source": [
    "Since this analysis involves a large number of rows (>5000), a different approach will be taken to study the correlation."
   ]
  },
  {
   "cell_type": "markdown",
   "id": "25ff0c5c",
   "metadata": {},
   "source": [
    "#### Correlation Analysis\n",
    "In this analysis, the tests that will be conducted are:\n",
    "1. \n",
    "2. \n",
    "3. \n",
    "\n",
    "**Null hypothesis:**\\\n",
    "There is a correlation between text frequency and confidence scores.\n",
    "\n",
    "**Alternative hypothesis:**\\\n",
    "There is a correlation between text frequency and confidence scores."
   ]
  },
  {
   "cell_type": "code",
   "execution_count": null,
   "id": "6265e27c",
   "metadata": {},
   "outputs": [
    {
     "name": "stdout",
     "output_type": "stream",
     "text": [
      "Anderson-Darling: A²=38.126\n",
      "Critical values: [0.576 0.655 0.786 0.917 1.091]\n"
     ]
    },
    {
     "data": {
      "image/png": "[encoded data removed]",
      "text/plain": [
       "<Figure size 640x480 with 1 Axes>"
      ]
     },
     "metadata": {},
     "output_type": "display_data"
    },
    {
     "name": "stdout",
     "output_type": "stream",
     "text": [
      "K-S Test: D=0.692, p=0.0000\n"
     ]
    }
   ],
   "source": [
    "# 1. Anderson-Darling Test (better for large N)\n",
    "anderson_test = stats.anderson(text_analysis['avg_confidence'], dist='norm')\n",
    "print(f\"Anderson-Darling: A²={anderson_test.statistic:.3f}\")\n",
    "print(\"Critical values:\", anderson_test.critical_values)\n",
    "\n",
    "# 2. Visual Normality Check (QQ-Plot)\n",
    "import statsmodels.api as sm\n",
    "sm.qqplot(text_analysis['avg_confidence'], line='s')\n",
    "plt.title('Normality Q-Q Plot (N=5019)')\n",
    "plt.show()\n",
    "\n",
    "# 3. Kolmogorov-Smirnov Test\n",
    "ks_stat, ks_p = stats.kstest(text_analysis['avg_confidence'], 'norm')\n",
    "print(f\"K-S Test: D={ks_stat:.3f}, p={ks_p:.4f}\")"
   ]
  },
  {
   "cell_type": "code",
   "execution_count": 460,
   "id": "ddd01861",
   "metadata": {},
   "outputs": [
    {
     "data": {
      "image/png": "[encoded data removed]",
      "text/plain": [
       "<Figure size 1000x600 with 2 Axes>"
      ]
     },
     "metadata": {},
     "output_type": "display_data"
    }
   ],
   "source": [
    "# Hexbin plot for large dataset\n",
    "plt.figure(figsize=(10, 6))\n",
    "plt.hexbin(\n",
    "    x=text_analysis['frequency'],\n",
    "    y=text_analysis['avg_confidence'],\n",
    "    gridsize=30,\n",
    "    cmap='viridis',\n",
    "    bins='log'\n",
    ")\n",
    "plt.colorbar(label='Log10(Count)')\n",
    "plt.title('Text Frequency vs. Confidence (N=5019)')\n",
    "plt.xlabel('Text Frequency')\n",
    "plt.ylabel('Average Confidence')\n",
    "plt.show()"
   ]
  },
  {
   "cell_type": "markdown",
   "id": "f617cb2b",
   "metadata": {},
   "source": [
    "### Q3: Do certain entity types show systematic confidence patterns?\n",
    "Analyze score distributions per label type (e.g., TIME vs. LOC) using box plots or violin plots."
   ]
  },
  {
   "cell_type": "code",
   "execution_count": null,
   "id": "81cb7f8f",
   "metadata": {},
   "outputs": [],
   "source": []
  },
  {
   "cell_type": "markdown",
   "id": "374aa5df",
   "metadata": {},
   "source": [
    "### Q4: Is confidence score correlated with word length or complexity?\n",
    "Compute correlation between entity string length/number of tokens and confidence scores."
   ]
  },
  {
   "cell_type": "code",
   "execution_count": null,
   "id": "639d178a",
   "metadata": {},
   "outputs": [],
   "source": []
  },
  {
   "cell_type": "markdown",
   "id": "0386109d",
   "metadata": {},
   "source": [
    "### Q5: Does context window size affect confidence?\n",
    "Examine scores relative to entity position in sentence (beginning, middle, end)."
   ]
  },
  {
   "cell_type": "code",
   "execution_count": null,
   "id": "f133ab61",
   "metadata": {},
   "outputs": [],
   "source": []
  }
 ],
 "metadata": {
  "kernelspec": {
   "display_name": "Python 3",
   "language": "python",
   "name": "python3"
  },
  "language_info": {
   "codemirror_mode": {
    "name": "ipython",
    "version": 3
   },
   "file_extension": ".py",
   "mimetype": "text/x-python",
   "name": "python",
   "nbconvert_exporter": "python",
   "pygments_lexer": "ipython3",
   "version": "3.12.1"
  }
 },
 "nbformat": 4,
 "nbformat_minor": 5
}
