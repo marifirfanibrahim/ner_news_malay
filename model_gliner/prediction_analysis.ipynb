{
 "cells": [
  {
   "cell_type": "markdown",
   "id": "4605d53f",
   "metadata": {},
   "source": [
    "# Poor Confidence Analysis\n",
    "This analysis aims to improve the NER model by studying the predictions done by the model. This is done firstly by identifying the weakness or limitations discovered from the prediction results. So, by looking at the outputs, the confidence score can be the area of focus for this analysis.\n",
    "\n",
    "The idea of this analysis is to find out if the low confidence scores are justifiable. For example, is the confidence score related to the volume of the dataset, frequency of the labels, or word rarity?\n",
    "\n",
    "This can be determined by answering these questions:\n",
    "1. Is there a correlation between label frequency and confidence scores?\n",
    "2. Are low-confidence predictions associated with rare vocabulary?\n",
    "3. Do certain entity types show systematic confidence patterns?\n",
    "4. Is confidence score correlated with word length or complexity?\n",
    "5. Does context window size affect confidence?\n",
    "\n",
    "Based on these questions, \n",
    "\n",
    "* If low scores correlate with rare labels: Augment training data for underrepresented classes\n",
    "* If low scores correlate with rare words: Add domain-specific vocabulary for training \n",
    "* If low scores are consistent with certain label group: Review annotation\n",
    "* If low scores are consistent with longer words/phrase: Review span detection\n",
    "* If low scores cluster in specific positions: Review context window\n",
    "\n",
    "If all are unclear: Review model architecture or hyperparameter tuning"
   ]
  },
  {
   "cell_type": "markdown",
   "id": "797ab93f",
   "metadata": {},
   "source": [
    "------\n",
    "## Data Preparation"
   ]
  },
  {
   "cell_type": "markdown",
   "id": "8b68ae5b",
   "metadata": {},
   "source": [
    "### Import Libraries"
   ]
  },
  {
   "cell_type": "code",
   "execution_count": null,
   "id": "0450434e",
   "metadata": {},
   "outputs": [],
   "source": [
    "import pandas as pd\n",
    "import matplotlib.pyplot as plt\n",
    "import seaborn as sns\n",
    "from scipy import stats             # correlation"
   ]
  },
  {
   "cell_type": "markdown",
   "id": "b61a2b2f",
   "metadata": {},
   "source": [
    "### Load Dataset"
   ]
  },
  {
   "cell_type": "code",
   "execution_count": 137,
   "id": "7b4ba800",
   "metadata": {},
   "outputs": [
    {
     "data": {
      "text/html": [
       "<div>\n",
       "<style scoped>\n",
       "    .dataframe tbody tr th:only-of-type {\n",
       "        vertical-align: middle;\n",
       "    }\n",
       "\n",
       "    .dataframe tbody tr th {\n",
       "        vertical-align: top;\n",
       "    }\n",
       "\n",
       "    .dataframe thead th {\n",
       "        text-align: right;\n",
       "    }\n",
       "</style>\n",
       "<table border=\"1\" class=\"dataframe\">\n",
       "  <thead>\n",
       "    <tr style=\"text-align: right;\">\n",
       "      <th></th>\n",
       "      <th>start</th>\n",
       "      <th>end</th>\n",
       "      <th>text</th>\n",
       "      <th>label</th>\n",
       "      <th>score</th>\n",
       "    </tr>\n",
       "  </thead>\n",
       "  <tbody>\n",
       "    <tr>\n",
       "      <th>0</th>\n",
       "      <td>0</td>\n",
       "      <td>13</td>\n",
       "      <td>ahli parlimen</td>\n",
       "      <td>PERSON</td>\n",
       "      <td>0.646612</td>\n",
       "    </tr>\n",
       "    <tr>\n",
       "      <th>1</th>\n",
       "      <td>14</td>\n",
       "      <td>18</td>\n",
       "      <td>umno</td>\n",
       "      <td>ORG</td>\n",
       "      <td>0.919545</td>\n",
       "    </tr>\n",
       "    <tr>\n",
       "      <th>2</th>\n",
       "      <td>44</td>\n",
       "      <td>59</td>\n",
       "      <td>utusan malaysia</td>\n",
       "      <td>ORG</td>\n",
       "      <td>0.676499</td>\n",
       "    </tr>\n",
       "    <tr>\n",
       "      <th>3</th>\n",
       "      <td>101</td>\n",
       "      <td>114</td>\n",
       "      <td>korea selatan</td>\n",
       "      <td>LOC</td>\n",
       "      <td>0.768719</td>\n",
       "    </tr>\n",
       "    <tr>\n",
       "      <th>4</th>\n",
       "      <td>115</td>\n",
       "      <td>126</td>\n",
       "      <td>kementerian</td>\n",
       "      <td>ORG</td>\n",
       "      <td>0.922510</td>\n",
       "    </tr>\n",
       "  </tbody>\n",
       "</table>\n",
       "</div>"
      ],
      "text/plain": [
       "   start  end             text   label     score\n",
       "0      0   13    ahli parlimen  PERSON  0.646612\n",
       "1     14   18             umno     ORG  0.919545\n",
       "2     44   59  utusan malaysia     ORG  0.676499\n",
       "3    101  114    korea selatan     LOC  0.768719\n",
       "4    115  126      kementerian     ORG  0.922510"
      ]
     },
     "execution_count": 137,
     "metadata": {},
     "output_type": "execute_result"
    }
   ],
   "source": [
    "# load csv\n",
    "df = pd.read_csv('results_main.csv')\n",
    "df.head()"
   ]
  },
  {
   "cell_type": "code",
   "execution_count": 179,
   "id": "c5e693f8",
   "metadata": {},
   "outputs": [
    {
     "data": {
      "text/plain": [
       "<bound method DataFrame.info of        start     end                 text    label     score\n",
       "0          0      13        ahli parlimen   PERSON  0.646612\n",
       "1         14      18                 umno      ORG  0.919545\n",
       "2         44      59      utusan malaysia      ORG  0.676499\n",
       "3        101     114        korea selatan      LOC  0.768719\n",
       "4        115     126          kementerian      ORG  0.922510\n",
       "...      ...     ...                  ...      ...       ...\n",
       "7225  370638  370644               negara      LOC  0.810654\n",
       "7226  370646  370657          johor bahru      LOC  0.759652\n",
       "7227  370744  370753            singapura      LOC  0.734750\n",
       "7228  370789  370808  minyak petrol ron95  PRODUCT  0.777760\n",
       "7229  370846  370851                johor      LOC  0.838383\n",
       "\n",
       "[7230 rows x 5 columns]>"
      ]
     },
     "execution_count": 179,
     "metadata": {},
     "output_type": "execute_result"
    }
   ],
   "source": [
    "df.info"
   ]
  },
  {
   "cell_type": "markdown",
   "id": "9b9a6a97",
   "metadata": {},
   "source": [
    "--------\n",
    "## Data Analysis"
   ]
  },
  {
   "cell_type": "markdown",
   "id": "1910a95d",
   "metadata": {},
   "source": [
    "### Q1: Is there a correlation between label frequency and confidence scores?\n",
    "Compare confidence scores of high-frequency labels and low-frequency labels.\n",
    "1. get label distribution\n",
    "2. set high-frequency labels\n",
    "3. set low-frequency labels\n",
    "4. visualize on confidence score \n",
    "5. make a rough comparison\n",
    "6. perform correlation analysis"
   ]
  },
  {
   "cell_type": "markdown",
   "id": "c443f2c9",
   "metadata": {},
   "source": [
    "#### Get Label Distribution"
   ]
  },
  {
   "cell_type": "code",
   "execution_count": 138,
   "id": "505ba411",
   "metadata": {},
   "outputs": [
    {
     "data": {
      "text/html": [
       "<div>\n",
       "<style scoped>\n",
       "    .dataframe tbody tr th:only-of-type {\n",
       "        vertical-align: middle;\n",
       "    }\n",
       "\n",
       "    .dataframe tbody tr th {\n",
       "        vertical-align: top;\n",
       "    }\n",
       "\n",
       "    .dataframe thead th {\n",
       "        text-align: right;\n",
       "    }\n",
       "</style>\n",
       "<table border=\"1\" class=\"dataframe\">\n",
       "  <thead>\n",
       "    <tr style=\"text-align: right;\">\n",
       "      <th></th>\n",
       "      <th>text</th>\n",
       "      <th>label</th>\n",
       "    </tr>\n",
       "  </thead>\n",
       "  <tbody>\n",
       "    <tr>\n",
       "      <th>0</th>\n",
       "      <td>ahli parlimen</td>\n",
       "      <td>PERSON</td>\n",
       "    </tr>\n",
       "    <tr>\n",
       "      <th>1</th>\n",
       "      <td>umno</td>\n",
       "      <td>ORG</td>\n",
       "    </tr>\n",
       "    <tr>\n",
       "      <th>2</th>\n",
       "      <td>utusan malaysia</td>\n",
       "      <td>ORG</td>\n",
       "    </tr>\n",
       "    <tr>\n",
       "      <th>3</th>\n",
       "      <td>korea selatan</td>\n",
       "      <td>LOC</td>\n",
       "    </tr>\n",
       "    <tr>\n",
       "      <th>4</th>\n",
       "      <td>kementerian</td>\n",
       "      <td>ORG</td>\n",
       "    </tr>\n",
       "  </tbody>\n",
       "</table>\n",
       "</div>"
      ],
      "text/plain": [
       "              text   label\n",
       "0    ahli parlimen  PERSON\n",
       "1             umno     ORG\n",
       "2  utusan malaysia     ORG\n",
       "3    korea selatan     LOC\n",
       "4      kementerian     ORG"
      ]
     },
     "execution_count": 138,
     "metadata": {},
     "output_type": "execute_result"
    }
   ],
   "source": [
    "# drop start, end, and score columns\n",
    "q1 = df.drop(['start', 'end', 'score'], axis = 1)\n",
    "q1.head()"
   ]
  },
  {
   "cell_type": "code",
   "execution_count": 139,
   "id": "0e2c9f87",
   "metadata": {},
   "outputs": [
    {
     "data": {
      "text/html": [
       "<div>\n",
       "<style scoped>\n",
       "    .dataframe tbody tr th:only-of-type {\n",
       "        vertical-align: middle;\n",
       "    }\n",
       "\n",
       "    .dataframe tbody tr th {\n",
       "        vertical-align: top;\n",
       "    }\n",
       "\n",
       "    .dataframe thead th {\n",
       "        text-align: right;\n",
       "    }\n",
       "</style>\n",
       "<table border=\"1\" class=\"dataframe\">\n",
       "  <thead>\n",
       "    <tr style=\"text-align: right;\">\n",
       "      <th></th>\n",
       "      <th>text</th>\n",
       "      <th>label</th>\n",
       "    </tr>\n",
       "  </thead>\n",
       "  <tbody>\n",
       "    <tr>\n",
       "      <th>0</th>\n",
       "      <td>ahli parlimen</td>\n",
       "      <td>PERSON</td>\n",
       "    </tr>\n",
       "    <tr>\n",
       "      <th>1</th>\n",
       "      <td>umno</td>\n",
       "      <td>ORG</td>\n",
       "    </tr>\n",
       "    <tr>\n",
       "      <th>2</th>\n",
       "      <td>utusan malaysia</td>\n",
       "      <td>ORG</td>\n",
       "    </tr>\n",
       "    <tr>\n",
       "      <th>3</th>\n",
       "      <td>korea selatan</td>\n",
       "      <td>LOC</td>\n",
       "    </tr>\n",
       "    <tr>\n",
       "      <th>4</th>\n",
       "      <td>kementerian</td>\n",
       "      <td>ORG</td>\n",
       "    </tr>\n",
       "  </tbody>\n",
       "</table>\n",
       "</div>"
      ],
      "text/plain": [
       "              text   label\n",
       "0    ahli parlimen  PERSON\n",
       "1             umno     ORG\n",
       "2  utusan malaysia     ORG\n",
       "3    korea selatan     LOC\n",
       "4      kementerian     ORG"
      ]
     },
     "execution_count": 139,
     "metadata": {},
     "output_type": "execute_result"
    }
   ],
   "source": [
    "# normalize text\n",
    "q1['text'] = q1['text'].str.lower()\n",
    "q1.head()"
   ]
  },
  {
   "cell_type": "code",
   "execution_count": 140,
   "id": "61ccbe48",
   "metadata": {},
   "outputs": [
    {
     "data": {
      "text/html": [
       "<div>\n",
       "<style scoped>\n",
       "    .dataframe tbody tr th:only-of-type {\n",
       "        vertical-align: middle;\n",
       "    }\n",
       "\n",
       "    .dataframe tbody tr th {\n",
       "        vertical-align: top;\n",
       "    }\n",
       "\n",
       "    .dataframe thead th {\n",
       "        text-align: right;\n",
       "    }\n",
       "</style>\n",
       "<table border=\"1\" class=\"dataframe\">\n",
       "  <thead>\n",
       "    <tr style=\"text-align: right;\">\n",
       "      <th></th>\n",
       "      <th>text</th>\n",
       "      <th>label</th>\n",
       "    </tr>\n",
       "  </thead>\n",
       "  <tbody>\n",
       "    <tr>\n",
       "      <th>0</th>\n",
       "      <td>ahli parlimen</td>\n",
       "      <td>PERSON</td>\n",
       "    </tr>\n",
       "    <tr>\n",
       "      <th>1</th>\n",
       "      <td>umno</td>\n",
       "      <td>ORG</td>\n",
       "    </tr>\n",
       "    <tr>\n",
       "      <th>2</th>\n",
       "      <td>utusan malaysia</td>\n",
       "      <td>ORG</td>\n",
       "    </tr>\n",
       "    <tr>\n",
       "      <th>3</th>\n",
       "      <td>korea selatan</td>\n",
       "      <td>LOC</td>\n",
       "    </tr>\n",
       "    <tr>\n",
       "      <th>4</th>\n",
       "      <td>kementerian</td>\n",
       "      <td>ORG</td>\n",
       "    </tr>\n",
       "  </tbody>\n",
       "</table>\n",
       "</div>"
      ],
      "text/plain": [
       "              text   label\n",
       "0    ahli parlimen  PERSON\n",
       "1             umno     ORG\n",
       "2  utusan malaysia     ORG\n",
       "3    korea selatan     LOC\n",
       "4      kementerian     ORG"
      ]
     },
     "execution_count": 140,
     "metadata": {},
     "output_type": "execute_result"
    }
   ],
   "source": [
    "# duplicates\n",
    "q1.drop_duplicates().head()"
   ]
  },
  {
   "cell_type": "code",
   "execution_count": 153,
   "id": "e7b7288e",
   "metadata": {},
   "outputs": [
    {
     "data": {
      "text/plain": [
       "label\n",
       "ORG            1720\n",
       "PERSON         1671\n",
       "LOC            1539\n",
       "EVENT           478\n",
       "TIME            385\n",
       "GPE             354\n",
       "PRODUCT         313\n",
       "MONEY           230\n",
       "QUANTITY        173\n",
       "LAW             145\n",
       "WORK_OF_ART      83\n",
       "PERCENT          66\n",
       "CARDINAL         40\n",
       "NORP             19\n",
       "FAC              12\n",
       "ORDINAL           2\n",
       "Name: count, dtype: int64"
      ]
     },
     "execution_count": 153,
     "metadata": {},
     "output_type": "execute_result"
    }
   ],
   "source": [
    "# label distribution\n",
    "q1['label'].value_counts()"
   ]
  },
  {
   "cell_type": "code",
   "execution_count": 142,
   "id": "d2eb42d3",
   "metadata": {},
   "outputs": [
    {
     "data": {
      "image/png": "[encoded data removed]",
      "text/plain": [
       "<Figure size 1800x500 with 1 Axes>"
      ]
     },
     "metadata": {},
     "output_type": "display_data"
    }
   ],
   "source": [
    "# visualize\n",
    "label_freq = q1['label'].value_counts().index\n",
    "\n",
    "plt.figure(figsize=(18,5))\n",
    "sns.countplot(x=q1['label'],data=q1, order=label_freq)\n",
    "plt.xticks(rotation=45)\n",
    "plt.show()"
   ]
  },
  {
   "cell_type": "markdown",
   "id": "48bfd543",
   "metadata": {},
   "source": [
    "From this graph, it is safe assume that the high-frequency labels are the 3 highest, while the others are teh low-frequency labels."
   ]
  },
  {
   "cell_type": "markdown",
   "id": "e2fa0479",
   "metadata": {},
   "source": [
    "#### Get High and Low Frequency Labels"
   ]
  },
  {
   "cell_type": "code",
   "execution_count": 143,
   "id": "68e894a0",
   "metadata": {},
   "outputs": [
    {
     "data": {
      "text/html": [
       "<div>\n",
       "<style scoped>\n",
       "    .dataframe tbody tr th:only-of-type {\n",
       "        vertical-align: middle;\n",
       "    }\n",
       "\n",
       "    .dataframe tbody tr th {\n",
       "        vertical-align: top;\n",
       "    }\n",
       "\n",
       "    .dataframe thead th {\n",
       "        text-align: right;\n",
       "    }\n",
       "</style>\n",
       "<table border=\"1\" class=\"dataframe\">\n",
       "  <thead>\n",
       "    <tr style=\"text-align: right;\">\n",
       "      <th></th>\n",
       "      <th>start</th>\n",
       "      <th>end</th>\n",
       "      <th>text</th>\n",
       "      <th>label</th>\n",
       "      <th>score</th>\n",
       "    </tr>\n",
       "  </thead>\n",
       "  <tbody>\n",
       "    <tr>\n",
       "      <th>0</th>\n",
       "      <td>0</td>\n",
       "      <td>13</td>\n",
       "      <td>ahli parlimen</td>\n",
       "      <td>PERSON</td>\n",
       "      <td>0.646612</td>\n",
       "    </tr>\n",
       "    <tr>\n",
       "      <th>1</th>\n",
       "      <td>14</td>\n",
       "      <td>18</td>\n",
       "      <td>umno</td>\n",
       "      <td>ORG</td>\n",
       "      <td>0.919545</td>\n",
       "    </tr>\n",
       "    <tr>\n",
       "      <th>2</th>\n",
       "      <td>44</td>\n",
       "      <td>59</td>\n",
       "      <td>utusan malaysia</td>\n",
       "      <td>ORG</td>\n",
       "      <td>0.676499</td>\n",
       "    </tr>\n",
       "    <tr>\n",
       "      <th>3</th>\n",
       "      <td>101</td>\n",
       "      <td>114</td>\n",
       "      <td>korea selatan</td>\n",
       "      <td>LOC</td>\n",
       "      <td>0.768719</td>\n",
       "    </tr>\n",
       "    <tr>\n",
       "      <th>4</th>\n",
       "      <td>115</td>\n",
       "      <td>126</td>\n",
       "      <td>kementerian</td>\n",
       "      <td>ORG</td>\n",
       "      <td>0.922510</td>\n",
       "    </tr>\n",
       "  </tbody>\n",
       "</table>\n",
       "</div>"
      ],
      "text/plain": [
       "   start  end             text   label     score\n",
       "0      0   13    ahli parlimen  PERSON  0.646612\n",
       "1     14   18             umno     ORG  0.919545\n",
       "2     44   59  utusan malaysia     ORG  0.676499\n",
       "3    101  114    korea selatan     LOC  0.768719\n",
       "4    115  126      kementerian     ORG  0.922510"
      ]
     },
     "execution_count": 143,
     "metadata": {},
     "output_type": "execute_result"
    }
   ],
   "source": [
    "# overview\n",
    "df.head()"
   ]
  },
  {
   "cell_type": "code",
   "execution_count": 144,
   "id": "f249e7a3",
   "metadata": {},
   "outputs": [
    {
     "data": {
      "text/html": [
       "<div>\n",
       "<style scoped>\n",
       "    .dataframe tbody tr th:only-of-type {\n",
       "        vertical-align: middle;\n",
       "    }\n",
       "\n",
       "    .dataframe tbody tr th {\n",
       "        vertical-align: top;\n",
       "    }\n",
       "\n",
       "    .dataframe thead th {\n",
       "        text-align: right;\n",
       "    }\n",
       "</style>\n",
       "<table border=\"1\" class=\"dataframe\">\n",
       "  <thead>\n",
       "    <tr style=\"text-align: right;\">\n",
       "      <th></th>\n",
       "      <th>label</th>\n",
       "      <th>score</th>\n",
       "    </tr>\n",
       "  </thead>\n",
       "  <tbody>\n",
       "    <tr>\n",
       "      <th>0</th>\n",
       "      <td>PERSON</td>\n",
       "      <td>0.646612</td>\n",
       "    </tr>\n",
       "    <tr>\n",
       "      <th>1</th>\n",
       "      <td>ORG</td>\n",
       "      <td>0.919545</td>\n",
       "    </tr>\n",
       "    <tr>\n",
       "      <th>2</th>\n",
       "      <td>ORG</td>\n",
       "      <td>0.676499</td>\n",
       "    </tr>\n",
       "    <tr>\n",
       "      <th>3</th>\n",
       "      <td>LOC</td>\n",
       "      <td>0.768719</td>\n",
       "    </tr>\n",
       "    <tr>\n",
       "      <th>4</th>\n",
       "      <td>ORG</td>\n",
       "      <td>0.922510</td>\n",
       "    </tr>\n",
       "  </tbody>\n",
       "</table>\n",
       "</div>"
      ],
      "text/plain": [
       "    label     score\n",
       "0  PERSON  0.646612\n",
       "1     ORG  0.919545\n",
       "2     ORG  0.676499\n",
       "3     LOC  0.768719\n",
       "4     ORG  0.922510"
      ]
     },
     "execution_count": 144,
     "metadata": {},
     "output_type": "execute_result"
    }
   ],
   "source": [
    "# drop columns\n",
    "q1 = df.drop(['start','end','text'], axis=1)\n",
    "q1.head()"
   ]
  },
  {
   "cell_type": "code",
   "execution_count": 145,
   "id": "0a228731",
   "metadata": {},
   "outputs": [
    {
     "data": {
      "text/plain": [
       "array(['PERSON', 'ORG', 'LOC', 'PRODUCT', 'QUANTITY', 'EVENT', 'GPE',\n",
       "       'CARDINAL', 'TIME', 'LAW', 'MONEY', 'PERCENT', 'WORK_OF_ART',\n",
       "       'NORP', 'FAC', 'ORDINAL'], dtype=object)"
      ]
     },
     "execution_count": 145,
     "metadata": {},
     "output_type": "execute_result"
    }
   ],
   "source": [
    "# list labels\n",
    "q1['label'].unique()"
   ]
  },
  {
   "cell_type": "code",
   "execution_count": 146,
   "id": "8fb593c4",
   "metadata": {},
   "outputs": [],
   "source": [
    "# split into higher and lower frequency groups\n",
    "high_label = ['PERSON','ORG','LOC']\n",
    "low_label = ['PRODUCT', 'QUANTITY', 'EVENT', 'GPE',\n",
    "       'CARDINAL', 'TIME', 'LAW', 'MONEY', 'PERCENT', 'WORK_OF_ART',\n",
    "       'NORP', 'FAC', 'ORDINAL']\n",
    "\n",
    "q1_high = q1[q1['label'].isin(high_label)]\n",
    "q1_low = q1[q1['label'].isin(low_label)]"
   ]
  },
  {
   "cell_type": "markdown",
   "id": "25fbf9ca",
   "metadata": {},
   "source": [
    "#### Visualize on Confidence Score"
   ]
  },
  {
   "cell_type": "code",
   "execution_count": null,
   "id": "f6716778",
   "metadata": {},
   "outputs": [],
   "source": [
    "# get mean score\n",
    "label_score_mean_high = q1_high.groupby('label')['score'].mean().reset_index()\n",
    "label_score_mean_low = q1_low.groupby('label')['score'].mean().reset_index()"
   ]
  },
  {
   "cell_type": "code",
   "execution_count": 148,
   "id": "010be65a",
   "metadata": {},
   "outputs": [],
   "source": [
    "# sort mean score\n",
    "label_score_mean_high = label_score_mean_high.sort_values('score', ascending=False)\n",
    "label_score_mean_low = label_score_mean_low.sort_values('score', ascending=False)"
   ]
  },
  {
   "cell_type": "code",
   "execution_count": 149,
   "id": "ba11fb29",
   "metadata": {},
   "outputs": [
    {
     "data": {
      "image/png": "[encoded data removed]",
      "text/plain": [
       "<Figure size 2000x800 with 2 Axes>"
      ]
     },
     "metadata": {},
     "output_type": "display_data"
    }
   ],
   "source": [
    "# visualize\n",
    "fig, (ax1, ax2) = plt.subplots(1, 2, figsize=(20, 8))\n",
    "\n",
    "# high frequency labels\n",
    "bars1 = ax1.bar(label_score_mean_high['label'], \n",
    "               label_score_mean_high['score'],\n",
    "               color='green')\n",
    "\n",
    "# labeling\n",
    "for bar in bars1:\n",
    "    height = bar.get_height()\n",
    "    ax1.text(bar.get_x() + bar.get_width()/2, height + 0.01,\n",
    "            f'{height:.3f}', ha='center', va='bottom', fontsize=10)\n",
    "\n",
    "# setting\n",
    "ax1.set_title('High Frequency Entities')\n",
    "ax1.set_xlabel('Entity Label')\n",
    "ax1.set_ylabel('Average Confidence Score')\n",
    "ax1.set_ylim(0.5, 0.9)\n",
    "ax1.tick_params(axis='x', rotation=45)\n",
    "\n",
    "# low frequency labels\n",
    "bars2 = ax2.bar(label_score_mean_low['label'], \n",
    "               label_score_mean_low['score'],\n",
    "               color='teal')\n",
    "\n",
    "# labeling\n",
    "for bar in bars2:\n",
    "    height = bar.get_height()\n",
    "    ax2.text(bar.get_x() + bar.get_width()/2, height + 0.01,\n",
    "            f'{height:.3f}', ha='center', va='bottom', fontsize=10)\n",
    "\n",
    "# setting\n",
    "ax2.set_title('Low Frequency Entities')\n",
    "ax2.set_xlabel('Entity Label')\n",
    "ax2.set_ylabel('Average Confidence Score')\n",
    "ax2.set_ylim(0.5, 0.9)\n",
    "ax2.tick_params(axis='x', rotation=45)\n",
    "\n",
    "# display\n",
    "plt.tight_layout(rect=[0, 0, 1, 0.96])  # Make room for suptitle\n",
    "plt.show()"
   ]
  },
  {
   "cell_type": "markdown",
   "id": "9e9ef062",
   "metadata": {},
   "source": [
    "Based on these graphs, the lowest confidence score for the high-frequency labels is around 76%, while the highest confidence score for the low-frequency labels is around 82%. This means that even if the label is relatively rare, the confidence score can still be high. Even so, it cannot be a certain that there is no correlation between the label rarity and the confidence score. Therefore, a correlation analysis can be done to further confirm this."
   ]
  },
  {
   "cell_type": "markdown",
   "id": "80830dd2",
   "metadata": {},
   "source": [
    "#### Perform Correlation Analysis"
   ]
  },
  {
   "cell_type": "code",
   "execution_count": 164,
   "id": "ecc0ea5f",
   "metadata": {},
   "outputs": [],
   "source": [
    "# get label frequency\n",
    "label_freq = q1['label'].value_counts().reset_index()\n",
    "label_freq.columns = ['label', 'frequency']\n",
    "\n",
    "# get mean confidence score\n",
    "label_confidence = q1.groupby('label')['score'].mean().reset_index()\n",
    "label_confidence.columns = ['label', 'avg_confidence']\n",
    "\n",
    "# merge these two\n",
    "label_analysis = pd.merge(label_freq, label_confidence, on='label')"
   ]
  },
  {
   "cell_type": "code",
   "execution_count": null,
   "id": "5e546a70",
   "metadata": {},
   "outputs": [
    {
     "name": "stdout",
     "output_type": "stream",
     "text": [
      "Pearson Correlation Coefficient: 0.520\n",
      "P-value: 0.0389\n",
      "\n",
      "Moderate correlation (positive) relationship between label frequency and confidence scores\n",
      "This relationship is statistically significant (p = 0.0389)\n",
      "Consider augmenting training data for low-frequency labels\n"
     ]
    }
   ],
   "source": [
    "# pearson correlation\n",
    "pearson_corr, p_value = stats.pearsonr(\n",
    "    label_analysis['frequency'],\n",
    "    label_analysis['avg_confidence']\n",
    ")\n",
    "\n",
    "print(f\"Pearson Correlation Coefficient: {pearson_corr:.3f}\")\n",
    "print(f\"P-value: {p_value:.4f}\")\n",
    "\n",
    "# interpretation\n",
    "abs_corr = abs(pearson_corr)\n",
    "if abs_corr >= 0.9:\n",
    "    strength = \"Very strong correlation\"\n",
    "elif abs_corr >= 0.7:\n",
    "    strength = \"Strong correlation\"\n",
    "elif abs_corr >= 0.5:\n",
    "    strength = \"Moderate correlation\"\n",
    "elif abs_corr >= 0.3:\n",
    "    strength = \"Weak correlation\"\n",
    "else:\n",
    "    strength = \"Very weak correlation\"\n",
    "\n",
    "direction = \"positive\" if pearson_corr > 0 else \"negative\"\n",
    "\n",
    "# inference\n",
    "significance = \"statistically significant\" if p_value < 0.05 else \"not statistically significant\"\n",
    "\n",
    "print(f\"\\n{strength} ({direction}) relationship between label frequency and confidence scores\")\n",
    "print(f\"This relationship is {significance} (p = {p_value:.4f})\")\n",
    "\n",
    "if p_value < 0.05:\n",
    "    if pearson_corr > 0.3:\n",
    "        print(\"Consider augmenting training data for low-frequency labels\")\n",
    "    elif pearson_corr < -0.3:\n",
    "        print(\"Investigate potential data quality issues with common labels\")\n",
    "    else:\n",
    "        print(\"Action: Focus on other factors like context or word complexity\")\n",
    "else:\n",
    "    print(\"Confidence scores likely depend on other factors beyond label frequency\")"
   ]
  },
  {
   "cell_type": "markdown",
   "id": "948c4351",
   "metadata": {},
   "source": [
    "### Q2: Are low-confidence predictions associated with rare vocabulary?\n",
    "Compare word frequency between low-scoring entities and high-scoring ones.\n",
    "1. get word frequency\n",
    "2. get confidence score\n",
    "3. visualize and compare"
   ]
  },
  {
   "cell_type": "code",
   "execution_count": null,
   "id": "2b1bbc55",
   "metadata": {},
   "outputs": [],
   "source": []
  },
  {
   "cell_type": "markdown",
   "id": "f617cb2b",
   "metadata": {},
   "source": [
    "### Q3: Do certain entity types show systematic confidence patterns?\n",
    "Analyze score distributions per label type (e.g., TIME vs. LOC) using box plots or violin plots."
   ]
  },
  {
   "cell_type": "code",
   "execution_count": null,
   "id": "81cb7f8f",
   "metadata": {},
   "outputs": [],
   "source": []
  },
  {
   "cell_type": "markdown",
   "id": "374aa5df",
   "metadata": {},
   "source": [
    "### Q4: Is confidence score correlated with word length or complexity?\n",
    "Compute correlation between entity string length/number of tokens and confidence scores."
   ]
  },
  {
   "cell_type": "code",
   "execution_count": null,
   "id": "639d178a",
   "metadata": {},
   "outputs": [],
   "source": []
  },
  {
   "cell_type": "markdown",
   "id": "0386109d",
   "metadata": {},
   "source": [
    "### Q5: Does context window size affect confidence?\n",
    "Examine scores relative to entity position in sentence (beginning, middle, end)."
   ]
  },
  {
   "cell_type": "code",
   "execution_count": null,
   "id": "f133ab61",
   "metadata": {},
   "outputs": [],
   "source": []
  }
 ],
 "metadata": {
  "kernelspec": {
   "display_name": "Python 3",
   "language": "python",
   "name": "python3"
  },
  "language_info": {
   "codemirror_mode": {
    "name": "ipython",
    "version": 3
   },
   "file_extension": ".py",
   "mimetype": "text/x-python",
   "name": "python",
   "nbconvert_exporter": "python",
   "pygments_lexer": "ipython3",
   "version": "3.12.1"
  }
 },
 "nbformat": 4,
 "nbformat_minor": 5
}
