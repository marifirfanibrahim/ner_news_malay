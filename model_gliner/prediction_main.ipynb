{
 "cells": [
  {
   "cell_type": "code",
   "execution_count": 6,
   "id": "1798bd65",
   "metadata": {},
   "outputs": [],
   "source": [
    "from gliner import GLiNER\n",
    "\n",
    "import glob\n",
    "import os\n",
    "import pandas as pd"
   ]
  },
  {
   "cell_type": "code",
   "execution_count": 7,
   "id": "14e9901b",
   "metadata": {},
   "outputs": [
    {
     "name": "stderr",
     "output_type": "stream",
     "text": [
      "Fetching 4 files: 100%|██████████| 4/4 [00:00<00:00, 44384.17it/s]\n",
      "/usr/local/python/3.12.1/lib/python3.12/site-packages/transformers/convert_slow_tokenizer.py:564: UserWarning: The sentencepiece tokenizer that you are converting to a fast tokenizer uses the byte fallback option which is not implemented in the fast tokenizers. In practice this means that the fast version of the tokenizer can produce unknown tokens whereas the sentencepiece version would have converted these unknown tokens into a sequence of byte tokens matching the original piece of text.\n",
      "  warnings.warn(\n"
     ]
    }
   ],
   "source": [
    "model = GLiNER.from_pretrained(\"urchade/gliner_multi\")"
   ]
  },
  {
   "cell_type": "code",
   "execution_count": 8,
   "id": "8bc94add",
   "metadata": {},
   "outputs": [],
   "source": [
    "# get news data (parquet file)\n",
    "news_folder = '/workspaces/ner_news_malay/model_gliner'\n",
    "parquet_files = glob.glob(os.path.join(news_folder, '*.parquet'))"
   ]
  },
  {
   "cell_type": "code",
   "execution_count": 9,
   "id": "108af78c",
   "metadata": {},
   "outputs": [],
   "source": [
    "# extract text from files\n",
    "corpus_text = []\n",
    "for file_path in parquet_files:\n",
    "    try:\n",
    "        df = pd.read_parquet(file_path)\n",
    "        corpus_text.extend(df['Title'].dropna().str.lower().tolist())\n",
    "        corpus_text.extend(df['Summary'].dropna().str.lower().tolist())\n",
    "    except Exception as e:\n",
    "        print(f\"error processing {file_path}: {str(e)}\")"
   ]
  },
  {
   "cell_type": "code",
   "execution_count": 10,
   "id": "433b8dcb",
   "metadata": {},
   "outputs": [
    {
     "name": "stdout",
     "output_type": "stream",
     "text": [
      "Corpus size: 930 sentences\n"
     ]
    }
   ],
   "source": [
    "# save corpus to text file\n",
    "corpus_file = '/workspaces/ner_news_malay/model_gliner/malay_news_corpus.txt'\n",
    "\n",
    "with open(corpus_file, 'w', encoding='utf-8') as f:\n",
    "    for text in corpus_text:\n",
    "        f.write(text + '\\n')\n",
    "print(f\"Corpus size: {len(corpus_text)} sentences\")"
   ]
  },
  {
   "cell_type": "code",
   "execution_count": null,
   "id": "fb25d0ed",
   "metadata": {},
   "outputs": [],
   "source": []
  }
 ],
 "metadata": {
  "kernelspec": {
   "display_name": "Python 3",
   "language": "python",
   "name": "python3"
  },
  "language_info": {
   "codemirror_mode": {
    "name": "ipython",
    "version": 3
   },
   "file_extension": ".py",
   "mimetype": "text/x-python",
   "name": "python",
   "nbconvert_exporter": "python",
   "pygments_lexer": "ipython3",
   "version": "3.12.1"
  }
 },
 "nbformat": 4,
 "nbformat_minor": 5
}
