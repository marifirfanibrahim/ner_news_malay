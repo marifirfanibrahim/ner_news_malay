{
 "cells": [
  {
   "cell_type": "markdown",
   "id": "cee5de1f",
   "metadata": {},
   "source": [
    "**Tokenization:**\n",
    "The input text is first broken down into individual words or subword units, known as tokens. This is the foundational step for all subsequent text processing.\n",
    "\n",
    "**Part-of-Speech (POS) Tagging (Optional but common):**\n",
    "While not strictly part of the core NER task, POS tagging can provide valuable contextual information to the NER model, helping it to distinguish between words that might have multiple meanings or roles.\n",
    "\n",
    "**Named Entity Recognition Model Application:**\n",
    "This is the core of the pipeline, where a trained model (e.g., a rule-based system, a statistical model like Conditional Random Fields, or a deep learning model like Bi-LSTM-CRF or Transformer-based models) analyzes the tokens and their context to identify and classify named entities. This step often uses techniques like the IOB (Inside, Outside, Beginning) scheme to tag tokens as part of an entity and indicate their position within it.\n",
    "\n",
    "**Entity Extraction and Categorization:**\n",
    "Once the model has identified and tagged the entities, they are extracted from the text and assigned their respective categories (e.g., PERSON, ORG, LOC).\n",
    "\n",
    "**Post-processing (Optional):**\n",
    "Further steps might involve resolving ambiguities, linking entities to knowledge bases, or normalizing different forms of the same entity."
   ]
  },
  {
   "cell_type": "code",
   "execution_count": null,
   "id": "f65f320f",
   "metadata": {},
   "outputs": [],
   "source": []
  }
 ],
 "metadata": {
  "kernelspec": {
   "display_name": "Python 3",
   "language": "python",
   "name": "python3"
  },
  "language_info": {
   "codemirror_mode": {
    "name": "ipython",
    "version": 3
   },
   "file_extension": ".py",
   "mimetype": "text/x-python",
   "name": "python",
   "nbconvert_exporter": "python",
   "pygments_lexer": "ipython3",
   "version": "3.12.1"
  }
 },
 "nbformat": 4,
 "nbformat_minor": 5
}
